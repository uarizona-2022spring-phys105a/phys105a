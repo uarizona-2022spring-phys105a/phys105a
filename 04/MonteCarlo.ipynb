{
 "cells": [
  {
   "cell_type": "markdown",
   "id": "capable-insulin",
   "metadata": {
    "slideshow": {
     "slide_type": "slide"
    }
   },
   "source": [
    "## PHYS 105A:  Introduction to Scientific Computing\n",
    "\n",
    "# Random Numbers and Monte Carlo Methods\n",
    "\n",
    "Chi-kwan Chan"
   ]
  },
  {
   "cell_type": "markdown",
   "id": "taken-industry",
   "metadata": {
    "slideshow": {
     "slide_type": "slide"
    }
   },
   "source": [
    "* In physical science, students very often start with the concept that everything can be done exactly and deterministically.\n",
    "\n",
    "* This can be one of the biggest misconcept!\n",
    "\n",
    "* Many physical processes are non-deterministic by nature.  Examples include:\n",
    "  * Radioactive decay\n",
    "  * Quantum mechanics\n",
    "\n",
    "* Sometime, even when the governing equaitons are deterministic, the results are still non-deterministic.  Examples include:\n",
    "  * 3-body problem\n",
    "  * Brownian motion\n",
    "  * Thermal noise\n",
    "\n",
    "* Therefore, we need some way to model these non-deterministic systems with computers."
   ]
  },
  {
   "cell_type": "markdown",
   "id": "plain-float",
   "metadata": {
    "slideshow": {
     "slide_type": "slide"
    }
   },
   "source": [
    "* For electronic computers, all operations are deterministic.\n",
    "\n",
    "* Nevertheless, we can approximate random processes by *pseudo* random number generators.\n",
    "\n",
    "* These pseudo random number generators can then be used to model non-deterministic systems.\n",
    "\n",
    "* In addition, people started to realize that introducing randomness can still be a very powerful numerical method even for deterministic problems!  Applications include\n",
    "  * Numerical integration of high-dimensional space\n",
    "  * Statistical inference\n",
    "\n",
    "* This results in a large number of random-number-based numerical methods."
   ]
  },
  {
   "cell_type": "markdown",
   "id": "accessory-broadway",
   "metadata": {
    "slideshow": {
     "slide_type": "slide"
    }
   },
   "source": [
    "* Monte Carlo is an area of Monaco well known for its world-famous Place du Casino.\n",
    "\n",
    "* Monte Carlo methods are used to refer to random number based numerical methods.\n",
    "\n",
    "![Monte Carlo](https://upload.wikimedia.org/wikipedia/commons/1/1b/Monaco_pano.jpg)"
   ]
  }
 ],
 "metadata": {
  "celltoolbar": "Slideshow",
  "kernelspec": {
   "display_name": "Python 3 (ipykernel)",
   "language": "python",
   "name": "python3"
  },
  "language_info": {
   "codemirror_mode": {
    "name": "ipython",
    "version": 3
   },
   "file_extension": ".py",
   "mimetype": "text/x-python",
   "name": "python",
   "nbconvert_exporter": "python",
   "pygments_lexer": "ipython3",
   "version": "3.9.10"
  }
 },
 "nbformat": 4,
 "nbformat_minor": 5
}
