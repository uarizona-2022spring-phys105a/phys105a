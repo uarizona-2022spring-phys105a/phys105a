{
 "cells": [
  {
   "cell_type": "markdown",
   "id": "specialized-domain",
   "metadata": {
    "slideshow": {
     "slide_type": "slide"
    }
   },
   "source": [
    "## PHYS 105A:  Introduction to Scientific Computing\n",
    "\n",
    "# The C programming language\n",
    "\n",
    "Chi-kwan Chan"
   ]
  },
  {
   "cell_type": "code",
   "execution_count": 1,
   "id": "rough-legislature",
   "metadata": {
    "slideshow": {
     "slide_type": "slide"
    }
   },
   "outputs": [
    {
     "name": "stdout",
     "output_type": "stream",
     "text": [
      "CPU times: user 40.5 s, sys: 409 ms, total: 41 s\n",
      "Wall time: 40.2 s\n"
     ]
    }
   ],
   "source": [
    "%%time\n",
    "# %%time is a feature provided by iPython to measure the execution time\n",
    "# of a cell. Python comes with a built-in module for that, timeit.\n",
    "\n",
    "\n",
    "# What we did last time... how long does this piece of code take to run?\n",
    "\n",
    "import random as rnd\n",
    "from matplotlib import pyplot as plt\n",
    "\n",
    "def randomwalk(n_steps=1000):\n",
    "    X = [0] # initial position\n",
    "    \n",
    "    for t in range(n_steps):\n",
    "        last = X[-1]            # last position\n",
    "        r    = rnd.randint(0,1) # we generate 0 or 1 randomly\n",
    "        if r == 0:              # depending on r, we step left or right\n",
    "            curr = last + 1\n",
    "        else:\n",
    "            curr = last - 1    \n",
    "        X.append(curr)          # append the current position to the list X\n",
    "        \n",
    "    return X                    # return the result\n",
    "\n",
    "n_trials = 100\n",
    "T = range(1, 1000+1)\n",
    "D = []\n",
    "for t in T:  # M = 0; M += m ...; M /= N  => mean of m\n",
    "    M = 0\n",
    "    for trial in range(n_trials):\n",
    "        X  = randomwalk(t)\n",
    "        M += abs(X[-1])\n",
    "    M /= n_trials\n",
    "    D.append(M)"
   ]
  },
  {
   "cell_type": "code",
   "execution_count": 2,
   "id": "studied-pension",
   "metadata": {
    "slideshow": {
     "slide_type": "slide"
    }
   },
   "outputs": [
    {
     "data": {
      "text/plain": [
       "[<matplotlib.lines.Line2D at 0x110917220>]"
      ]
     },
     "execution_count": 2,
     "metadata": {},
     "output_type": "execute_result"
    },
    {
     "data": {
      "image/png": "[encoded data removed]",
      "text/plain": [
       "<Figure size 432x288 with 1 Axes>"
      ]
     },
     "metadata": {
      "needs_background": "light"
     },
     "output_type": "display_data"
    }
   ],
   "source": [
    "plt.loglog(T, D)\n",
    "plt.plot(T, [t**0.5 for t in T]) # y = sqrt(x)"
   ]
  },
  {
   "cell_type": "markdown",
   "id": "direct-desert",
   "metadata": {
    "slideshow": {
     "slide_type": "slide"
    }
   },
   "source": [
    "## Performance\n",
    "\n",
    "* When we sovled the random walk and Brownian motion problems last time, or compute $\\pi$ and try to study its convergnece rate, our computers didn't give us the answer immediate.\n",
    "\n",
    "* This was a pretty simple problem... why did it take so long?\n",
    "\n",
    "* One of the reasons is that we use python.\n",
    "\n",
    "* Python, being an interpreted lagnauge, is slow in nature.\n",
    "\n",
    "* Because one of the goals of this course is to see many many tools---so let us try to implement the same problem in a compiled langauge!"
   ]
  },
  {
   "cell_type": "markdown",
   "id": "behavioral-glucose",
   "metadata": {
    "slideshow": {
     "slide_type": "slide"
    }
   },
   "source": [
    "## Which Language to Choose?\n",
    "\n",
    "* In the second lecture, we had a quick introduction to the Unix/Linux operating systems.  And we saw these two gentlemen: Ken Thompson and Dennis Ritchie.\n",
    "\n",
    "* In those early day, one thing that made Unix stood out from its competitors was that it was developed in a \"high level programming language\" C.  Dennis Ritchie is actually the inventor of C.\n",
    "\n",
    "* The popularity and power of Unix and C go hand-in-hand.\n",
    "\n",
    "* Even C was invented in 1972 (50 years ago!), it is still the [*SECOND POPULAR* programming language](https://www.tiobe.com/tiobe-index/) today!\n",
    "\n",
    "* It's very inferential and its syntax shows up in many modern laguages such as C++, Go, Rust, etc.\n",
    "\n",
    "![Ken Thompson and Dennis Ritchie](https://upload.wikimedia.org/wikipedia/commons/1/1b/Ken_Thompson_and_Dennis_Ritchie--1973.jpg \"Ken Thompson and Dennis Ritchie\")"
   ]
  },
  {
   "cell_type": "markdown",
   "id": "structured-brighton",
   "metadata": {
    "slideshow": {
     "slide_type": "slide"
    }
   },
   "source": [
    "# The C Programming Language\n",
    "\n",
    "![C](https://encrypted-tbn0.gstatic.com/images?q=tbn:ANd9GcQay_31fsabgktZbn76EtixolthTffPuHhTNMTX7782iZ9oJz8Z)"
   ]
  },
  {
   "cell_type": "markdown",
   "id": "chemical-coupon",
   "metadata": {
    "slideshow": {
     "slide_type": "slide"
    }
   },
   "source": [
    "## Compiler\n",
    "\n",
    "* First thing to know, C is a compiled language.  You need a *compiler* to use it.\n",
    "\n",
    "* A compiler is a program that translate your program from human readable source codes into machine readable executables.\n",
    "\n",
    "* On Unix/Linux/Mac, the most popular choices are `gcc` and `clang`.\n",
    "\n",
    "* On Windows, you may use:\n",
    "  * C/C++ for Visual Studio Code: https://code.visualstudio.com/docs/languages/cpp\n",
    "  * Visual Studio Community Edition: https://visualstudio.microsoft.com/downloads/\n",
    "  * Tiny C Compiler: https://bellard.org/tcc/\n",
    "  * GCC: https://gcc.gnu.org/install/binaries.html\n",
    "  * The Linux compilers in WSL"
   ]
  },
  {
   "cell_type": "markdown",
   "id": "extensive-adaptation",
   "metadata": {
    "slideshow": {
     "slide_type": "slide"
    }
   },
   "source": [
    "## Hello World in C\n",
    "\n",
    "* The following is the text inside a plan text file with \".c\" extension, e.g., \"hw.c\"\n",
    "\n",
    "      #include <stdio.h> /* I/O is not built-in to the language; include standard library */\n",
    "      int main()         /* a program always uses `main` as an entry point */\n",
    "      {\n",
    "        printf(\"Hello World!\\n\"); /* use \"format-print\" for output */\n",
    "        return 0;                 /* the standard is to return 0 from main if no error */\n",
    "      }\n",
    "        \n",
    "* Running \"hw.c\" does not work.  You need to first compile it:\n",
    "\n",
    "      gcc hw.c -o hw.exe\n",
    "      \n",
    "  the above command would compile the \"hw.c\" program into the executable \"hw.exe\".  The \".exe\" extension is optional on Unix/Linux.\n",
    "\n",
    "* Now you can run the program by:\n",
    "\n",
    "      ./hw.exe\n",
    "  \n",
    "  which outputs \"Hello World!\""
   ]
  },
  {
   "cell_type": "markdown",
   "id": "desperate-gallery",
   "metadata": {
    "slideshow": {
     "slide_type": "slide"
    }
   },
   "source": [
    "## Python vs C\n",
    "\n",
    "Python                     | C\n",
    ":--                        | :--\n",
    "`import package`           | `#include <package.h>` and then link with `gcc ... -lpackage`\n",
    "Dynamic type               | `int`, `double`, `char []`\n",
    "`def func(): ...`          | `double func(double x) {...}`\n",
    "Must use indentation       | Indentation optional; use `{...}` for block\n",
    "New line for new statement | `;` to end a statement\n",
    "`print(x)`                 | `printf(\"%d\\n\", x);`\n",
    "`return x`                 | `return x;`\n",
    "`if x == 1: ... else: ...` | `if (x == 1) {...} else {...}`\n",
    "`for i in range(10): ...`  | `for (int i = 0; i < 10; ++i) {...}`\n",
    "`/` vs `//` for divisions  | `/` behavior depends on type\n",
    "`**` for power             | `#include <math.h>` and then use `pow(x, y)` for power; need to link with `gcc ... -lm`\n",
    "`# ...` for comments       | `/* ... */` or `//...` for comments"
   ]
  },
  {
   "cell_type": "raw",
   "id": "decent-receiver",
   "metadata": {
    "slideshow": {
     "slide_type": "slide"
    }
   },
   "source": [
    "Python                               | C\n",
    "------------------------------------ | -------------------------------------------\n",
    "import random as rnd                 | #include <stdlib.h>\n",
    "from matplotlib import pyplot as plt | #include <stdio.h>\n",
    "                                     |\n",
    "n_trials = 100                       | int n_trials = 100;\n",
    "                                     |\n",
    "def randomwalk(n_steps=1000):        | int randomwalk(int n_steps) {\n",
    "    X = [0] # initial position       |   int X = 0;\n",
    "                                     |\n",
    "    for t in range(n_steps):         |   for (int t = 0; t < n_steps; ++t) {\n",
    "        last = X[-1]                 |     int last = X;\n",
    "                                     |     int curr;\n",
    "        r    = rnd.randint(0,1)      |     int r = rand();\n",
    "        if r == 0:                   |     if (r < RAND_MAX/2)\n",
    "            curr = last + 1          |       curr = last + 1;\n",
    "        else:                        |     else\n",
    "            curr = last - 1          |       curr = last - 1;\n",
    "        X.append(curr)               |     X = curr;\n",
    "                                     |   }\n",
    "    return X                         |   return X;\n",
    "                                     | }\n",
    "T = range(1, 1000+1)                 |\n",
    "D = []                               | int main() {\n",
    "for t in T:                          |   for (int t = 1; t < 1001; ++t) {\n",
    "    M = 0                            |     double M = 0;\n",
    "    for trial in range(n_trials):    |     for (int trial = 0; trial < n_trials; ++trial) {\n",
    "        X  = randomwalk(t)           |       int X = randomwalk(t);\n",
    "        M += abs(X[-1])              |       M += abs(X);\n",
    "                                     |     }\n",
    "    M /= n_trials                    |     M /= n_trials;\n",
    "    D.append(M)                      |     printf(\"%d %g\\n\", t, M);\n",
    "                                     |   }\n",
    "                                     |   return 0;\n",
    "                                     | }"
   ]
  },
  {
   "cell_type": "markdown",
   "id": "solved-vintage",
   "metadata": {
    "slideshow": {
     "slide_type": "slide"
    }
   },
   "source": [
    "* If we save the C code in \"rw.c\", we may compile it in a terminal\n",
    "      gcc rw.c -o rw.exe\n",
    "  or we can use the `make` program to run the `Makefile`:\n",
    "      make\n",
    "\n",
    "* We can now run it as\n",
    "      ./rw.exe\n",
    "      \n",
    "* This will give us a long list of numbers.  We may \"redirect\" it to a text file.  We may also time it.\n",
    "      time ./rw.exe > rw.txt\n",
    "      \n",
    "* We may even ask the compiler to work harder and optimize the code for us!\n",
    "      gcc rw.c -O3 -o rw.exe"
   ]
  },
  {
   "cell_type": "code",
   "execution_count": 3,
   "id": "breeding-independence",
   "metadata": {
    "slideshow": {
     "slide_type": "slide"
    }
   },
   "outputs": [
    {
     "data": {
      "text/plain": [
       "[<matplotlib.lines.Line2D at 0x110bd5d90>]"
      ]
     },
     "execution_count": 3,
     "metadata": {},
     "output_type": "execute_result"
    },
    {
     "data": {
      "image/png": "[encoded data removed]",
      "text/plain": [
       "<Figure size 432x288 with 1 Axes>"
      ]
     },
     "metadata": {
      "needs_background": "light"
     },
     "output_type": "display_data"
    }
   ],
   "source": [
    "# Let's also plot the result\n",
    "\n",
    "from matplotlib import pyplot as plt\n",
    "\n",
    "T, D = [], []\n",
    "with open('rw.txt', 'r') as f:\n",
    "    for line in f:\n",
    "        t, d = line.split()\n",
    "        T.append(int(t))\n",
    "        D.append(float(d))\n",
    "        \n",
    "plt.loglog(T, D)\n",
    "plt.plot(T, [t**0.5 for t in T]) # y = sqrt(x)"
   ]
  },
  {
   "cell_type": "markdown",
   "id": "allied-knight",
   "metadata": {
    "slideshow": {
     "slide_type": "slide"
    }
   },
   "source": [
    "* On my laptop:\n",
    "  * The python code took 50 sec to compute this.\n",
    "  * The C code took 0.25 sec to compute the same thing!\n",
    "  \n",
    "* The C code is 200x faster than our python code!!!\n",
    "\n",
    "* Now imagine you have a scientific simulation that takes a week to run on C.  It will take four years to run if you use pure python!\n",
    "\n",
    "* Know your problem; know your tools; and then decide what to use.\n",
    "\n",
    "* We will learn how to do this fast in python next time."
   ]
  }
 ],
 "metadata": {
  "celltoolbar": "Slideshow",
  "kernelspec": {
   "display_name": "Python 3 (ipykernel)",
   "language": "python",
   "name": "python3"
  },
  "language_info": {
   "codemirror_mode": {
    "name": "ipython",
    "version": 3
   },
   "file_extension": ".py",
   "mimetype": "text/x-python",
   "name": "python",
   "nbconvert_exporter": "python",
   "pygments_lexer": "ipython3",
   "version": "3.9.10"
  }
 },
 "nbformat": 4,
 "nbformat_minor": 5
}
