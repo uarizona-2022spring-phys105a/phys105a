{
 "cells": [
  {
   "cell_type": "markdown",
   "id": "numerical-monthly",
   "metadata": {
    "slideshow": {
     "slide_type": "slide"
    }
   },
   "source": [
    "## PHYS 105A:  Introduction to Scientific Computing\n",
    "\n",
    "# Integration of Differential Equations I\n",
    "\n",
    "Chi-kwan Chan"
   ]
  },
  {
   "cell_type": "markdown",
   "id": "e5e2ecfe-f196-4b49-b54a-016585f06094",
   "metadata": {},
   "source": [
    "## Final Project and End of Semester Planning\n",
    "\n",
    "This class will end within a month.  Let's plan the rest of the class.\n",
    "\n",
    "### Original plan:\n",
    "\n",
    "Date     | ...\n",
    "---      | ---\n",
    "Apr 5th  | #11 ODE1\n",
    "Apr 12th | #12 ODE2 (with assignment)\n",
    "Apr 19th | #13 Quantum computing\n",
    "Apr 26th | #14 Research codes and outlooks\n",
    "May 3rd  | #15 Project presentations (project 2 due)\n",
    "\n",
    "### Possibilities:\n",
    "\n",
    "1. Move project presentation to Apr 26th, do \"research codes and outlooks\" on May 3rd, so students have less pressure near final exams.\n",
    "2. Have a session on machine learning python packages such as `scikit-learn` and `Keras`, and skip quantum computing or reseach codes."
   ]
  },
  {
   "cell_type": "markdown",
   "id": "front-contribution",
   "metadata": {
    "slideshow": {
     "slide_type": "slide"
    }
   },
   "source": [
    "## Importance of Integration in Physics\n",
    "\n",
    "* Physical (dynamic) systems are very often described by ordinary differential equations, examples include Newton's second law:\n",
    "   $f = m a = m \\frac{dx^2}{dt^2}$.\n",
    "   \n",
    "* For fields, their are described by partial differential equations.\n",
    "\n",
    "* In order to predict how physical systems behave, we need to integrate these diffrential equations."
   ]
  },
  {
   "cell_type": "markdown",
   "id": "published-mambo",
   "metadata": {
    "slideshow": {
     "slide_type": "slide"
    }
   },
   "source": [
    "## Problem Definition\n",
    "\n",
    "* Consider the following two problems:\n",
    "\n",
    "  $\\frac{dx}{dt} = f(t)$\n",
    "  \n",
    "  $\\frac{dx}{dt} = f(x, t)$\n",
    "\n",
    "* The **key** different is that the righ hand side (RHS) of the first equation depends only on the independent variable $t$; while the RHS of the second equation depends also on the dependent variable $x$.\n",
    "\n"
   ]
  },
  {
   "cell_type": "markdown",
   "id": "closing-finger",
   "metadata": {
    "slideshow": {
     "slide_type": "slide"
    }
   },
   "source": [
    "## Problem Definition\n",
    "\n",
    "* To solve the first equation, we simply perform:\n",
    "\n",
    "  $x(t) = x(t_0) + \\int_{t_0}^t dt' f(t')$\n",
    "\n",
    "  We covered \"Nmerical Integration of Functions\" in lecture #7.\n",
    "  \n",
    "* Because the RHS depends on $x$, we **CANNOT** do the same for the second equation.\n",
    "\n",
    "  $x(t) = x(t_0) + \\int_{t_0}^t dt' f(x, t')\\ \\ \\ $ [cannot simply integrate because of $x$ on the RHS]\n",
    "\n",
    "  We will learn how to solve for the second equation this time."
   ]
  },
  {
   "cell_type": "markdown",
   "id": "novel-african",
   "metadata": {
    "slideshow": {
     "slide_type": "slide"
    }
   },
   "source": [
    "## Numerical Solution of ODEs: an Integration Strategy\n",
    "\n",
    "* Although analytically carry out\n",
    "\n",
    "  $x(t) = x(t_0) + \\int_{t_0}^t dt' f(x, t')$\n",
    "  \n",
    "  would not work, how bad is it if we think about **Numerical approximation**?\n",
    "  \n",
    "* Specifically, consider $t - t_0$ is small so $x$ does not change much, and hence $f(x, t)$ does not change much?\n",
    "\n",
    "* Then using what we learned from lecture 7,\n",
    "\n",
    "  $\\int_{t_0}^t dt' f(x, t') \\approx f(x(t'), t') (t - t_0)$\n",
    "  \n",
    "  where $t_0 \\lesssim t' \\lesssim t$.\n",
    "  \n",
    "* Choosing $t' = t_0$ corresponds to the *left Riemann sum*.\n",
    "\n",
    "* Choosing $t' = t$ corresponds to the *right Riemann sum*."
   ]
  },
  {
   "cell_type": "markdown",
   "id": "waiting-publication",
   "metadata": {
    "slideshow": {
     "slide_type": "slide"
    }
   },
   "source": [
    "## Numerical Solution of ODEs: an Integration Strategy\n",
    "\n",
    "* Define $\\Delta t \\equiv t - t_0$.\n",
    "\n",
    "* Substitute the above approximation back to the ODE, we have\n",
    "\n",
    "  $x(t) \\approx x(t_0) + f(x(t'), t') \\Delta t$\n",
    "  \n",
    "* In general, we do not know the right hand side because $x(t')$ is unsolved.\n",
    "\n",
    "* However, if we choose $t' = t_0$, i.e., the left Riemann sum, we have\n",
    "\n",
    "  $x(t) \\approx x(t_0) + f(x(t_0), t_0) \\Delta t$\n",
    "  \n",
    "  Then the right hand side is **known**!\n",
    "  \n",
    "* This is called the Euler's method:\n",
    "\n",
    "  $x_{n+1} = x_n + f(x_n, t_n) \\Delta t$"
   ]
  },
  {
   "cell_type": "markdown",
   "id": "occupational-luther",
   "metadata": {
    "slideshow": {
     "slide_type": "slide"
    }
   },
   "source": [
    "## Numerical Solution of ODEs: a Differential Strategy\n",
    "\n",
    "* Alternatively, we may look at the differential equation itself:\n",
    "\n",
    "  $\\frac{dx}{dt} = f(x, t)$\n",
    "  \n",
    "  and consider that differention is a limit:\n",
    "  \n",
    "  $\\left.\\frac{dx}{dt}\\right|_{t_0}\n",
    "  = \\lim_{t \\rightarrow t_0} \\frac{x(t) - x(t_0)}{t - t_0}$\n",
    "  \n",
    "* Using a *finite difference* approximation:\n",
    "\n",
    "  $\\left.\\frac{dx}{dt}\\right|_{t_0}\n",
    "  \\approx \\frac{x(t) - x(t_0)}{t - t_0}$"
   ]
  },
  {
   "cell_type": "markdown",
   "id": "equivalent-forth",
   "metadata": {
    "slideshow": {
     "slide_type": "slide"
    }
   },
   "source": [
    "## Numerical Solution of ODEs: a Differential Strategy\n",
    "  \n",
    "* Therefore,\n",
    "\n",
    "  $\\frac{x(t) - x(t_0)}{t - t_0} \\approx f(x, t)$\n",
    "  \n",
    "  $x(t) \\approx x(t_0) + f(x_0, t_0) \\Delta t$\n",
    " \n",
    "* Which is again our Euler's method:\n",
    "\n",
    "  $x_{n+1} = x_n + f(x_n, t_n) \\Delta t$"
   ]
  },
  {
   "cell_type": "markdown",
   "id": "religious-obligation",
   "metadata": {
    "slideshow": {
     "slide_type": "slide"
    }
   },
   "source": [
    "## Simple Example:\n",
    "\n",
    "* Let's consider solving the simpmle differential equation:\n",
    "\n",
    "  $\\frac{dx}{dt} = x(t)$.\n",
    "  \n",
    "* This equation has the solution $x(t) = e^{t-t_0}$.\n",
    "\n",
    "* If we use the initial condition $x(0) = 1$, the solution reduces to the simple form $x(t) = e^t$."
   ]
  },
  {
   "cell_type": "code",
   "execution_count": 1,
   "id": "valued-title",
   "metadata": {
    "scrolled": true,
    "slideshow": {
     "slide_type": "slide"
    },
    "tags": []
   },
   "outputs": [
    {
     "data": {
      "text/plain": [
       "[<matplotlib.lines.Line2D at 0x14df906d0>]"
      ]
     },
     "execution_count": 1,
     "metadata": {},
     "output_type": "execute_result"
    },
    {
     "data": {
      "image/png": "[encoded data removed]",
      "text/plain": [
       "<Figure size 432x288 with 1 Axes>"
      ]
     },
     "metadata": {
      "needs_background": "light"
     },
     "output_type": "display_data"
    }
   ],
   "source": [
    "# Let's visualize the solution:\n",
    "\n",
    "import numpy as np\n",
    "from matplotlib import pyplot as plt\n",
    "\n",
    "Tp = np.linspace(0, 2, 2001)\n",
    "Xp = np.exp(Tp)\n",
    "\n",
    "plt.plot(Tp, Xp)"
   ]
  },
  {
   "cell_type": "code",
   "execution_count": 2,
   "id": "aboriginal-delaware",
   "metadata": {
    "slideshow": {
     "slide_type": "slide"
    }
   },
   "outputs": [],
   "source": [
    "# Let's implement Euler's method\n",
    "\n",
    "def forwardEuler(f, x, t, dt, n):\n",
    "    T = [t]\n",
    "    X = [x]\n",
    "    for i in range(n):\n",
    "        t += dt\n",
    "        x += f(x) * dt\n",
    "        T.append(t)\n",
    "        X.append(x)\n",
    "    return T, X"
   ]
  },
  {
   "cell_type": "code",
   "execution_count": 3,
   "id": "enabling-freeze",
   "metadata": {
    "slideshow": {
     "slide_type": "slide"
    }
   },
   "outputs": [
    {
     "data": {
      "text/plain": [
       "[<matplotlib.lines.Line2D at 0x14e082c20>]"
      ]
     },
     "execution_count": 3,
     "metadata": {},
     "output_type": "execute_result"
    },
    {
     "data": {
      "image/png": "[encoded data removed]",
      "text/plain": [
       "<Figure size 432x288 with 1 Axes>"
      ]
     },
     "metadata": {
      "needs_background": "light"
     },
     "output_type": "display_data"
    }
   ],
   "source": [
    "# Let's test Euler's method\n",
    "\n",
    "def f(x):\n",
    "    return x\n",
    "\n",
    "T, X = forwardEuler(f, 1, 0, 0.1, 20)\n",
    "\n",
    "plt.plot(Tp, Xp)\n",
    "plt.plot(T,  X, 'o-')"
   ]
  },
  {
   "cell_type": "code",
   "execution_count": 4,
   "id": "documented-horse",
   "metadata": {
    "slideshow": {
     "slide_type": "slide"
    }
   },
   "outputs": [
    {
     "data": {
      "text/plain": [
       "[<matplotlib.lines.Line2D at 0x14e0ff9d0>]"
      ]
     },
     "execution_count": 4,
     "metadata": {},
     "output_type": "execute_result"
    },
    {
     "data": {
      "image/png": "[encoded data removed]",
      "text/plain": [
       "<Figure size 432x288 with 1 Axes>"
      ]
     },
     "metadata": {
      "needs_background": "light"
     },
     "output_type": "display_data"
    }
   ],
   "source": [
    "# The accuracy should increase when we use a small step\n",
    "\n",
    "T, X = forwardEuler(f, 1, 0, 0.01, 200)\n",
    "\n",
    "plt.plot(Tp, Xp)\n",
    "plt.plot(T,  X)"
   ]
  },
  {
   "cell_type": "code",
   "execution_count": 5,
   "id": "sacred-editing",
   "metadata": {
    "slideshow": {
     "slide_type": "slide"
    }
   },
   "outputs": [
    {
     "data": {
      "text/plain": [
       "[<matplotlib.lines.Line2D at 0x14e188e20>]"
      ]
     },
     "execution_count": 5,
     "metadata": {},
     "output_type": "execute_result"
    },
    {
     "data": {
      "image/png": "[encoded data removed]",
      "text/plain": [
       "<Figure size 432x288 with 1 Axes>"
      ]
     },
     "metadata": {
      "needs_background": "light"
     },
     "output_type": "display_data"
    }
   ],
   "source": [
    "# As always, we can study the convergence of the numerical method\n",
    "\n",
    "def error(N=200):\n",
    "    T, X = forwardEuler(f, 1, 0, 2/N, N)\n",
    "    Xp = np.exp(T)\n",
    "    return np.max(abs(X - Xp))\n",
    "\n",
    "N = np.array([64, 128, 256, 512, 1024])\n",
    "E = np.array([error(n) for n in N])\n",
    "\n",
    "plt.loglog(N, 16/N)\n",
    "plt.loglog(N, E, 'o:')"
   ]
  },
  {
   "cell_type": "markdown",
   "id": "drawn-elevation",
   "metadata": {
    "slideshow": {
     "slide_type": "slide"
    }
   },
   "source": [
    "## System of ODEs\n",
    "\n",
    "* Given this is an introduction to computational physics course, we are interested in solving, e.g., Newton's equation:\n",
    "\n",
    "  $m \\frac{d^2 x}{dt^2} = f(x, t)$\n",
    "  \n",
    "* We can trivially cast this second order ODE into a system of two first order ODEs:\n",
    " \n",
    "  $\\frac{dx}{dt} = v$\n",
    "  \n",
    "  $\\frac{dv}{dt} = \\frac{1}{m}f(x, t)$\n",
    "  \n",
    "* Using \"vector\" notation, we define $Y = [x, v]^t$ and $F = [v, f/m]^t$ so that\n",
    " \n",
    "  $\\frac{dY}{dt} = F(Y, t)$."
   ]
  },
  {
   "cell_type": "markdown",
   "id": "detected-queens",
   "metadata": {
    "slideshow": {
     "slide_type": "slide"
    }
   },
   "source": [
    "## Simple Gravity Pendulum\n",
    "\n",
    "![Pendulum](https://upload.wikimedia.org/wikipedia/commons/2/24/Oscillating_pendulum.gif)"
   ]
  },
  {
   "cell_type": "markdown",
   "id": "auburn-kingston",
   "metadata": {
    "slideshow": {
     "slide_type": "slide"
    }
   },
   "source": [
    "## Simple Gravity Pendulum\n",
    "\n",
    "* Equation of motion:\n",
    "\n",
    "  $\\frac{d^2\\theta}{dt^2} + \\frac{g}{l} \\sin\\theta = 0$\n",
    "  \n",
    "* Convert to a system of two first order ODEs:\n",
    "\n",
    "  $\\frac{d\\theta(t)}{dt} = \\Omega(t)$\n",
    "  \n",
    "  $\\frac{d\\Omega(t)}{dt} = - \\frac{g}{l}\\sin\\theta(t)$\n",
    "  \n",
    "* In vector notation:\n",
    "\n",
    "  $\\frac{dY(t)}{dt} = F(Y, t)$\n",
    "  \n",
    "  where $Y = [\\theta(t), \\Omega(t)]^t$ and $F = \\left[\\Omega(t), -\\frac{g}{l}\\sin\\theta(t)\\right]^t$.\n",
    "  \n",
    "* While this is an excellent problem to solve numericallly, the exact solution is difficult to derive. "
   ]
  },
  {
   "cell_type": "markdown",
   "id": "built-earth",
   "metadata": {
    "slideshow": {
     "slide_type": "slide"
    }
   },
   "source": [
    "## Simple Harmonic Oscillator\n",
    "\n",
    "* We may take the limit that $\\theta$ is small so $\\sin\\theta \\approx \\theta$ and first study the simple harmonic oscillator.\n",
    "\n",
    "* Equation of motion:\n",
    "\n",
    "  $\\frac{d^2\\theta}{dt^2} + \\frac{g}{l}\\theta = 0$\n",
    "  \n",
    "* Convert to a system of two first order ODEs:\n",
    "\n",
    "  $\\frac{d\\theta(t)}{dt} = \\Omega(t)$\n",
    "  \n",
    "  $\\frac{d\\Omega(t)}{dt} = - \\frac{g}{l}\\theta(t)$\n",
    "\n",
    "* In vector notation:\n",
    "\n",
    "  $\\frac{dY(t)}{dt} = F(Y, t)$\n",
    "  \n",
    "  where $Y = [\\theta(t), \\Omega(t)]^t$ and $F = \\left[\\Omega(t), -\\frac{g}{l}\\theta(t)\\right]^t$."
   ]
  },
  {
   "cell_type": "code",
   "execution_count": 6,
   "id": "chief-balance",
   "metadata": {
    "slideshow": {
     "slide_type": "slide"
    }
   },
   "outputs": [
    {
     "data": {
      "text/plain": [
       "[<matplotlib.lines.Line2D at 0x14e395120>]"
      ]
     },
     "execution_count": 6,
     "metadata": {},
     "output_type": "execute_result"
    },
    {
     "data": {
      "image/png": "[encoded data removed]",
      "text/plain": [
       "<Figure size 432x288 with 1 Axes>"
      ]
     },
     "metadata": {
      "needs_background": "light"
     },
     "output_type": "display_data"
    }
   ],
   "source": [
    "# Let's first plot the analytical solution\n",
    "\n",
    "Tp     = np.linspace(0, 10, 1001)\n",
    "Thetap = 0.01 * np.sin(Tp)\n",
    "\n",
    "plt.plot(Tp, Thetap)"
   ]
  },
  {
   "cell_type": "code",
   "execution_count": 7,
   "id": "narrow-length",
   "metadata": {
    "slideshow": {
     "slide_type": "slide"
    }
   },
   "outputs": [],
   "source": [
    "# Thanks to operator overriding,\n",
    "# our forward Euler method is almost ready to solve system of ODEs\n",
    "\n",
    "def forwardEuler(f, x, t, dt, n):\n",
    "    T = np.array(t)\n",
    "    X = np.array(x)\n",
    "    for i in range(n):\n",
    "        t += dt\n",
    "        x += np.array(f(*x)) * dt\n",
    "        T = np.append( T, t )\n",
    "        X = np.vstack((X, x))\n",
    "    return T, X"
   ]
  },
  {
   "cell_type": "code",
   "execution_count": 8,
   "id": "funny-macedonia",
   "metadata": {
    "slideshow": {
     "slide_type": "slide"
    }
   },
   "outputs": [
    {
     "data": {
      "text/plain": [
       "[<matplotlib.lines.Line2D at 0x14e3e18a0>]"
      ]
     },
     "execution_count": 8,
     "metadata": {},
     "output_type": "execute_result"
    },
    {
     "data": {
      "image/png": "[encoded data removed]",
      "text/plain": [
       "<Figure size 432x288 with 1 Axes>"
      ]
     },
     "metadata": {
      "needs_background": "light"
     },
     "output_type": "display_data"
    }
   ],
   "source": [
    "# Compare the analytical and numerical solutions\n",
    "\n",
    "def f(theta, omega):\n",
    "    return omega, -theta\n",
    "\n",
    "T, X = forwardEuler(f, (0, 0.01), 0, 0.01, 1000)\n",
    "\n",
    "Theta = X[:,0]\n",
    "Omega = X[:,1]\n",
    "\n",
    "plt.plot(Tp, Thetap)\n",
    "plt.plot(T,  Theta)"
   ]
  },
  {
   "cell_type": "code",
   "execution_count": 9,
   "id": "communist-responsibility",
   "metadata": {
    "slideshow": {
     "slide_type": "slide"
    }
   },
   "outputs": [
    {
     "data": {
      "text/plain": [
       "[<matplotlib.lines.Line2D at 0x14e44c940>]"
      ]
     },
     "execution_count": 9,
     "metadata": {},
     "output_type": "execute_result"
    },
    {
     "data": {
      "image/png": "[encoded data removed]",
      "text/plain": [
       "<Figure size 432x288 with 1 Axes>"
      ]
     },
     "metadata": {
      "needs_background": "light"
     },
     "output_type": "display_data"
    }
   ],
   "source": [
    "# Again, we can study the convergence of the numerical method\n",
    "\n",
    "def error(N=100):\n",
    "    T, X = forwardEuler(f, (0, 0.01), 0, 10/N, N)\n",
    "    Theta  = X[:,0]\n",
    "    Thetap = 0.01 * np.sin(T)\n",
    "    return np.max(abs(Theta - Thetap))\n",
    "\n",
    "N = np.array([64, 128, 256, 512, 1024])\n",
    "E = np.array([error(n) for n in N])\n",
    "\n",
    "plt.loglog(N, 0.5/N)\n",
    "plt.loglog(N, E, 'o:')"
   ]
  },
  {
   "cell_type": "code",
   "execution_count": null,
   "id": "742be9a4-c08b-4dbe-bfd1-944fe3a7ec42",
   "metadata": {},
   "outputs": [],
   "source": []
  }
 ],
 "metadata": {
  "celltoolbar": "Slideshow",
  "kernelspec": {
   "display_name": "Python 3 (ipykernel)",
   "language": "python",
   "name": "python3"
  },
  "language_info": {
   "codemirror_mode": {
    "name": "ipython",
    "version": 3
   },
   "file_extension": ".py",
   "mimetype": "text/x-python",
   "name": "python",
   "nbconvert_exporter": "python",
   "pygments_lexer": "ipython3",
   "version": "3.10.4"
  }
 },
 "nbformat": 4,
 "nbformat_minor": 5
}
