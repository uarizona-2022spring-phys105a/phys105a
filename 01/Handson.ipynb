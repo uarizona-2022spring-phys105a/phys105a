{
 "cells": [
  {
   "cell_type": "markdown",
   "metadata": {
    "slideshow": {
     "slide_type": "slide"
    }
   },
   "source": [
    "## PHYS 105A:  Introduction to Scientific Computing\n",
    "\n",
    "# Hands-on\n",
    "\n",
    "Chi-kwan Chan"
   ]
  },
  {
   "cell_type": "markdown",
   "metadata": {
    "slideshow": {
     "slide_type": "slide"
    }
   },
   "source": [
    "## Sign up for accounts\n",
    "\n",
    "Please sign up an account on GitHub: https://github.com/\n",
    "\n",
    "You will use it to submit your assignments."
   ]
  },
  {
   "cell_type": "markdown",
   "metadata": {
    "slideshow": {
     "slide_type": "slide"
    }
   },
   "source": [
    "## Set up development environment\n",
    "\n",
    "* Terminal/`bash`\n",
    "\n",
    "* `python` and Jupyter Notebook/Lab\n",
    "\n",
    "* `git` and Editors"
   ]
  },
  {
   "cell_type": "markdown",
   "metadata": {
    "slideshow": {
     "slide_type": "slide"
    }
   },
   "source": [
    "## Set up development environment\n",
    "\n",
    "* Windows\n",
    "  * Anaconda: https://www.anaconda.com/products/individual\n",
    "\n",
    "* Mac\n",
    "  * Anaconda: https://www.anaconda.com/products/individual\n",
    "  * Macports: https://www.macports.org/install.php `sudo port selfupdate && sudo port install py38-jupyter`\n",
    "  * Homebew:  https://brew.sh/ `brew install jupyter`\n",
    "\n",
    "* Linux:\n",
    "  * Anaconda: https://www.anaconda.com/products/individual\n",
    "  * apt-get:  `sudo apt update && sudo apt install jupyter-notebook`\n",
    "  \n",
    "* Optionally install RISE: https://rise.readthedocs.io/en/stable/ to play Jupyter Notebooks as Slideshows."
   ]
  },
  {
   "cell_type": "markdown",
   "metadata": {
    "slideshow": {
     "slide_type": "slide"
    }
   },
   "source": [
    "## Set up development environment\n",
    "\n",
    "* `git config --global user.name \"John Doe\"`\n",
    "* `git config --global user.email johndoe@arizona.edu`\n",
    "\n",
    "* Editor\n",
    "  * `vim`\n",
    "  * `emacs`\n",
    "  * VSCode: https://code.visualstudio.com/\n",
    "  * Atom:   https://atom.io/"
   ]
  },
  {
   "cell_type": "markdown",
   "metadata": {
    "slideshow": {
     "slide_type": "slide"
    }
   },
   "source": [
    "## Clone and run hands-on notebook\n",
    "\n",
    "1. In your terminal, clone the course repository:\n",
    "    `git clone git@github.com:uarizona-2021spring-phys105a/phys105a.git`\n",
    "    \n",
    "2. Run this Jupyter Notebook:\n",
    "    `cd phys105a/01; jupyter-notebook Hands-on.ipynb`\n",
    "    \n",
    "3. Run cells in this notebook by pressing shift-enters."
   ]
  },
  {
   "cell_type": "code",
   "execution_count": 12,
   "metadata": {
    "slideshow": {
     "slide_type": "slide"
    }
   },
   "outputs": [
    {
     "name": "stdout",
     "output_type": "stream",
     "text": [
      "print 10\n"
     ]
    },
    {
     "data": {
      "text/plain": [
       "10"
      ]
     },
     "execution_count": 12,
     "metadata": {},
     "output_type": "execute_result"
    }
   ],
   "source": [
    "# There are some sample python codes\n",
    "\n",
    "# In python, lines start with \"#\" are comments and are not executed.\n",
    "# You may use comments to clarify your program.\n",
    "\n",
    "# To assign a numerical value to a python variable, simply:\n",
    "a = 10\n",
    "\n",
    "# In Jupyter notebook, you may use the print function to print a variable.\n",
    "print('print', a)\n",
    "\n",
    "# or, the last value in a cell, if it is not assigned to another variable, will be used as output.\n",
    "a"
   ]
  },
  {
   "cell_type": "code",
   "execution_count": 18,
   "metadata": {
    "slideshow": {
     "slide_type": "slide"
    }
   },
   "outputs": [
    {
     "name": "stdout",
     "output_type": "stream",
     "text": [
      "13\n",
      "7\n",
      "30\n",
      "1000\n"
     ]
    }
   ],
   "source": [
    "# It is straightforward to do math in python.\n",
    "print(a + 3)\n",
    "print(a - 3)\n",
    "print(a * 3)\n",
    "\n",
    "# Power uses two stars, i.e., \"**\"\n",
    "print(a**3)"
   ]
  },
  {
   "cell_type": "code",
   "execution_count": 23,
   "metadata": {
    "slideshow": {
     "slide_type": "slide"
    }
   },
   "outputs": [
    {
     "name": "stdout",
     "output_type": "stream",
     "text": [
      "3.3333333333333335\n",
      "3\n"
     ]
    }
   ],
   "source": [
    "# Divsion is trick... in python3, a \"single\" division is floating point division\n",
    "print(a/3)\n",
    "\n",
    "# But double-division is integer division\n",
    "print(a//3)"
   ]
  },
  {
   "cell_type": "code",
   "execution_count": 31,
   "metadata": {
    "slideshow": {
     "slide_type": "slide"
    }
   },
   "outputs": [
    {
     "name": "stdout",
     "output_type": "stream",
     "text": [
      "3\n"
     ]
    }
   ],
   "source": [
    "# The integer division is logically equivalent to applying a floor function to the floating point division.\n",
    "# However, the floor function is not a default (built-in) function.\n",
    "# You need to import it from the math package:\n",
    "\n",
    "from math import floor\n",
    "\n",
    "print(floor(a/3))"
   ]
  },
  {
   "cell_type": "code",
   "execution_count": 32,
   "metadata": {
    "slideshow": {
     "slide_type": "slide"
    }
   },
   "outputs": [
    {
     "name": "stdout",
     "output_type": "stream",
     "text": [
      "3.141592653589793\n",
      "1.2246467991473532e-16\n",
      "-1.0\n"
     ]
    }
   ],
   "source": [
    "# There are many useful functions and constants in the math package:\n",
    "\n",
    "from math import pi, sin, cos\n",
    "\n",
    "print(pi)\n",
    "print(sin(pi))\n",
    "print(cos(pi))"
   ]
  }
 ],
 "metadata": {
  "celltoolbar": "Slideshow",
  "kernelspec": {
   "display_name": "Python 3 (ipykernel)",
   "language": "python",
   "name": "python3"
  },
  "language_info": {
   "codemirror_mode": {
    "name": "ipython",
    "version": 3
   },
   "file_extension": ".py",
   "mimetype": "text/x-python",
   "name": "python",
   "nbconvert_exporter": "python",
   "pygments_lexer": "ipython3",
   "version": "3.9.9"
  }
 },
 "nbformat": 4,
 "nbformat_minor": 4
}
