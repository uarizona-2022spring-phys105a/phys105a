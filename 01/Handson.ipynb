{
 "cells": [
  {
   "cell_type": "markdown",
   "metadata": {
    "slideshow": {
     "slide_type": "slide"
    }
   },
   "source": [
    "## PHYS 105A:  Introduction to Scientific Computing\n",
    "\n",
    "# Hands-on\n",
    "\n",
    "Chi-kwan Chan"
   ]
  },
  {
   "cell_type": "markdown",
   "metadata": {
    "slideshow": {
     "slide_type": "slide"
    }
   },
   "source": [
    "## Sign up for accounts\n",
    "\n",
    "Please sign up an account on GitHub: https://github.com/\n",
    "\n",
    "You will use it to submit your assignments."
   ]
  },
  {
   "cell_type": "markdown",
   "metadata": {
    "slideshow": {
     "slide_type": "slide"
    }
   },
   "source": [
    "## Set up development environment\n",
    "\n",
    "For the first few classes, you only need to use `bash` and `python` on a Terminal.\n",
    "\n",
    "For Linux and Mac, `bash` is built-in.\n",
    "For windows, you can enable the Windows Subsystem for Linux (WSL) and then install Ubuntu.\n",
    "See, e.g., [this page](https://ubuntu.com/wsl) for installation instructions.\n",
    "\n",
    "We also suggest using [Anaconda](https://www.anaconda.com/products/individual) to get `python` and related packages:\n",
    "\n",
    "* Windows\n",
    "  * Anaconda: https://www.anaconda.com/products/individual\n",
    "\n",
    "* Mac\n",
    "  * Anaconda: https://www.anaconda.com/products/individual\n",
    "  * Macports: https://www.macports.org/install.php `sudo port selfupdate && sudo port install py38-jupyter`\n",
    "  * Homebew:  https://brew.sh/ `brew install jupyter`\n",
    "\n",
    "* Linux:\n",
    "  * Anaconda: https://www.anaconda.com/products/individual\n",
    "  * apt-get:  `sudo apt update && sudo apt install jupyter-notebook`\n",
    "  \n",
    "* Optionally install RISE: https://rise.readthedocs.io/en/stable/ to play Jupyter Notebooks as Slideshows."
   ]
  },
  {
   "cell_type": "markdown",
   "metadata": {
    "slideshow": {
     "slide_type": "slide"
    }
   },
   "source": [
    "## Set up git\n",
    "\n",
    "* `git config --global user.name \"John Doe\"`\n",
    "* `git config --global user.email johndoe@arizona.edu`"
   ]
  },
  {
   "cell_type": "markdown",
   "metadata": {},
   "source": [
    "# Editors\n",
    "\n",
    "  * `vim`\n",
    "  * `emacs`\n",
    "  * VSCode: https://code.visualstudio.com/\n",
    "  * Atom:   https://atom.io/"
   ]
  },
  {
   "cell_type": "markdown",
   "metadata": {
    "slideshow": {
     "slide_type": "slide"
    }
   },
   "source": [
    "## Clone and run hands-on script\n",
    "\n",
    "1. In your terminal, clone the course repository:\n",
    "\n",
    "    `git clone git@github.com:uarizona-2022spring-phys105a/phys105a.git`\n",
    "    \n",
    "    `cd phys105a/01` \n",
    "    \n",
    "2. Open and study the `handson.py` python script:\n",
    "\n",
    "    `emacs handson.py` or `vi handson.py` or use any text editor you like\n",
    "    \n",
    "3. Run the script by:\n",
    "\n",
    "    `./handson.py` or `python3 handson.py`"
   ]
  }
 ],
 "metadata": {
  "celltoolbar": "Slideshow",
  "kernelspec": {
   "display_name": "Python 3 (ipykernel)",
   "language": "python",
   "name": "python3"
  },
  "language_info": {
   "codemirror_mode": {
    "name": "ipython",
    "version": 3
   },
   "file_extension": ".py",
   "mimetype": "text/x-python",
   "name": "python",
   "nbconvert_exporter": "python",
   "pygments_lexer": "ipython3",
   "version": "3.9.10"
  }
 },
 "nbformat": 4,
 "nbformat_minor": 4
}
