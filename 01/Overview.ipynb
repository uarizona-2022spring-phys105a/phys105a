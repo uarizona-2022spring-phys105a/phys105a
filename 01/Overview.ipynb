{
 "cells": [
  {
   "cell_type": "markdown",
   "metadata": {
    "slideshow": {
     "slide_type": "slide"
    }
   },
   "source": [
    "## PHYS 105A:  Introduction to Scientific Computing\n",
    "\n",
    "# Overview\n",
    "\n",
    "Chi-kwan Chan"
   ]
  },
  {
   "cell_type": "markdown",
   "metadata": {
    "slideshow": {
     "slide_type": "slide"
    }
   },
   "source": [
    "## Modern Science\n",
    "\n",
    "1. Empirical evidence\n",
    "2. Scientific theory\n",
    "3. Computational science\n",
    "4. Data science"
   ]
  },
  {
   "cell_type": "markdown",
   "metadata": {
    "slideshow": {
     "slide_type": "fragment"
    }
   },
   "source": [
    "Modern science is complex!\n",
    "\n",
    "The last two require computing!"
   ]
  },
  {
   "cell_type": "markdown",
   "metadata": {
    "slideshow": {
     "slide_type": "slide"
    }
   },
   "source": [
    "### Computational Science\n",
    "\n",
    "Physical Models $\\rightarrow$ Data and Results\n",
    "\n",
    "* Nonlinear and many degrees of free (DoF) systems:\n",
    "  * Kelvin--Helmholtz instability: https://youtu.be/Bqg31OwAqEQ\n",
    "  * Kolmogorov forced turbulence: https://youtu.be/Q2HFwsThk0U\n",
    "  * Binary black hole mergers: https://youtu.be/1agm33iEAuo\n",
    "  \n",
    "* Multi-physics problems:\n",
    "  * Black hole accretion flow: https://youtu.be/-GQ1aUHwx-k\n",
    "  * Multi-wavelength black hole images: https://youtu.be/G6sSwRf_9ME\n",
    "  \n",
    "* Large scale simulation libraries:\n",
    "  * Illustris: https://www.illustris-project.org\n",
    "  * TNG Project: https://www.tng-project.org"
   ]
  },
  {
   "cell_type": "markdown",
   "metadata": {
    "slideshow": {
     "slide_type": "slide"
    }
   },
   "source": [
    "### Data Science\n",
    "\n",
    "Data and ML $\\rightarrow$ Result\n",
    "\n",
    "* Experiments with very large data sets:\n",
    "  * Event Horizon Telescope: https://eventhorizontelescope.org/science\n",
    "  * Vera C. Rubin Observatory (LSST): https://www.lsst.org/\n",
    "  \n",
    "* Let computer learn algorithms from data:\n",
    "  * Computer vision: http://www.image-net.org\n",
    "  * Self-driving cars: https://en.wikipedia.org/wiki/Self-driving_car\n",
    "\n",
    "* Knowledge discovery from data:\n",
    "  * UA Data Science Institute: https://datascience.arizona.edu/\n",
    "  * Machine Learning (ML): https://scikit-learn.org/\n",
    "  \n",
    "* Artificial Intelligence (AI):\n",
    "  * AlphaGo: https://deepmind.com/research/case-studies/alphago-the-story-so-far\n",
    "  * AlphaFold: https://deepmind.com/blog/article/AlphaFold-Using-AI-for-scientific-discovery"
   ]
  },
  {
   "cell_type": "markdown",
   "metadata": {
    "slideshow": {
     "slide_type": "slide"
    }
   },
   "source": [
    "## Expected Learning Outcomes\n",
    "\n",
    "Upon completion of this course, students will be able to:\n",
    "\n",
    "* understand the nature and application of computation methods in physical science;\n",
    "* use popular development tools (shell, `git`, Jupyter, etc);\n",
    "* use good software development practices (version control, documentation, and automation);\n",
    "* use computational thinking to break down complex physics problems;\n",
    "* solve these problems by writing programs in the `python` and `C` programming languages;\n",
    "* speak and write about scientific knowledge;\n",
    "* appreciate computation complexity and have a basic awareness of numerical errors;\n",
    "* use data analysis and numerical methods properly, and be aware of their common pitfalls;\n",
    "* critically analyze and interpret data and results presented in tables, graphs and charts as well as perform appropriate computations;\n",
    "* read and understand scientific literature from popular sources such as magazines and newspapers;\n",
    "* aware of a wide range of science use cases, and develop the skill to self-learn computation tools and methods."
   ]
  },
  {
   "cell_type": "markdown",
   "metadata": {
    "slideshow": {
     "slide_type": "slide"
    }
   },
   "source": [
    "## Topics\n",
    "\n",
    "We plan to cover the following topics in PHYS 105A:\n",
    "\n",
    "\\#     | Lecture                                  | Hands-on\n",
    "---    | ---                                      | ---\n",
    "1      | Overview                                 | Sign up for accounts and set up development environment\n",
    "2      | Essential tools for scientific computing | Unix shells, remote login, version control, etc\n",
    "3      | The `python` programming language        | Jupyter Lab and `python` programming (assignment 10pts)\n",
    "4      | Random numbers and Monte Carlo methods   | Monte Carlo in `python` (assignment 10pts)\n",
    "5      | The `C` programming language             | Monte Carlo in `C` (assignment 10pts)\n",
    "6      | Data processing with `python`            | Data processing with `python` (assignment 10pts); project planning\n",
    "7      | Numerical integration of functions       | Project (project 20pts)\n",
    "8      | Project presentations                    | Numerical integrator (assignment 10pts)\n",
    "...\n"
   ]
  },
  {
   "cell_type": "markdown",
   "metadata": {
    "slideshow": {
     "slide_type": "slide"
    }
   },
   "source": [
    "## Schedule\n",
    "\n",
    "Week of | Monday      | Tuesday<br/>(Session 1)   | Wednesday   | Thursday<br/>(Session 2) | Friday\n",
    "---     | ---         | ---                       | ---         | ---                      | ---\n",
    "Jan  9  |             |                           |             | #1\n",
    "Jan 16  | MLK Day     | #1                        |             | #2\n",
    "Jan 23  |             | #2                        |             | #3\n",
    "Jan 30  |             | #3                        | HW #3 due   | #4\n",
    "Feb  6  | HW #3 due   | #4                        | HW #4 due   | #5\n",
    "Feb 13  | HW #4 due   | #5                        | HW #5 due   | #6: project planning\n",
    "Feb 20  | HW #5 due   | #6: project planning      | HW #6 due   | #7: project helpout\n",
    "Feb 27  | HW #6 due   | #7: project helpout       |             | #8: project presentations\n",
    "..."
   ]
  },
  {
   "cell_type": "markdown",
   "metadata": {
    "slideshow": {
     "slide_type": "slide"
    }
   },
   "source": [
    "## Grading Scale and Policies\n",
    "\n",
    "There are 8 assignments and 2 projects in total.\n",
    "Each assignment worth 10 points and each project worth 20 points.\n",
    "\n",
    "This course provides regular letter grades (A–E), which are based on a\n",
    "simple point system:\n",
    "\n",
    "* A: 80–100  points\n",
    "* B: 70–79.9 points\n",
    "* C: 60–69.9 points\n",
    "* D: 50–59.9 points\n",
    "* E:  0–49.9 points\n",
    "\n",
    "No scaling will be applied.\n",
    "Nevertheless, the points for a student's worst two assignments or one\n",
    "project will not be counted.\n"
   ]
  },
  {
   "cell_type": "code",
   "execution_count": null,
   "metadata": {},
   "outputs": [],
   "source": []
  }
 ],
 "metadata": {
  "celltoolbar": "Slideshow",
  "kernelspec": {
   "display_name": "Python 3 (ipykernel)",
   "language": "python",
   "name": "python3"
  },
  "language_info": {
   "codemirror_mode": {
    "name": "ipython",
    "version": 3
   },
   "file_extension": ".py",
   "mimetype": "text/x-python",
   "name": "python",
   "nbconvert_exporter": "python",
   "pygments_lexer": "ipython3",
   "version": "3.9.9"
  }
 },
 "nbformat": 4,
 "nbformat_minor": 4
}
