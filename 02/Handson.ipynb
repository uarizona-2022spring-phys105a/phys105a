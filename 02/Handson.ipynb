{
 "cells": [
  {
   "cell_type": "markdown",
   "metadata": {},
   "source": [
    "## PHYS 105A:  Introduction to Scientific Computing\n",
    "\n",
    "# Unix shells, Remote Login, Version Control, etc\n",
    "\n",
    "Chi-kwan Chan"
   ]
  },
  {
   "cell_type": "markdown",
   "metadata": {},
   "source": [
    "In order to follow this hands-on exercise, you will need to have the following software installed on your system:\n",
    "\n",
    "* Terminal (built-in for windows, mac, and linux)\n",
    "* A Unix shell (Windows Subsystem for Linux; built-in for mac and linux)\n",
    "* Git\n",
    "* Jupyter Notebook or Jupyter Lab\n",
    "* Python 3.x\n",
    "\n",
    "The easiest way to install these software is to use [Anaconda](https://www.anaconda.com/).\n",
    "Nevertheless, you may use macports or homebrew to install these tools on Mac, and `apt` to install these tools on Linux.  For windows, you may enable the Windows Subsystem for Linux (WSL) to get a Unix shell."
   ]
  },
  {
   "cell_type": "markdown",
   "metadata": {},
   "source": [
    "## Terminal and Unix Shell\n",
    "\n",
    "This step is trivial if you are on Linux or on a Mac.  Simply open up your terminal and you will be given `bash` or `zsh`.\n",
    "\n",
    "If you are on Windows, you may start `cmd`, \"Windows PowerShell\", or the \"Windows Subsystem for Linux\".\n",
    "The former two don't give you a Unix shell, but you can still use it to navigate your file system, run `git`, etc.\n",
    "The last option is actually running a full Ubuntu envirnoment that will give you `bash`."
   ]
  },
  {
   "cell_type": "markdown",
   "metadata": {},
   "source": [
    "## Once you are on a bash/zsh, try the following commands\n",
    "\n",
    "    echo \"Hello World\" # the infamous hello world program!\n",
    "    ls\n",
    "    echo \"Hello World\" > hw.txt\n",
    "    ls\n",
    "    cat hw.txt\n",
    "    mv hw.txt hello.txt\n",
    "    cp hello.txt world.txt\n",
    "    \n",
    "Awesome!  You are now a shell user!"
   ]
  },
  {
   "cell_type": "markdown",
   "metadata": {},
   "source": [
    "## Git \n",
    "\n",
    "### Pre-request\n",
    "\n",
    "* Have a GitHub account (from assignment #1)\n",
    "* Have Jupyter Lab set up on your machine\n",
    "* Have `git` (can be installed by conda)\n",
    "\n",
    "### Set up development environment\n",
    "\n",
    "* `git config --global user.name \"John Doe\"`\n",
    "* `git config --global user.email johndoe@arizona.edu`\n",
    "\n",
    "[Reference](https://git-scm.com/book/en/v2/Getting-Started-First-Time-Git-Setup)"
   ]
  },
  {
   "cell_type": "markdown",
   "metadata": {},
   "source": [
    "## Clone Course Repository\n",
    "\n",
    "With a shell, you can now clone/copy the PHYS105A repository to your computer:\n",
    "    \n",
    "    git clone git@github.com:uarizona-2021spring-phys105a/phys105a.git\n",
    "    cd phys105a\n",
    "    ls\n",
    "    \n",
    "You may now add a file, commit it to git, and push it back to GitHub:\n",
    "\n",
    "    echo \"Hello World\" > hw.txt\n",
    "    git add .\n",
    "    git commit -m 'hello world'\n",
    "    git log\n",
    "    git push"
   ]
  }
 ],
 "metadata": {
  "celltoolbar": "Slideshow",
  "kernelspec": {
   "display_name": "Python 3 (ipykernel)",
   "language": "python",
   "name": "python3"
  },
  "language_info": {
   "codemirror_mode": {
    "name": "ipython",
    "version": 3
   },
   "file_extension": ".py",
   "mimetype": "text/x-python",
   "name": "python",
   "nbconvert_exporter": "python",
   "pygments_lexer": "ipython3",
   "version": "3.9.10"
  }
 },
 "nbformat": 4,
 "nbformat_minor": 4
}
