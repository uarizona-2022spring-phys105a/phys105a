{
 "cells": [
  {
   "cell_type": "markdown",
   "metadata": {},
   "source": [
    "## PHYS 105A:  Introduction to Scientific Computing\n",
    "\n",
    "# Unix shells, Remote Login, Version Control, etc\n",
    "\n",
    "Chi-kwan Chan"
   ]
  },
  {
   "cell_type": "markdown",
   "metadata": {},
   "source": [
    "In order to follow this hands-on exercise, you will need to have the following software installed on your system:\n",
    "\n",
    "* Terminal (built-in for windows, mac, and linux)\n",
    "* A Unix shell (Windows Subsystem for Linux; built-in for mac and linux)\n",
    "* Git\n",
    "* Jupyter Notebook or Jupyter Lab\n",
    "* Python 3.x\n",
    "\n",
    "The easiest way to install these software is to use [Anaconda](https://www.anaconda.com/).\n",
    "Nevertheless, you may use macports or homebrew to install these tools on Mac, and `apt` to install these tools on Linux.  For windows, you may enable the Windows Subsystem for Linux (WSL) to get a Unix shell."
   ]
  },
  {
   "cell_type": "markdown",
   "metadata": {},
   "source": [
    "## Terminal and Unix Shell\n",
    "\n",
    "This step is trivial if you are on Linux or on a Mac.  Simply open up your terminal and you will be given `bash` or `zsh`.\n",
    "\n",
    "If you are on Windows, you may start `cmd`, \"Windows PowerShell\", or the \"Windows Subsystem for Linux\".\n",
    "The former two don't give you a Unix shell, but you can still use it to navigate your file system, run `git`, etc.\n",
    "The last option is actually running a full Ubuntu envirnoment that will give you `bash`."
   ]
  },
  {
   "cell_type": "markdown",
   "metadata": {},
   "source": [
    "## For Windows User...\n",
    "\n",
    "Accessing linux files from Windows may be difficult, depends on your version of windows.  On the other hand, accessing windows file from WSL is relative easy.\n",
    "\n",
    "    ls\n",
    "    cd /mnt/c\n",
    "    ls\n",
    "    cd /mnt/c/Users/<user name>"
   ]
  },
  {
   "cell_type": "markdown",
   "metadata": {},
   "source": [
    "## Once you are on a bash/zsh, try the following commands\n",
    "\n",
    "    echo \"Hello World\" # the infamous hello world program in bash!\n",
    "    ls\n",
    "    echo \"Hello World\" > demo.txt\n",
    "    ls\n",
    "    cat demo.txt\n",
    "    mv demo.txt hello.txt\n",
    "    cp hello.txt world.txt\n",
    "    \n",
    "    mkdir PHYS105A\n",
    "    ls\n",
    "    cd PHYS105A\n",
    "    ls\n",
    "    mv ../hello.txt .\n",
    "    mv ../world.txt .\n",
    "    ls\n",
    "    \n",
    "Awesome!  You are now a shell user!"
   ]
  },
  {
   "cell_type": "markdown",
   "metadata": {},
   "source": [
    "## Remote Login\n",
    "\n",
    "As a UArizona student, you can sign up an account on UArizona's supercomputers!\n",
    "\n",
    "    ssh chanc@hpc.arizona.edu # this won't work for you, yet\n",
    "    \n",
    "Project idea: how about running programs on puma?"
   ]
  },
  {
   "cell_type": "markdown",
   "metadata": {},
   "source": [
    "## Git \n",
    "\n",
    "### Pre-request\n",
    "\n",
    "* Have a GitHub account (from assignment #1)\n",
    "* Have Jupyter Lab set up on your machine\n",
    "* Have `git` (can be installed by conda)\n",
    "\n",
    "### Set up development environment\n",
    "\n",
    "* `git config --global user.name \"John Doe\"`\n",
    "* `git config --global user.email johndoe@arizona.edu`\n",
    "* `git config --global core.editor nano`\n",
    "\n",
    "[Reference](https://git-scm.com/book/en/v2/Getting-Started-First-Time-Git-Setup)"
   ]
  },
  {
   "cell_type": "markdown",
   "metadata": {},
   "source": [
    "## Clone Course Repository\n",
    "\n",
    "With a shell, you can now clone/copy the PHYS105A repository to your computer:\n",
    "    \n",
    "    git clone git@github.com:uarizona-2022spring-phys105a/phys105a.git\n",
    "    git clone git@github.com:uarizona-2022spring-phys105a/01-[YOUR_GITHUB_USERNAME].git\n",
    "    \n",
    "You may now add a file, commit it to git, and push it back to GitHub:\n",
    "\n",
    "    cd 01-[YOUR_GITHUB_USERNAME]\n",
    "    mv ../hello.txt ../world.txt .\n",
    "    \n",
    "    git add .\n",
    "    git commit -m 'hello world'\n",
    "    git log\n",
    "    git push"
   ]
  },
  {
   "cell_type": "markdown",
   "metadata": {},
   "source": [
    "## Compiled Language\n",
    "\n",
    "    cd ../phys105a/02\n",
    "    ls\n",
    "    nano hello.c\n",
    "    gcc hello.c -o hello\n",
    "    ./hello"
   ]
  },
  {
   "cell_type": "markdown",
   "metadata": {},
   "source": [
    "## Interpreted Langauge\n",
    "\n",
    "    nano hello.py\n",
    "    ./hello.py"
   ]
  },
  {
   "cell_type": "markdown",
   "metadata": {},
   "source": [
    "## Python Basic\n",
    "\n",
    "Later in this course, we will use Jupyter to perform interactive data analysis.  However, for now, let's just use python's interactive mode.  On your terminal, type:\n",
    "\n",
    "    python\n",
    "    \n",
    "or\n",
    "\n",
    "    python3\n",
    "    \n",
    "you should see something like:\n",
    "\n",
    "    Python 3.9.10 (main, Jan 15 2022, 12:21:28) \n",
    "    [Clang 13.0.0 (clang-1300.0.29.3)] on darwin\n",
    "    Type \"help\", \"copyright\", \"credits\" or \"license\" for more information.\n",
    "    >>>"
   ]
  },
  {
   "cell_type": "code",
   "execution_count": 1,
   "metadata": {},
   "outputs": [
    {
     "data": {
      "text/plain": [
       "10"
      ]
     },
     "execution_count": 1,
     "metadata": {},
     "output_type": "execute_result"
    }
   ],
   "source": [
    "# We can finally try python as your calculator.\n",
    "# Type some math formulas, then press Enter, python will interpret your equations and print the output.\n",
    "# This is CK's equation:\n",
    "\n",
    "1 + 2 + 3 + 4"
   ]
  },
  {
   "cell_type": "code",
   "execution_count": 2,
   "metadata": {},
   "outputs": [],
   "source": [
    "# EXERCISE: Now, type your own equation here and see the outcome."
   ]
  },
  {
   "cell_type": "code",
   "execution_count": 3,
   "metadata": {},
   "outputs": [
    {
     "data": {
      "text/plain": [
       "10"
      ]
     },
     "execution_count": 3,
     "metadata": {},
     "output_type": "execute_result"
    }
   ],
   "source": [
    "# One of the most powerful things programming langauges are able to do is to assign names to values.\n",
    "# This is in contrast to spreadsheet software where each \"cell\" is prenamed (e.g., A1, B6).\n",
    "# A value associated with a name is called a varaible.\n",
    "# In python, we simply use the equal sign to assign a value to a variable.\n",
    "\n",
    "a = 1\n",
    "b = 2 + 3\n",
    "\n",
    "# We can then reuse these variables.\n",
    "a + b + 4"
   ]
  },
  {
   "cell_type": "code",
   "execution_count": 4,
   "metadata": {},
   "outputs": [],
   "source": [
    "# EXERCISE: create your own variables and check their values."
   ]
  },
  {
   "cell_type": "code",
   "execution_count": 5,
   "metadata": {},
   "outputs": [
    {
     "name": "stdout",
     "output_type": "stream",
     "text": [
      "1 2\n",
      "1 5\n"
     ]
    }
   ],
   "source": [
    "# Sometime it is convenient to have mutiple outputs on a line.\n",
    "# In such a case, you may use the python function `print()`\n",
    "\n",
    "print(1, 2)\n",
    "print(a, b)"
   ]
  },
  {
   "cell_type": "code",
   "execution_count": 6,
   "metadata": {},
   "outputs": [],
   "source": [
    "# EXERCISE: print results of equations"
   ]
  },
  {
   "cell_type": "code",
   "execution_count": 7,
   "metadata": {},
   "outputs": [
    {
     "name": "stdout",
     "output_type": "stream",
     "text": [
      "Numbers: 1 2 3\n"
     ]
    }
   ],
   "source": [
    "# Speaking of print(), in python, you may use both single or double quotes to create \"string\" of characters.\n",
    "\n",
    "'This is a string of characters.'\n",
    "\n",
    "\"This is also a string of characters.\"\n",
    "\n",
    "# If you have multiple lines of strings, you may use \"docstring\"\n",
    "\n",
    "\"\"\"\n",
    "This is a\n",
    "multi-line\n",
    "string\n",
    "\"\"\"\n",
    "\n",
    "# You can mix strings, numbers, etc in a single print statement.\n",
    "print(\"Numbers:\", 1, 2, 3)"
   ]
  },
  {
   "cell_type": "code",
   "execution_count": 8,
   "metadata": {},
   "outputs": [],
   "source": [
    "# EXERCISE: assign a string to a variable and then print it"
   ]
  },
  {
   "cell_type": "code",
   "execution_count": 9,
   "metadata": {},
   "outputs": [
    {
     "name": "stdout",
     "output_type": "stream",
     "text": [
      "30\n",
      "1000\n",
      "3.3333333333333335\n",
      "3\n"
     ]
    }
   ],
   "source": [
    "# In the lecture, we learned the different math operations in python: +, -, *, **, /, and //.\n",
    "# Try to use them yourself.\n",
    "# Pay special attention to the ** and // operators.\n",
    "\n",
    "# * and ** are different\n",
    "print(10*3)\n",
    "print(10**3)\n",
    "\n",
    "# / and // are different\n",
    "print(10/3)\n",
    "print(10//3)"
   ]
  },
  {
   "cell_type": "code",
   "execution_count": 10,
   "metadata": {},
   "outputs": [],
   "source": [
    "# EXERCISE: try out *, **, /, and // yourself.\n",
    "# What if you use them for very big numbers?  Very small numbers?\n",
    "# Do you see any limitation?"
   ]
  },
  {
   "cell_type": "code",
   "execution_count": 11,
   "metadata": {},
   "outputs": [
    {
     "name": "stdout",
     "output_type": "stream",
     "text": [
      "1000000\n",
      "1000000\n",
      "1000000\n"
     ]
    }
   ],
   "source": [
    "# COOL TRICK: In python, you use underscores to help writing very big numbers.\n",
    "# E.g., python knows that 1_000_000 is 1000_000 is 1000000.\n",
    "\n",
    "print(1_000_000)\n",
    "print(1000_000)\n",
    "print(1000000)"
   ]
  },
  {
   "cell_type": "code",
   "execution_count": 12,
   "metadata": {},
   "outputs": [
    {
     "name": "stdout",
     "output_type": "stream",
     "text": [
      "3.3333333333333335\n",
      "3\n",
      "3\n"
     ]
    }
   ],
   "source": [
    "# The integer division is logically equivalent to applying a floor function to the floating point division.\n",
    "# However, the floor function is not a default (built-in) function.\n",
    "# You need to import it from the math package:\n",
    "\n",
    "from math import floor\n",
    "\n",
    "print(10/3)\n",
    "print(10//3)\n",
    "print(floor(10/3))"
   ]
  },
  {
   "cell_type": "code",
   "execution_count": 13,
   "metadata": {},
   "outputs": [],
   "source": [
    "# EXERCISE: try to use the floor() function yourself"
   ]
  },
  {
   "cell_type": "code",
   "execution_count": 14,
   "metadata": {},
   "outputs": [
    {
     "name": "stdout",
     "output_type": "stream",
     "text": [
      "3.141592653589793\n",
      "1.2246467991473532e-16\n",
      "-1.0\n"
     ]
    }
   ],
   "source": [
    "# There are many useful functions and constants in the math package.\n",
    "# See https://docs.python.org/3/library/math.html\n",
    "\n",
    "from math import pi, sin, cos\n",
    "\n",
    "print(pi)\n",
    "print(sin(pi))\n",
    "print(cos(pi))"
   ]
  },
  {
   "cell_type": "code",
   "execution_count": 15,
   "metadata": {},
   "outputs": [],
   "source": [
    "# EXERCISE: try to import additional functions from the math package and test them yourself.\n",
    "# Python math package: https://docs.python.org/3/library/math.html"
   ]
  },
  {
   "cell_type": "code",
   "execution_count": null,
   "metadata": {},
   "outputs": [],
   "source": []
  }
 ],
 "metadata": {
  "celltoolbar": "Slideshow",
  "kernelspec": {
   "display_name": "Python 3 (ipykernel)",
   "language": "python",
   "name": "python3"
  },
  "language_info": {
   "codemirror_mode": {
    "name": "ipython",
    "version": 3
   },
   "file_extension": ".py",
   "mimetype": "text/x-python",
   "name": "python",
   "nbconvert_exporter": "python",
   "pygments_lexer": "ipython3",
   "version": "3.9.10"
  }
 },
 "nbformat": 4,
 "nbformat_minor": 4
}
