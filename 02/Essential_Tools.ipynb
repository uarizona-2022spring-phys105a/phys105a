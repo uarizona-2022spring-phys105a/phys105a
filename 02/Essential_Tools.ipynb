{
 "cells": [
  {
   "cell_type": "markdown",
   "metadata": {
    "slideshow": {
     "slide_type": "slide"
    }
   },
   "source": [
    "\n",
    "## PHYS 105A:  Introduction to Scientific Computing\n",
    "\n",
    "# Essential Tools for Scientific Computing\n",
    "\n",
    "Chi-kwan Chan"
   ]
  },
  {
   "cell_type": "markdown",
   "metadata": {
    "slideshow": {
     "slide_type": "slide"
    }
   },
   "source": [
    "## Unix and Linux\n",
    "\n",
    "* Multitasking and multiuser operating system from Bell Labs\n",
    "\n",
    "* Licensed for academic and commerical usages, which lead to multiple varieties\n",
    "\n",
    "  * Berkeley (BSD)\n",
    "  * Sun (Solaries)\n",
    "  * HP (HP-UX)\n",
    "  * IBM (AIX)\n",
    "  * Apple (Darwin/macOS)\n",
    "  \n",
    "* Linux is an open source project stared by Linus Torvalds, it is \"Unix-like\""
   ]
  },
  {
   "cell_type": "markdown",
   "metadata": {
    "slideshow": {
     "slide_type": "slide"
    }
   },
   "source": [
    "![Ken Thompson and Dennis Ritchie](https://upload.wikimedia.org/wikipedia/commons/1/1b/Ken_Thompson_and_Dennis_Ritchie--1973.jpg \"Ken Thompson and Dennis Ritchie\")\n",
    "\n",
    "Ken Thompson and Dennis Ritchie"
   ]
  },
  {
   "cell_type": "markdown",
   "metadata": {
    "slideshow": {
     "slide_type": "slide"
    }
   },
   "source": [
    "![Linus Torvalds](https://upload.wikimedia.org/wikipedia/commons/5/5c/Linus_Torvalds_%28cropped%29.jpg \"Linus Torvalds\")\n",
    "\n",
    "Linus Torvalds"
   ]
  },
  {
   "cell_type": "markdown",
   "metadata": {
    "slideshow": {
     "slide_type": "slide"
    }
   },
   "source": [
    "Hello everybody out there using minix -\n",
    "\n",
    "I'm doing a (free) operating system (just a hobby, won't be big and professional like gnu) for 386(486) AT clones. This has been brewing since april, and is starting to get ready. I'd like any feedback on things people like/dislike in minix, as my OS resembles it somewhat (same physical layout of the file-system (due to practical reasons) among other things).\n",
    "\n",
    "I've currently ported bash(1.08) and gcc(1.40), and things seem to work. This implies that I'll get something practical within a few months, and I'd like to know what features most people would want. Any suggestions are welcome, but I won't promise I'll implement them :-)\n",
    "\n",
    "Linus (torvalds@kruuna.helsinki.fi)\n",
    "\n",
    "PS. Yes - it's free of any minix code, and it has a multi-threaded fs. It is NOT portable (uses 386 task switching etc), and it probably never will support anything other than AT-harddisks, as that's all I have :-(.\n",
    "\n",
    "— Linus Torvalds"
   ]
  },
  {
   "cell_type": "markdown",
   "metadata": {
    "slideshow": {
     "slide_type": "slide"
    }
   },
   "source": [
    "## Linux's Popularity\n",
    "\n",
    "Being open source and allow people to freely contribute, Linux is *the backbone of the internet*!\n",
    "\n",
    "* It powers almost all routers\n",
    "* It powers almost all internet servers\n",
    "* It powers almost all supercomputers"
   ]
  },
  {
   "cell_type": "markdown",
   "metadata": {
    "slideshow": {
     "slide_type": "slide"
    }
   },
   "source": [
    "## Unix Philosophy\n",
    "\n",
    "1. Make each program do one thing well. To do a new job, build afresh rather than complicate old programs by adding new \"features\".\n",
    "2. Expect the output of every program to become the input to another, as yet unknown, program. Don't clutter output with extraneous information. Avoid stringently columnar or binary input formats. Don't insist on interactive input.\n",
    "3. Design and build software, even operating systems, to be tried early, ideally mwithin weeks. Don't hesitate to throw away the clumsy parts and rebuild them.\n",
    "4. Use tools in preference to unskilled help to lighten a programming task, even if you have to detour to build the tools and expect to throw some of them out after you've finished using them.\n",
    "\n",
    "Also, \"everything is a file\" on Unix.  Because of these simple design, Unix/Linux is extremely extendable.  Linux actually powers the modern internet!\n",
    "\n",
    "Reference: [The Art of Unix Programming](https://www.amazon.com/dp/0131429019/ref=cm_sw_em_r_mt_dp_uBTaGb39KBA6W), Eric S. Raymond"
   ]
  },
  {
   "cell_type": "markdown",
   "metadata": {
    "slideshow": {
     "slide_type": "slide"
    }
   },
   "source": [
    "## Kernel, Shell, and Applications\n",
    "\n",
    "* But technically, Linux is only a \"kernel\" that manages different resources and tasks on your computer.\n",
    "* In order to interact with the kernel, you need a \"shell\"\n",
    "* The shell will allows you to chain programs together, launch applications, etc"
   ]
  },
  {
   "cell_type": "markdown",
   "metadata": {
    "slideshow": {
     "slide_type": "slide"
    }
   },
   "source": [
    "## Terminal\n",
    "\n",
    "![Terminals](https://upload.wikimedia.org/wikipedia/commons/1/1f/Tcsh_ejecut%C3%A1ndose_en_escritorio_Mac_OSX.png \"Terminals\")"
   ]
  },
  {
   "cell_type": "markdown",
   "metadata": {
    "slideshow": {
     "slide_type": "slide"
    }
   },
   "source": [
    "## Popular Commands\n",
    "\n",
    "* `bash`\n",
    "* `echo`\n",
    "* `ls`, `mv`, `cp`\n",
    "* `head`, `tail`, `cat`\n",
    "* `>`, `>>`, `|`\n",
    "* `nano`, `vim`, or `emacs`"
   ]
  },
  {
   "cell_type": "markdown",
   "metadata": {
    "slideshow": {
     "slide_type": "slide"
    },
    "tags": []
   },
   "source": [
    "## Remote Login\n",
    "\n",
    "You may wonder why do we care about command line and terminal, while we have shiny graphic interface to use laptop/desktop.  It turns out, a large fraction of computers in the world are still set up and used by command line.  Many of these computers don't even have a sceen of keyboard connected to them!\n",
    "\n",
    "Instead, you need to **log in** to the computer remotely in order to control it, which often requires using the command line.\n",
    "\n",
    "![Puma Supercomputer](https://public.confluence.arizona.edu/download/attachments/86409284/20160901_105945.jpg?version=1&modificationDate=1472836574000&api=v2 \"Puma Supercomputer\")"
   ]
  },
  {
   "cell_type": "markdown",
   "metadata": {
    "slideshow": {
     "slide_type": "slide"
    }
   },
   "source": [
    "## Modern Software Development\n",
    "\n",
    "Modern software can have millions lines of codes and handreds of engineers working on them.  Examples include:\n",
    "\n",
    "* https://github.com/torvalds/linux\n",
    "* https://github.com/kubernetes/kubernetes\n",
    "* https://github.com/facebook/react\n",
    "* https://github.com/microsoft/vscode\n",
    "* https://github.com/achael/eht-imaging\n",
    "\n",
    "Need a scalable way to keep track of people's work!"
   ]
  },
  {
   "cell_type": "markdown",
   "metadata": {
    "slideshow": {
     "slide_type": "slide"
    }
   },
   "source": [
    "## Version Control System\n",
    "\n",
    "* CVS (https://en.wikipedia.org/wiki/Concurrent_Versions_System)\n",
    "* Subversion (https://en.wikipedia.org/wiki/Apache_Subversion)\n",
    "* Mercurial (https://www.mercurial-scm.org/)\n",
    "* Git (https://git-scm.com/)"
   ]
  },
  {
   "cell_type": "markdown",
   "metadata": {
    "slideshow": {
     "slide_type": "slide"
    }
   },
   "source": [
    "## Git is a Distributed Version Control System\n",
    "\n",
    "![Git](https://git-scm.com/book/en/v2/images/distributed.png \"Git\")"
   ]
  },
  {
   "cell_type": "markdown",
   "metadata": {
    "slideshow": {
     "slide_type": "slide"
    }
   },
   "source": [
    "## Popular Commands\n",
    "\n",
    "* `git help`\n",
    "* `git clone ...`\n",
    "* `git add ...`\n",
    "* `git commit`\n",
    "* `git pull` and `git push`"
   ]
  },
  {
   "cell_type": "markdown",
   "metadata": {
    "slideshow": {
     "slide_type": "slide"
    }
   },
   "source": [
    "## Programming\n",
    "\n",
    "* Computational thinking\n",
    "  * Abstraction: Problem formulation.\n",
    "  * Automation: Solution expression.\n",
    "  * Analyses: Solution execution and evaluation.\n",
    "* Control complexity."
   ]
  },
  {
   "cell_type": "markdown",
   "metadata": {
    "slideshow": {
     "slide_type": "slide"
    }
   },
   "source": [
    "## List Programming Languages\n",
    "\n",
    "* Assembly\n",
    "* C, Fortran, Pascal\n",
    "* C++, Java, Swift, Go, Rust\n",
    "* C#, Matlab, Julia\n",
    "* Python, Ruby, Perl\n",
    "* Javascript, PHP\n",
    "* Bash, zsh (shells)\n",
    "* SQL (domain specific)\n",
    "* HTML (not a programming language)\n",
    "\n",
    "Different programming languages are good at different things but programming language is not the most important.  You can write poetry in any langauges, although the \"tastes\" would be different."
   ]
  },
  {
   "cell_type": "markdown",
   "metadata": {
    "slideshow": {
     "slide_type": "slide"
    }
   },
   "source": [
    "## Compiled Langauges\n",
    "\n",
    "* Text -> executable -> execute\n",
    "* C, C++, Fortran, etc\n",
    "* Typically higher performance\n",
    "* Typically steeper learning curve\n",
    "* `gcc demo.c -o demo; ./demo`\n",
    "\n",
    "## Interpreted Langauges\n",
    "\n",
    "* Text -> run immediately\n",
    "* Bash, Python, etc\n",
    "* Typically slower\n",
    "* Typically easier to learn\n",
    "* `nano demo.py; ./demo.py`"
   ]
  },
  {
   "cell_type": "markdown",
   "metadata": {
    "slideshow": {
     "slide_type": "slide"
    }
   },
   "source": [
    "## Text Editors and Integrated development environment (IDE)\n",
    "\n",
    "* `nano`, `vim`, `emacs`\n",
    "* Visual Studio, Xcode\n",
    "* VSCode: https://code.visualstudio.com/\n",
    "* Atom:   https://atom.io/\n",
    "* Jupyter Notebook and Lab (later in this course)"
   ]
  },
  {
   "cell_type": "markdown",
   "metadata": {
    "slideshow": {
     "slide_type": "slide"
    }
   },
   "source": [
    "## Bug and Debug\n",
    "\n",
    "A page from the Harvard Mark II electromechanical computer's log, featuring a dead moth that was removed from the device.\n",
    "\n",
    "![Programming bug](https://upload.wikimedia.org/wikipedia/commons/f/ff/First_Computer_Bug%2C_1945.jpg \"Bug\")"
   ]
  }
 ],
 "metadata": {
  "celltoolbar": "Slideshow",
  "kernelspec": {
   "display_name": "Python 3 (ipykernel)",
   "language": "python",
   "name": "python3"
  },
  "language_info": {
   "codemirror_mode": {
    "name": "ipython",
    "version": 3
   },
   "file_extension": ".py",
   "mimetype": "text/x-python",
   "name": "python",
   "nbconvert_exporter": "python",
   "pygments_lexer": "ipython3",
   "version": "3.9.10"
  }
 },
 "nbformat": 4,
 "nbformat_minor": 4
}
