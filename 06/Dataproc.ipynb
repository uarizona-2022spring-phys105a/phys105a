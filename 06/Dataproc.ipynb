{
 "cells": [
  {
   "cell_type": "markdown",
   "id": "mineral-drama",
   "metadata": {
    "slideshow": {
     "slide_type": "slide"
    }
   },
   "source": [
    "## PHYS 105A:  Introduction to Scientific Computing\n",
    "\n",
    "# Data Processing with Python\n",
    "\n",
    "Chi-kwan Chan"
   ]
  },
  {
   "cell_type": "markdown",
   "id": "tough-retrieval",
   "metadata": {
    "slideshow": {
     "slide_type": "slide"
    }
   },
   "source": [
    "## Project\n",
    "\n",
    "First thing first, the first project is due on March 11th 12:00am.  The project is worth as many as your assignment so we give you two weeks to work on it.  The goal of the project for you to take what you have learned from this course, and come up with an independent project and finish it.  You have learned python, C, random numbers, and you will learn some statistics today.  So acceptable projects include:\n",
    "\n",
    "- Perform a monte carlo simulation of the Monty Hall problem.\n",
    "\n",
    "- A more detailed study of Brownian motion and diffusion.\n",
    "\n",
    "- Sudoku solver.\n",
    "\n",
    "- ...\n",
    "\n",
    "Please plan your project, prepare a single slide, and discuss it with the class next week."
   ]
  },
  {
   "cell_type": "markdown",
   "id": "8b0373bb-ca33-4ae2-999c-a9e872027560",
   "metadata": {},
   "source": [
    "## Jupyter Notebook and Jupyter Lab\n",
    "\n",
    "* Project [Jupyter](https://jupyter.org/) provides a notebook environment for interactive programming.\n",
    "\n",
    "* Jupyter supports multiple programming languages including `Julia`, `Python`, and `R`.\n",
    "\n",
    "* Actually, all the lecture notes you've seen are Jupyter notebooks!\n",
    "\n",
    "* To run this notebook, simply run `cd phys105a/06; jupyter notebook Dataproc.ipynb` in your terminal."
   ]
  },
  {
   "cell_type": "markdown",
   "id": "34b5cdf8-d73c-4608-93a3-2777ec1ec259",
   "metadata": {},
   "source": [
    "## Jupyter Notebook\n",
    "\n",
    "A Jupyter Notebook is a JSON document containing multiple cells of text and codes. These cells maybe:\n",
    "\n",
    "* Markdown documentation\n",
    "\n",
    "* Codes in `Julia`, `Python`, `R`, etc, or even `bash`!\n",
    "\n",
    "* Output of the codes\n",
    "\n",
    "* RAW text\n",
    "\n",
    "To run a cell in this notebook, use `shift + enter`.  The behavior of a notebook is very similar to `ipython`."
   ]
  },
  {
   "cell_type": "markdown",
   "id": "8db7a337-663a-465e-b91d-aa886eb81f40",
   "metadata": {},
   "source": [
    "## Markdown Demo\n",
    "\n",
    "See https://guides.github.com/features/mastering-markdown/ for more details.\n",
    "\n",
    "# This is an `<h1>` tag\n",
    "## This is an `<h2>` tag\n",
    "###### This is an `<h6>` tag\n",
    "\n",
    "*This text will be italic*\n",
    "_This will also be italic_\n",
    "\n",
    "**This text will be bold**\n",
    "__This will also be bold__\n",
    "\n",
    "_You **can** combine them_\n",
    "\n",
    "* Item 1\n",
    "* Item 2\n",
    "  * Item 2a\n",
    "  * Item 2b\n",
    "  \n",
    "1. Item 1\n",
    "1. Item 2\n",
    "1. Item 3\n",
    "   1. Item 3a\n",
    "   1. Item 3b`m"
   ]
  },
  {
   "cell_type": "markdown",
   "id": "excessive-interference",
   "metadata": {
    "slideshow": {
     "slide_type": "slide"
    }
   },
   "source": [
    "## Using numerical and data science packages\n",
    "\n",
    "* This lecture is about statistics, which means that we need to handle (relatively) large data sets.\n",
    "\n",
    "* While we have learned how to read in text files, handle lists, etc in pure python, it's useful to get some additional help!\n",
    "\n",
    "* At the end, python is so popular in data science because of all the packages the python community develop.\n",
    "\n",
    "* We will learn the basic of three packages: `numpy`, `pandas`, and `scipy`"
   ]
  },
  {
   "cell_type": "markdown",
   "id": "civilian-basis",
   "metadata": {
    "slideshow": {
     "slide_type": "slide"
    }
   },
   "source": [
    "## `numpy`\n",
    "\n",
    "* We will start with the `numpy` package.\n",
    "\n",
    "* `numpy` enables array programming in python.  I.e., it enables us to work on a whole array of objects (numbers) \"in one go\" in python.\n",
    "\n",
    "* The backend functionality in `numpy` are written in C, making it very high performance.\n",
    "\n",
    "* The array programming model also provide a natural way to perform handle functions on arrays.\n",
    "\n",
    "* `numpy` is the core package that enables scientific computation in python.\n",
    "\n",
    "* There is a [nature paper](https://www.nature.com/articles/s41586-020-2649-2) on `numpy`!"
   ]
  },
  {
   "cell_type": "code",
   "execution_count": 2,
   "id": "outside-shelf",
   "metadata": {
    "slideshow": {
     "slide_type": "slide"
    }
   },
   "outputs": [
    {
     "data": {
      "text/plain": [
       "[<matplotlib.lines.Line2D at 0x111d0f1f0>]"
      ]
     },
     "execution_count": 2,
     "metadata": {},
     "output_type": "execute_result"
    },
    {
     "data": {
      "image/png": "[encoded data removed]",
      "text/plain": [
       "<Figure size 432x288 with 1 Axes>"
      ]
     },
     "metadata": {
      "needs_background": "light"
     },
     "output_type": "display_data"
    }
   ],
   "source": [
    "from matplotlib import pyplot as plt\n",
    "from math import sin, pi\n",
    "\n",
    "X = [0.1 * i for i in range(100)]\n",
    "F = [x * x for x in X]\n",
    "G = [100 * sin(x) for x in X]\n",
    "\n",
    "plt.plot(X, F)\n",
    "plt.plot(X, G)"
   ]
  },
  {
   "cell_type": "code",
   "execution_count": 3,
   "id": "encouraging-newman",
   "metadata": {
    "slideshow": {
     "slide_type": "slide"
    }
   },
   "outputs": [
    {
     "data": {
      "text/plain": [
       "[<matplotlib.lines.Line2D at 0x111e103a0>]"
      ]
     },
     "execution_count": 3,
     "metadata": {},
     "output_type": "execute_result"
    },
    {
     "data": {
      "image/png": "[encoded data removed]",
      "text/plain": [
       "<Figure size 432x288 with 1 Axes>"
      ]
     },
     "metadata": {
      "needs_background": "light"
     },
     "output_type": "display_data"
    }
   ],
   "source": [
    "import numpy as np\n",
    "\n",
    "X = np.linspace(0, 10, num=100)\n",
    "F = X * X\n",
    "G = 100 * np.sin(X)\n",
    "\n",
    "plt.plot(X, F)\n",
    "plt.plot(X, G)"
   ]
  },
  {
   "cell_type": "code",
   "execution_count": 4,
   "id": "rational-corner",
   "metadata": {
    "slideshow": {
     "slide_type": "slide"
    }
   },
   "outputs": [
    {
     "name": "stdout",
     "output_type": "stream",
     "text": [
      "float64\n",
      "(100,)\n",
      "100\n",
      "[[1 2 3]\n",
      " [4 5 6]]\n",
      "(2, 3)\n",
      "2\n"
     ]
    }
   ],
   "source": [
    "# X has a \"data type\"\n",
    "\n",
    "print(X.dtype)\n",
    "\n",
    "# All the values in a numpy array are densely packed as a C array\n",
    "# instead of a list of python object.\n",
    "# Numpy arrays always have a shape, which is a tuple of positive integers.\n",
    "# In 1D, the shape is the same as len()\n",
    "\n",
    "print(X.shape)\n",
    "print(len(X))\n",
    "\n",
    "# But in 2D, they are different\n",
    "\n",
    "Y = np.array([[1,2,3], [4,5,6]])\n",
    "\n",
    "print(Y)\n",
    "print(Y.shape)\n",
    "print(len(Y))"
   ]
  },
  {
   "cell_type": "code",
   "execution_count": 5,
   "id": "opposed-engineering",
   "metadata": {
    "slideshow": {
     "slide_type": "slide"
    }
   },
   "outputs": [
    {
     "name": "stdout",
     "output_type": "stream",
     "text": [
      "[[3 4 5]\n",
      " [6 7 8]]\n",
      "[[ 2  4  6]\n",
      " [ 8 10 12]]\n",
      "[[ 1  4  9]\n",
      " [16 25 36]]\n",
      "[[ 0.84147098  0.90929743  0.14112001]\n",
      " [-0.7568025  -0.95892427 -0.2794155 ]]\n",
      "[[ 0.54030231 -0.41614684 -0.9899925 ]\n",
      " [-0.65364362  0.28366219  0.96017029]]\n",
      "[[  1   8  27]\n",
      " [ 64 125 216]]\n"
     ]
    }
   ],
   "source": [
    "# Numpy arrays, by default, operate in an \"element-wise\" way.\n",
    "\n",
    "print(Y + 2)\n",
    "print(Y * 2)\n",
    "print(Y * Y)\n",
    "\n",
    "# There is a large number of functions that also work in the \"element-wise\" fasion.\n",
    "\n",
    "print(np.sin(Y))\n",
    "print(np.cos(Y))\n",
    "print(Y ** 3)"
   ]
  },
  {
   "cell_type": "markdown",
   "id": "rough-cooperative",
   "metadata": {
    "slideshow": {
     "slide_type": "slide"
    }
   },
   "source": [
    "## `pandas`\n",
    "\n",
    "* While numpy is the core of scientific computation in python, sometimes a large data set contains more information than a plain array.\n",
    "\n",
    "* For example, when you look at an excel spreadsheet, very often each column contains a different physical quality carrying different meaning and even unit (time, income, output).  Saying a spreadsheet is a 2D-array calculator is not totally unfair.\n",
    "\n",
    "* The `pandas` package allows us to add that structure, and physical meaning, to different columns of a table.\n",
    "\n",
    "* `pandas` is one of the main package that makes data science work in python!"
   ]
  },
  {
   "cell_type": "code",
   "execution_count": 6,
   "id": "prescribed-amino",
   "metadata": {
    "slideshow": {
     "slide_type": "slide"
    }
   },
   "outputs": [
    {
     "data": {
      "text/html": [
       "<div>\n",
       "<style scoped>\n",
       "    .dataframe tbody tr th:only-of-type {\n",
       "        vertical-align: middle;\n",
       "    }\n",
       "\n",
       "    .dataframe tbody tr th {\n",
       "        vertical-align: top;\n",
       "    }\n",
       "\n",
       "    .dataframe thead th {\n",
       "        text-align: right;\n",
       "    }\n",
       "</style>\n",
       "<table border=\"1\" class=\"dataframe\">\n",
       "  <thead>\n",
       "    <tr style=\"text-align: right;\">\n",
       "      <th></th>\n",
       "      <th>0</th>\n",
       "      <th>1</th>\n",
       "      <th>2</th>\n",
       "    </tr>\n",
       "  </thead>\n",
       "  <tbody>\n",
       "    <tr>\n",
       "      <th>0</th>\n",
       "      <td>1</td>\n",
       "      <td>2</td>\n",
       "      <td>3</td>\n",
       "    </tr>\n",
       "    <tr>\n",
       "      <th>1</th>\n",
       "      <td>4</td>\n",
       "      <td>5</td>\n",
       "      <td>6</td>\n",
       "    </tr>\n",
       "  </tbody>\n",
       "</table>\n",
       "</div>"
      ],
      "text/plain": [
       "   0  1  2\n",
       "0  1  2  3\n",
       "1  4  5  6"
      ]
     },
     "metadata": {},
     "output_type": "display_data"
    },
    {
     "data": {
      "text/html": [
       "<div>\n",
       "<style scoped>\n",
       "    .dataframe tbody tr th:only-of-type {\n",
       "        vertical-align: middle;\n",
       "    }\n",
       "\n",
       "    .dataframe tbody tr th {\n",
       "        vertical-align: top;\n",
       "    }\n",
       "\n",
       "    .dataframe thead th {\n",
       "        text-align: right;\n",
       "    }\n",
       "</style>\n",
       "<table border=\"1\" class=\"dataframe\">\n",
       "  <thead>\n",
       "    <tr style=\"text-align: right;\">\n",
       "      <th></th>\n",
       "      <th>a</th>\n",
       "      <th>b</th>\n",
       "      <th>c</th>\n",
       "    </tr>\n",
       "  </thead>\n",
       "  <tbody>\n",
       "    <tr>\n",
       "      <th>0</th>\n",
       "      <td>1</td>\n",
       "      <td>2</td>\n",
       "      <td>3</td>\n",
       "    </tr>\n",
       "    <tr>\n",
       "      <th>1</th>\n",
       "      <td>4</td>\n",
       "      <td>5</td>\n",
       "      <td>6</td>\n",
       "    </tr>\n",
       "  </tbody>\n",
       "</table>\n",
       "</div>"
      ],
      "text/plain": [
       "   a  b  c\n",
       "0  1  2  3\n",
       "1  4  5  6"
      ]
     },
     "metadata": {},
     "output_type": "display_data"
    },
    {
     "name": "stdout",
     "output_type": "stream",
     "text": [
      "0    1\n",
      "1    4\n",
      "Name: a, dtype: int64\n",
      "0    1\n",
      "1    4\n",
      "Name: a, dtype: int64\n"
     ]
    }
   ],
   "source": [
    "import pandas as pd\n",
    "\n",
    "# The most useful data structure of pandas is a DataFrame, which is more or less a table or a 2D array.\n",
    "df = pd.DataFrame([[1,2,3], [4,5,6]])\n",
    "display(df)\n",
    "\n",
    "# The difference is that you can assign meaning to different columns, such as index and column name\n",
    "df = pd.DataFrame([[1,2,3], [4,5,6]], columns=['a', 'b', 'c'])\n",
    "display(df)\n",
    "\n",
    "# Now it is possible to access the diffrent columns by name\n",
    "print(df['a']) # access by key\n",
    "print(df.a)    # access by attribute"
   ]
  },
  {
   "cell_type": "code",
   "execution_count": 7,
   "id": "humanitarian-float",
   "metadata": {
    "slideshow": {
     "slide_type": "slide"
    }
   },
   "outputs": [
    {
     "data": {
      "text/html": [
       "<div>\n",
       "<style scoped>\n",
       "    .dataframe tbody tr th:only-of-type {\n",
       "        vertical-align: middle;\n",
       "    }\n",
       "\n",
       "    .dataframe tbody tr th {\n",
       "        vertical-align: top;\n",
       "    }\n",
       "\n",
       "    .dataframe thead th {\n",
       "        text-align: right;\n",
       "    }\n",
       "</style>\n",
       "<table border=\"1\" class=\"dataframe\">\n",
       "  <thead>\n",
       "    <tr style=\"text-align: right;\">\n",
       "      <th></th>\n",
       "      <th>a</th>\n",
       "      <th>b</th>\n",
       "      <th>c</th>\n",
       "      <th>sum</th>\n",
       "      <th>mean</th>\n",
       "    </tr>\n",
       "  </thead>\n",
       "  <tbody>\n",
       "    <tr>\n",
       "      <th>0</th>\n",
       "      <td>1</td>\n",
       "      <td>2</td>\n",
       "      <td>3</td>\n",
       "      <td>6</td>\n",
       "      <td>2.0</td>\n",
       "    </tr>\n",
       "    <tr>\n",
       "      <th>1</th>\n",
       "      <td>4</td>\n",
       "      <td>5</td>\n",
       "      <td>6</td>\n",
       "      <td>15</td>\n",
       "      <td>5.0</td>\n",
       "    </tr>\n",
       "  </tbody>\n",
       "</table>\n",
       "</div>"
      ],
      "text/plain": [
       "   a  b  c  sum  mean\n",
       "0  1  2  3    6   2.0\n",
       "1  4  5  6   15   5.0"
      ]
     },
     "metadata": {},
     "output_type": "display_data"
    },
    {
     "data": {
      "text/html": [
       "<div>\n",
       "<style scoped>\n",
       "    .dataframe tbody tr th:only-of-type {\n",
       "        vertical-align: middle;\n",
       "    }\n",
       "\n",
       "    .dataframe tbody tr th {\n",
       "        vertical-align: top;\n",
       "    }\n",
       "\n",
       "    .dataframe thead th {\n",
       "        text-align: right;\n",
       "    }\n",
       "</style>\n",
       "<table border=\"1\" class=\"dataframe\">\n",
       "  <thead>\n",
       "    <tr style=\"text-align: right;\">\n",
       "      <th></th>\n",
       "      <th>a</th>\n",
       "      <th>b</th>\n",
       "      <th>c</th>\n",
       "    </tr>\n",
       "  </thead>\n",
       "  <tbody>\n",
       "    <tr>\n",
       "      <th>0</th>\n",
       "      <td>1</td>\n",
       "      <td>2</td>\n",
       "      <td>3</td>\n",
       "    </tr>\n",
       "    <tr>\n",
       "      <th>1</th>\n",
       "      <td>4</td>\n",
       "      <td>5</td>\n",
       "      <td>6</td>\n",
       "    </tr>\n",
       "  </tbody>\n",
       "</table>\n",
       "</div>"
      ],
      "text/plain": [
       "   a  b  c\n",
       "0  1  2  3\n",
       "1  4  5  6"
      ]
     },
     "metadata": {},
     "output_type": "display_data"
    }
   ],
   "source": [
    "# It is easy to create new columns in pandas DataFrame\n",
    "\n",
    "df['sum']  =  df.a + df.b + df.c\n",
    "df['mean'] = (df.a + df.b + df.c) / 3\n",
    "\n",
    "# Note that each column acts as a numpy array, so we can perform \"element-wise\" operations\n",
    "\n",
    "display(df)\n",
    "\n",
    "# We may also see a pandas DataFrame as a database.\n",
    "# Then it makes sense to \"drop\" information...\n",
    "\n",
    "df = df.drop(['sum', 'mean'], axis=1)\n",
    "\n",
    "display(df)"
   ]
  },
  {
   "cell_type": "code",
   "execution_count": 8,
   "id": "enclosed-development",
   "metadata": {
    "slideshow": {
     "slide_type": "slide"
    }
   },
   "outputs": [
    {
     "data": {
      "text/plain": [
       "0     6\n",
       "1    15\n",
       "dtype: int64"
      ]
     },
     "metadata": {},
     "output_type": "display_data"
    },
    {
     "data": {
      "text/html": [
       "<div>\n",
       "<style scoped>\n",
       "    .dataframe tbody tr th:only-of-type {\n",
       "        vertical-align: middle;\n",
       "    }\n",
       "\n",
       "    .dataframe tbody tr th {\n",
       "        vertical-align: top;\n",
       "    }\n",
       "\n",
       "    .dataframe thead th {\n",
       "        text-align: right;\n",
       "    }\n",
       "</style>\n",
       "<table border=\"1\" class=\"dataframe\">\n",
       "  <thead>\n",
       "    <tr style=\"text-align: right;\">\n",
       "      <th></th>\n",
       "      <th>a</th>\n",
       "      <th>b</th>\n",
       "      <th>c</th>\n",
       "      <th>mean</th>\n",
       "    </tr>\n",
       "  </thead>\n",
       "  <tbody>\n",
       "    <tr>\n",
       "      <th>0</th>\n",
       "      <td>1</td>\n",
       "      <td>2</td>\n",
       "      <td>3</td>\n",
       "      <td>2.0</td>\n",
       "    </tr>\n",
       "    <tr>\n",
       "      <th>1</th>\n",
       "      <td>4</td>\n",
       "      <td>5</td>\n",
       "      <td>6</td>\n",
       "      <td>5.0</td>\n",
       "    </tr>\n",
       "  </tbody>\n",
       "</table>\n",
       "</div>"
      ],
      "text/plain": [
       "   a  b  c  mean\n",
       "0  1  2  3   2.0\n",
       "1  4  5  6   5.0"
      ]
     },
     "metadata": {},
     "output_type": "display_data"
    }
   ],
   "source": [
    "# Since DataFrame is like a database, we may as pandas to perform some operation \"per row\" for us.\n",
    "\n",
    "display(df.apply(np.sum, axis=1))\n",
    "\n",
    "# We can of course add the resulting column back to the DataFrame\n",
    "\n",
    "df['mean'] = df.apply(np.mean, axis=1)\n",
    "display(df)"
   ]
  },
  {
   "cell_type": "markdown",
   "id": "reliable-timeline",
   "metadata": {
    "slideshow": {
     "slide_type": "slide"
    }
   },
   "source": [
    "* In addition to computation, `numpy`, `pandas`, and `scipy` are also great for I/O.\n",
    "\n",
    "* We learned in a previous assignment how to use pure python to read in data from text files.  However, as data sets become more complex, programming your own file reader gets more difficult.\n",
    "\n",
    "* Specifically, we will use `pandas`'s `read_csv()` function."
   ]
  },
  {
   "cell_type": "code",
   "execution_count": 9,
   "id": "optical-culture",
   "metadata": {
    "slideshow": {
     "slide_type": "slide"
    }
   },
   "outputs": [
    {
     "name": "stdout",
     "output_type": "stream",
     "text": [
      "GlobalTemperatures.csv dataproc.ipynb\n",
      "assignment.ipynb       temperature.csv\n",
      "date,temperature,uncertainty\n",
      "1850-01-01,1.2833e+01,3.67e-01\n",
      "1850-02-01,1.3588e+01,4.14e-01\n",
      "1850-03-01,1.4043e+01,3.41e-01\n",
      "1850-04-01,1.4667e+01,2.67e-01\n",
      "1850-05-01,1.5507e+01,2.49e-01\n",
      "1850-06-01,1.6353e+01,2.45e-01\n",
      "1850-07-01,1.6783e+01,2.38e-01\n",
      "1850-08-01,1.6718e+01,2.80e-01\n",
      "1850-09-01,1.5886e+01,2.54e-01\n"
     ]
    }
   ],
   "source": [
    "# It is actually possible to run shell command in Jupyter notebook.\n",
    "# We simply start with a \"!\".\n",
    "# Let's first look at what files we have in this directory:\n",
    "\n",
    "!ls\n",
    "\n",
    "# We would like to load the \"temperature.csv\" file.\n",
    "# Let's use the Unix command `head` to show what is in it:\n",
    "\n",
    "! head temperature.csv\n",
    "\n",
    "# This file actually contains the world temperature as function of time for the last ~ 150 years!"
   ]
  },
  {
   "cell_type": "code",
   "execution_count": 10,
   "id": "decimal-semester",
   "metadata": {
    "slideshow": {
     "slide_type": "slide"
    }
   },
   "outputs": [
    {
     "data": {
      "text/html": [
       "<div>\n",
       "<style scoped>\n",
       "    .dataframe tbody tr th:only-of-type {\n",
       "        vertical-align: middle;\n",
       "    }\n",
       "\n",
       "    .dataframe tbody tr th {\n",
       "        vertical-align: top;\n",
       "    }\n",
       "\n",
       "    .dataframe thead th {\n",
       "        text-align: right;\n",
       "    }\n",
       "</style>\n",
       "<table border=\"1\" class=\"dataframe\">\n",
       "  <thead>\n",
       "    <tr style=\"text-align: right;\">\n",
       "      <th></th>\n",
       "      <th>date</th>\n",
       "      <th>temperature</th>\n",
       "      <th>uncertainty</th>\n",
       "    </tr>\n",
       "  </thead>\n",
       "  <tbody>\n",
       "    <tr>\n",
       "      <th>0</th>\n",
       "      <td>1850-01-01</td>\n",
       "      <td>12.833</td>\n",
       "      <td>0.367</td>\n",
       "    </tr>\n",
       "    <tr>\n",
       "      <th>1</th>\n",
       "      <td>1850-02-01</td>\n",
       "      <td>13.588</td>\n",
       "      <td>0.414</td>\n",
       "    </tr>\n",
       "    <tr>\n",
       "      <th>2</th>\n",
       "      <td>1850-03-01</td>\n",
       "      <td>14.043</td>\n",
       "      <td>0.341</td>\n",
       "    </tr>\n",
       "    <tr>\n",
       "      <th>3</th>\n",
       "      <td>1850-04-01</td>\n",
       "      <td>14.667</td>\n",
       "      <td>0.267</td>\n",
       "    </tr>\n",
       "    <tr>\n",
       "      <th>4</th>\n",
       "      <td>1850-05-01</td>\n",
       "      <td>15.507</td>\n",
       "      <td>0.249</td>\n",
       "    </tr>\n",
       "    <tr>\n",
       "      <th>...</th>\n",
       "      <td>...</td>\n",
       "      <td>...</td>\n",
       "      <td>...</td>\n",
       "    </tr>\n",
       "    <tr>\n",
       "      <th>1987</th>\n",
       "      <td>2015-08-01</td>\n",
       "      <td>17.589</td>\n",
       "      <td>0.057</td>\n",
       "    </tr>\n",
       "    <tr>\n",
       "      <th>1988</th>\n",
       "      <td>2015-09-01</td>\n",
       "      <td>17.049</td>\n",
       "      <td>0.058</td>\n",
       "    </tr>\n",
       "    <tr>\n",
       "      <th>1989</th>\n",
       "      <td>2015-10-01</td>\n",
       "      <td>16.290</td>\n",
       "      <td>0.062</td>\n",
       "    </tr>\n",
       "    <tr>\n",
       "      <th>1990</th>\n",
       "      <td>2015-11-01</td>\n",
       "      <td>15.252</td>\n",
       "      <td>0.063</td>\n",
       "    </tr>\n",
       "    <tr>\n",
       "      <th>1991</th>\n",
       "      <td>2015-12-01</td>\n",
       "      <td>14.774</td>\n",
       "      <td>0.062</td>\n",
       "    </tr>\n",
       "  </tbody>\n",
       "</table>\n",
       "<p>1992 rows × 3 columns</p>\n",
       "</div>"
      ],
      "text/plain": [
       "            date  temperature  uncertainty\n",
       "0     1850-01-01       12.833        0.367\n",
       "1     1850-02-01       13.588        0.414\n",
       "2     1850-03-01       14.043        0.341\n",
       "3     1850-04-01       14.667        0.267\n",
       "4     1850-05-01       15.507        0.249\n",
       "...          ...          ...          ...\n",
       "1987  2015-08-01       17.589        0.057\n",
       "1988  2015-09-01       17.049        0.058\n",
       "1989  2015-10-01       16.290        0.062\n",
       "1990  2015-11-01       15.252        0.063\n",
       "1991  2015-12-01       14.774        0.062\n",
       "\n",
       "[1992 rows x 3 columns]"
      ]
     },
     "metadata": {},
     "output_type": "display_data"
    }
   ],
   "source": [
    "# Let's load this file using pandas:\n",
    "\n",
    "df = pd.read_csv('temperature.csv')\n",
    "\n",
    "# That's it!  No file opening, no for loop!\n",
    "\n",
    "display(df)"
   ]
  },
  {
   "cell_type": "code",
   "execution_count": 11,
   "id": "engaging-arena",
   "metadata": {
    "slideshow": {
     "slide_type": "slide"
    }
   },
   "outputs": [
    {
     "data": {
      "text/plain": [
       "[<matplotlib.lines.Line2D at 0x125f7c130>]"
      ]
     },
     "execution_count": 11,
     "metadata": {},
     "output_type": "execute_result"
    },
    {
     "data": {
      "image/png": "[encoded data removed]",
      "text/plain": [
       "<Figure size 432x288 with 1 Axes>"
      ]
     },
     "metadata": {
      "needs_background": "light"
     },
     "output_type": "display_data"
    }
   ],
   "source": [
    "# We may now plot the data set.\n",
    "# The plot will take some time.  What's going on?\n",
    "\n",
    "plt.plot(df.date, df.temperature)"
   ]
  },
  {
   "cell_type": "code",
   "execution_count": 13,
   "id": "featured-accountability",
   "metadata": {
    "slideshow": {
     "slide_type": "slide"
    }
   },
   "outputs": [
    {
     "data": {
      "text/plain": [
       "0       1850-01-01\n",
       "1       1850-02-01\n",
       "2       1850-03-01\n",
       "3       1850-04-01\n",
       "4       1850-05-01\n",
       "           ...    \n",
       "1987    2015-08-01\n",
       "1988    2015-09-01\n",
       "1989    2015-10-01\n",
       "1990    2015-11-01\n",
       "1991    2015-12-01\n",
       "Name: date, Length: 1992, dtype: object"
      ]
     },
     "execution_count": 13,
     "metadata": {},
     "output_type": "execute_result"
    }
   ],
   "source": [
    "# It turns out that the the \"date\" column is still in string!\n",
    "# And matplotlib is slow in figure out the labels of the x-axis.\n",
    "\n",
    "df.date"
   ]
  },
  {
   "cell_type": "code",
   "execution_count": 14,
   "id": "deadly-plane",
   "metadata": {
    "slideshow": {
     "slide_type": "slide"
    }
   },
   "outputs": [
    {
     "data": {
      "text/plain": [
       "0      1850-01-01\n",
       "1      1850-02-01\n",
       "2      1850-03-01\n",
       "3      1850-04-01\n",
       "4      1850-05-01\n",
       "          ...    \n",
       "1987   2015-08-01\n",
       "1988   2015-09-01\n",
       "1989   2015-10-01\n",
       "1990   2015-11-01\n",
       "1991   2015-12-01\n",
       "Name: date, Length: 1992, dtype: datetime64[ns]"
      ]
     },
     "execution_count": 14,
     "metadata": {},
     "output_type": "execute_result"
    }
   ],
   "source": [
    "# Fortuantely, pandas has a \"datetime\" type that can help us fix it.\n",
    "\n",
    "df.date = pd.to_datetime(df.date)\n",
    "df.date"
   ]
  },
  {
   "cell_type": "code",
   "execution_count": 15,
   "id": "automated-sunrise",
   "metadata": {
    "slideshow": {
     "slide_type": "slide"
    }
   },
   "outputs": [
    {
     "data": {
      "text/plain": [
       "[<matplotlib.lines.Line2D at 0x126fcc8e0>]"
      ]
     },
     "execution_count": 15,
     "metadata": {},
     "output_type": "execute_result"
    },
    {
     "data": {
      "image/png": "[encoded data removed]",
      "text/plain": [
       "<Figure size 432x288 with 1 Axes>"
      ]
     },
     "metadata": {
      "needs_background": "light"
     },
     "output_type": "display_data"
    }
   ],
   "source": [
    "# Now plotting should take less than a second!\n",
    "# Data type is important!\n",
    "\n",
    "plt.plot(df.date, df.temperature)"
   ]
  },
  {
   "cell_type": "code",
   "execution_count": 16,
   "id": "wrapped-tutorial",
   "metadata": {
    "slideshow": {
     "slide_type": "slide"
    }
   },
   "outputs": [
    {
     "data": {
      "text/plain": [
       "(10957.0, 14610.0)"
      ]
     },
     "execution_count": 16,
     "metadata": {},
     "output_type": "execute_result"
    },
    {
     "data": {
      "image/png": "[encoded data removed]",
      "text/plain": [
       "<Figure size 432x288 with 1 Axes>"
      ]
     },
     "metadata": {
      "needs_background": "light"
     },
     "output_type": "display_data"
    }
   ],
   "source": [
    "# There are too many data points, let's zoom into the data\n",
    "\n",
    "plt.plot(df.date, df.temperature)\n",
    "plt.xlim(pd.to_datetime('2000'), pd.to_datetime('2010'))\n",
    "\n",
    "# What are these waves?"
   ]
  },
  {
   "cell_type": "code",
   "execution_count": 17,
   "id": "earlier-spending",
   "metadata": {
    "slideshow": {
     "slide_type": "slide"
    }
   },
   "outputs": [
    {
     "data": {
      "text/html": [
       "<div>\n",
       "<style scoped>\n",
       "    .dataframe tbody tr th:only-of-type {\n",
       "        vertical-align: middle;\n",
       "    }\n",
       "\n",
       "    .dataframe tbody tr th {\n",
       "        vertical-align: top;\n",
       "    }\n",
       "\n",
       "    .dataframe thead th {\n",
       "        text-align: right;\n",
       "    }\n",
       "</style>\n",
       "<table border=\"1\" class=\"dataframe\">\n",
       "  <thead>\n",
       "    <tr style=\"text-align: right;\">\n",
       "      <th></th>\n",
       "      <th>temperature</th>\n",
       "      <th>uncertainty</th>\n",
       "    </tr>\n",
       "    <tr>\n",
       "      <th>date</th>\n",
       "      <th></th>\n",
       "      <th></th>\n",
       "    </tr>\n",
       "  </thead>\n",
       "  <tbody>\n",
       "    <tr>\n",
       "      <th>1</th>\n",
       "      <td>13.458054</td>\n",
       "      <td>0.140849</td>\n",
       "    </tr>\n",
       "    <tr>\n",
       "      <th>2</th>\n",
       "      <td>13.722807</td>\n",
       "      <td>0.139765</td>\n",
       "    </tr>\n",
       "    <tr>\n",
       "      <th>3</th>\n",
       "      <td>14.339988</td>\n",
       "      <td>0.129904</td>\n",
       "    </tr>\n",
       "    <tr>\n",
       "      <th>4</th>\n",
       "      <td>15.215886</td>\n",
       "      <td>0.127337</td>\n",
       "    </tr>\n",
       "    <tr>\n",
       "      <th>5</th>\n",
       "      <td>15.996398</td>\n",
       "      <td>0.128349</td>\n",
       "    </tr>\n",
       "    <tr>\n",
       "      <th>6</th>\n",
       "      <td>16.597602</td>\n",
       "      <td>0.122976</td>\n",
       "    </tr>\n",
       "    <tr>\n",
       "      <th>7</th>\n",
       "      <td>16.902639</td>\n",
       "      <td>0.126861</td>\n",
       "    </tr>\n",
       "    <tr>\n",
       "      <th>8</th>\n",
       "      <td>16.809410</td>\n",
       "      <td>0.128367</td>\n",
       "    </tr>\n",
       "    <tr>\n",
       "      <th>9</th>\n",
       "      <td>16.212114</td>\n",
       "      <td>0.122139</td>\n",
       "    </tr>\n",
       "    <tr>\n",
       "      <th>10</th>\n",
       "      <td>15.330572</td>\n",
       "      <td>0.119922</td>\n",
       "    </tr>\n",
       "    <tr>\n",
       "      <th>11</th>\n",
       "      <td>14.310422</td>\n",
       "      <td>0.123602</td>\n",
       "    </tr>\n",
       "    <tr>\n",
       "      <th>12</th>\n",
       "      <td>13.654898</td>\n",
       "      <td>0.132313</td>\n",
       "    </tr>\n",
       "  </tbody>\n",
       "</table>\n",
       "</div>"
      ],
      "text/plain": [
       "      temperature  uncertainty\n",
       "date                          \n",
       "1       13.458054     0.140849\n",
       "2       13.722807     0.139765\n",
       "3       14.339988     0.129904\n",
       "4       15.215886     0.127337\n",
       "5       15.996398     0.128349\n",
       "6       16.597602     0.122976\n",
       "7       16.902639     0.126861\n",
       "8       16.809410     0.128367\n",
       "9       16.212114     0.122139\n",
       "10      15.330572     0.119922\n",
       "11      14.310422     0.123602\n",
       "12      13.654898     0.132313"
      ]
     },
     "metadata": {},
     "output_type": "display_data"
    },
    {
     "data": {
      "text/plain": [
       "Text(0.5, 1.0, 'Seasonal changes')"
      ]
     },
     "execution_count": 17,
     "metadata": {},
     "output_type": "execute_result"
    },
    {
     "data": {
      "image/png": "[encoded data removed]",
      "text/plain": [
       "<Figure size 432x288 with 1 Axes>"
      ]
     },
     "metadata": {
      "needs_background": "light"
     },
     "output_type": "display_data"
    }
   ],
   "source": [
    "# Looking at the period, these look like seasonal variations.\n",
    "# pandas provide tools for us to group the data and then perform group operation.\n",
    "\n",
    "mm = df.groupby(by=[df.date.dt.month]).mean()\n",
    "\n",
    "display(mm)\n",
    "\n",
    "plt.plot(mm.index, mm.temperature)\n",
    "plt.title('Seasonal changes')"
   ]
  },
  {
   "cell_type": "markdown",
   "id": "seventh-ready",
   "metadata": {
    "slideshow": {
     "slide_type": "slide"
    }
   },
   "source": [
    "## Use `scipy` to fit curves\n",
    "\n",
    "* Another very common operation we need to do is to fit curves to data.\n",
    "\n",
    "* `scipy` provides standard [curve fitting](https://docs.scipy.org/doc/scipy/reference/generated/scipy.optimize.curve_fit.html) functions that we can use."
   ]
  },
  {
   "cell_type": "code",
   "execution_count": 18,
   "id": "cheap-wells",
   "metadata": {
    "slideshow": {
     "slide_type": "slide"
    }
   },
   "outputs": [
    {
     "name": "stdout",
     "output_type": "stream",
     "text": [
      "[15.21256576  1.74182653  4.06357895]\n"
     ]
    }
   ],
   "source": [
    "from scipy.optimize import curve_fit\n",
    "\n",
    "# Provide a functional form to fit\n",
    "def func(t, off, amp, phi):\n",
    "    return off + amp * np.sin(2 * pi * (t - phi) / 12)\n",
    "\n",
    "popt, pcov = curve_fit(func, mm.index, mm.temperature)\n",
    "\n",
    "# This contains the fitted parameters\n",
    "print(popt)"
   ]
  },
  {
   "cell_type": "code",
   "execution_count": 19,
   "id": "informational-decrease",
   "metadata": {
    "slideshow": {
     "slide_type": "slide"
    }
   },
   "outputs": [
    {
     "data": {
      "text/plain": [
       "Text(0.5, 1.0, 'Seasonal changes')"
      ]
     },
     "execution_count": 19,
     "metadata": {},
     "output_type": "execute_result"
    },
    {
     "data": {
      "image/png": "[encoded data removed]",
      "text/plain": [
       "<Figure size 432x288 with 1 Axes>"
      ]
     },
     "metadata": {
      "needs_background": "light"
     },
     "output_type": "display_data"
    }
   ],
   "source": [
    "# And we can now overplot the data and the fit\n",
    "\n",
    "plt.plot(mm.index, mm.temperature)\n",
    "plt.plot(mm.index, func(mm.index, *popt))\n",
    "plt.title('Seasonal changes')"
   ]
  },
  {
   "cell_type": "markdown",
   "metadata": {},
   "source": [
    "`scipy` also contains several other features useful for science: \n",
    "- special functions\n",
    "- integration of differential equations\n",
    "- interpolations\n",
    "- and more"
   ]
  }
 ],
 "metadata": {
  "celltoolbar": "Slideshow",
  "kernelspec": {
   "display_name": "Python 3 (ipykernel)",
   "language": "python",
   "name": "python3"
  },
  "language_info": {
   "codemirror_mode": {
    "name": "ipython",
    "version": 3
   },
   "file_extension": ".py",
   "mimetype": "text/x-python",
   "name": "python",
   "nbconvert_exporter": "python",
   "pygments_lexer": "ipython3",
   "version": "3.9.10"
  }
 },
 "nbformat": 4,
 "nbformat_minor": 5
}
