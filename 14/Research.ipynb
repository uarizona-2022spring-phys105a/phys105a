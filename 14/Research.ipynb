{
 "cells": [
  {
   "cell_type": "markdown",
   "id": "numerical-monthly",
   "metadata": {
    "slideshow": {
     "slide_type": "slide"
    }
   },
   "source": [
    "## PHYS 105A:  Introduction to Scientific Computing\n",
    "\n",
    "# Research Codes in Action\n",
    "\n",
    "Chi-kwan Chan"
   ]
  },
  {
   "cell_type": "markdown",
   "id": "preceding-physics",
   "metadata": {
    "slideshow": {
     "slide_type": "slide"
    }
   },
   "source": [
    "* This is the final lecture for PHYS 105A!\n",
    "\n",
    "* Here are the topics we covered:\n",
    "\n",
    "  * Unix shells and git\n",
    "  \n",
    "  * Jupyter Notebook/Lab\n",
    "    \n",
    "  * Python and (minimal of) C\n",
    "  \n",
    "  * Random number generation and Monte Carlo methods\n",
    "  \n",
    "  * Data processing in python with `numpy` and `scipy`\n",
    "  \n",
    "  * Numerical integration of functions\n",
    "  \n",
    "  * Root finding and optimization\n",
    "  \n",
    "  * ODE integration\n",
    "  \n",
    "* We will connect these topics with real world research projects."
   ]
  },
  {
   "cell_type": "markdown",
   "id": "fleet-malpractice",
   "metadata": {
    "slideshow": {
     "slide_type": "slide"
    }
   },
   "source": [
    "## REBOUND\n",
    "\n",
    "* Since we learned about the n-body problem last week, let's start with a very well written n-body code.\n",
    "\n",
    "* [Readthedoc](https://rebound.readthedocs.io/en/latest/) and [GitHub](https://github.com/hannorein/rebound).\n",
    "\n",
    "* The core algorithms are written in [C](https://github.com/hannorein/rebound/blob/main/src/integrator_leapfrog.c).\n",
    "\n",
    "* But the code has [python binding](https://github.com/hannorein/rebound/tree/main/rebound).\n",
    "\n",
    "* REBOUND is an n-body code that implements multiple gravity solvers and many orbit integrators.\n",
    "\n",
    "* Hands-on:\n",
    "\n",
    "  * Python: `pip install rebound` and then try the [tutorials](https://github.com/hannorein/rebound/tree/main/ipython_examples).\n",
    "\n",
    "  * C: `apt install glfw && cd cd rebound/examples/shearing_sheet && make && ./rebound`"
   ]
  },
  {
   "cell_type": "markdown",
   "id": "native-window",
   "metadata": {
    "slideshow": {
     "slide_type": "slide"
    }
   },
   "source": [
    "## Gadget2\n",
    "\n",
    "* Cosmological n-body and Smoothed Particle Hydrodynamics (SPH) code.\n",
    "\n",
    "* [Website](https://wwwmpa.mpa-garching.mpg.de/gadget/) and [source code](https://wwwmpa.mpa-garching.mpg.de/gadget/right.html#Download).\n",
    "\n",
    "* The code is written in C.\n",
    "\n",
    "* Its n-body part is like REBOUND in the extreme!  SPH takes into account gas.\n",
    "\n",
    "* Expensive to run locally.  Look at results from the [millennium simulation](https://wwwmpa.mpa-garching.mpg.de/galform/virgo/millennium/)."
   ]
  },
  {
   "cell_type": "markdown",
   "id": "addressed-meditation",
   "metadata": {
    "slideshow": {
     "slide_type": "slide"
    }
   },
   "source": [
    "## Athena++\n",
    "\n",
    "* Astrophysics fluid simulator Athena++\n",
    "\n",
    "* [Website](https://www.athena-astro.app) and [GitHub](https://github.com/PrincetonUniversity/athena-public-version)\n",
    "\n",
    "* The code is written in [C++](https://github.com/PrincetonUniversity/athena-public-version/blob/master/src/main.cpp).\n",
    "\n",
    "* Athena++ uses finite volume method to solve for \n",
    "\n",
    "* Extensive documentation [here](https://github.com/PrincetonUniversity/athena-public-version/wiki).\n",
    "\n",
    "* Hands-on:\n",
    "\n",
    "  `./configure.py && make`"
   ]
  },
  {
   "cell_type": "markdown",
   "id": "restricted-eugene",
   "metadata": {
    "slideshow": {
     "slide_type": "slide"
    }
   },
   "source": [
    "## Arepo Code\n",
    "\n",
    "* Cosmological code developed by the same author of Gadget2.\n",
    "\n",
    "* [Website](https://arepo-code.org/) and [GitLab](https://gitlab.mpcdf.mpg.de/vrs/arepo)\n",
    "\n",
    "* The code is written in [C](https://gitlab.mpcdf.mpg.de/vrs/arepo/-/blob/master/src/main/main.c).\n",
    "\n",
    "* A very innovative moving mesh method.\n",
    "\n",
    "* Extensive documentation [here](https://arepo-code.org/wp-content/userguide/index.html).\n",
    "\n",
    "* Expensive to run locally.  Look at results from [large scale](https://www.illustris-project.org/) [calculations](https://www.tng-project.org/)."
   ]
  },
  {
   "cell_type": "markdown",
   "id": "instant-suggestion",
   "metadata": {
    "slideshow": {
     "slide_type": "slide"
    }
   },
   "source": [
    "## yt\n",
    "\n",
    "* Python code for analyzing and visualizing volumetric data.\n",
    "\n",
    "* [Website](https://yt-project.org/) and [GitHub](https://github.com/yt-project/yt)\n",
    "\n",
    "* Code written in python with very little dependency.\n",
    "\n",
    "* Unified data model for many simulation codes.\n",
    "\n",
    "* Extensive documentation [here](https://yt-project.org/docs/dev/).\n",
    "\n",
    "* Hands-on: [installation](https://yt-project.org/docs/dev/installing.html) and [quickstart](https://yt-project.org/docs/dev/quickstart/index.html)."
   ]
  },
  {
   "cell_type": "markdown",
   "id": "postal-douglas",
   "metadata": {
    "slideshow": {
     "slide_type": "slide"
    }
   },
   "source": [
    "## Outlook\n",
    "\n",
    "* Thanks for attending PHYS 105A!\n",
    "\n",
    "* This is an unusual PHYS 105A:\n",
    "\n",
    "  * We are fully remote.\n",
    "  \n",
    "  * We learn tools, e.g., Git and GitHub, Jupyter Notebook, that may not be covered in traditional PHYS 105A.\n",
    "  \n",
    "* We went through multiple numerical methods:\n",
    "\n",
    "  * We didn't go too deep into any of the topics, but hopefully now \"you've seen them all\" and know what terms to search when you need to solve a problem.\n",
    "  \n",
    "  * We learned the important concept of convegence.\n",
    "  \n",
    "  * We saw how multiple algorithms break down.\n",
    "  \n",
    "* I hope you will use the tools you learned here for your other work.\n",
    "\n",
    "* If you there's only one thing you remember form this course:\n",
    "\n",
    "  * Don't blindly trust results come out from a computer; garbage in, garbage out!"
   ]
  },
  {
   "cell_type": "code",
   "execution_count": null,
   "id": "criminal-infrared",
   "metadata": {},
   "outputs": [],
   "source": []
  }
 ],
 "metadata": {
  "celltoolbar": "Slideshow",
  "kernelspec": {
   "display_name": "Python 3 (ipykernel)",
   "language": "python",
   "name": "python3"
  },
  "language_info": {
   "codemirror_mode": {
    "name": "ipython",
    "version": 3
   },
   "file_extension": ".py",
   "mimetype": "text/x-python",
   "name": "python",
   "nbconvert_exporter": "python",
   "pygments_lexer": "ipython3",
   "version": "3.10.4"
  }
 },
 "nbformat": 4,
 "nbformat_minor": 5
}
