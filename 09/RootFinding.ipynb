{
 "cells": [
  {
   "cell_type": "markdown",
   "id": "numerical-monthly",
   "metadata": {
    "slideshow": {
     "slide_type": "slide"
    }
   },
   "source": [
    "## PHYS 105A:  Introduction to Scientific Computing\n",
    "\n",
    "# Root Finding\n",
    "\n",
    "Chi-kwan Chan"
   ]
  },
  {
   "cell_type": "markdown",
   "id": "historic-husband",
   "metadata": {
    "slideshow": {
     "slide_type": "slide"
    }
   },
   "source": [
    "## Problem Definition\n",
    "\n",
    "* When we hear about \"root finding\", one may immediate think about computing the square root of a number, e.g., $\\sqrt{2} = 1.414$.\n",
    "\n",
    "* However, it actually includes a larger group of problems.  For any equation LHS = RHS, we can perform a trivial manipulation and move all terms to one side so that\n",
    "\n",
    "  $\\mbox{LHS} - \\mbox{RHS} = f(x) = 0$\n",
    "  \n",
    "* The solutions of the above equation are its roots.  Solving the above equation is called root finding.\n",
    "\n",
    "* The square root problem above can be casted into the solution of the equation $x^2 - 2 = 0$."
   ]
  },
  {
   "cell_type": "markdown",
   "id": "described-franklin",
   "metadata": {
    "slideshow": {
     "slide_type": "slide"
    }
   },
   "source": [
    "## Graphical Search for Roots\n",
    "\n",
    "* It is always a good idea to plot a function.\n",
    "\n",
    "* We already know how to plot functions in python\n",
    "\n",
    "* Here, we make things a bit more fun by enabling realtime adjustments to the plot.\n",
    "\n",
    "* Note that this only works for Jupyter Notebook but not in Jupyter Lab.\n",
    "\n",
    "* You will need to install `ipywidgets`, you can do it with `pip3 install ipywidgets --user`"
   ]
  },
  {
   "cell_type": "code",
   "execution_count": null,
   "id": "broke-campaign",
   "metadata": {
    "slideshow": {
     "slide_type": "slide"
    }
   },
   "outputs": [],
   "source": [
    "%matplotlib notebook\n",
    "\n",
    "from ipywidgets import *\n",
    "\n",
    "import numpy as np\n",
    "import matplotlib.pyplot as plt\n",
    "\n",
    "def f(x):\n",
    "    return x * x - 2\n",
    "\n",
    "x       = np.linspace(0, 2, 2001)\n",
    "fig, ax = plt.subplots(1,1)\n",
    "\n",
    "ax.plot(x, f(x))\n",
    "ax.axhline(y=0, color='k', lw=0.5)\n",
    "\n",
    "def update(a=0, b=2, y=2):\n",
    "    ax.set_xlim( a, b)\n",
    "    ax.set_ylim(-y, y)\n",
    "    fig.canvas.draw_idle()\n",
    "\n",
    "interact(\n",
    "    update,\n",
    "    a = (0, 2, 0.001),\n",
    "    b = (0, 2, 0.001),\n",
    "    y = (0, 2, 0.001));"
   ]
  },
  {
   "cell_type": "markdown",
   "id": "fixed-theory",
   "metadata": {
    "slideshow": {
     "slide_type": "slide"
    }
   },
   "source": [
    "* By playing around with the above widgets, we can already find out $1.41 < \\sqrt{2} < 1.42$!\n",
    "\n",
    "* This doesn't require programming a special square root function.  Instead, it simply requires evulating the polynomial $x^2 - 2$.\n",
    "\n",
    "* When we change the domain/x-limit/interval of the plot, we are able to identify the location of the root.\n",
    "\n",
    "* This is exactly the idea we will use to find roots numerically."
   ]
  },
  {
   "cell_type": "markdown",
   "id": "stable-angel",
   "metadata": {
    "slideshow": {
     "slide_type": "slide"
    }
   },
   "source": [
    "## Bracketing\n",
    "\n",
    "* A root is called \"bracketed in the interval $(a, b)$\" if $f(a)$ and $f(b)$ have different signs. \n",
    "\n",
    "* This is pretty intuitive.  If the function $f$ is continuous, then at least one root must lie in that interval.  This is called the intermediate value theorem.\n",
    "\n",
    "* Things get tricky if $f$ is discontinuous or unbounded.  But for this lecture let's focus on the simple continuous case only.\n",
    "\n",
    "* It turns out that there is no good way to guess the bracket.  So let's first implement a program to help us find the bracket."
   ]
  },
  {
   "cell_type": "code",
   "execution_count": null,
   "id": "smoking-mobility",
   "metadata": {
    "slideshow": {
     "slide_type": "slide"
    }
   },
   "outputs": [],
   "source": [
    "def zbrac(f, a, b):\n",
    "    \"\"\"zbrac automatically expands the range to find an interval\n",
    "    where f(a) * f(b) < 0.\n",
    "    \"\"\"\n",
    "    ntry   = 50\n",
    "    factor = 1.6\n",
    "    if a >= b:\n",
    "        raise ValueError('Bad initial range')\n",
    "\n",
    "    # Left and right values\n",
    "    l = f(a)\n",
    "    r = f(b)\n",
    "    \n",
    "    for _ in range(ntry):\n",
    "        if l * r < 0:\n",
    "            return a, b\n",
    "        elif abs(l) < abs(r):\n",
    "            a += factor * (a - b)\n",
    "            l  = f(a)\n",
    "        else:\n",
    "            b += factor * (b - a)\n",
    "            r  = f(b)\n",
    "        print(a, b)\n",
    "    \n",
    "    raise Exception('Interval not found')"
   ]
  },
  {
   "cell_type": "code",
   "execution_count": null,
   "id": "cardiac-exchange",
   "metadata": {
    "slideshow": {
     "slide_type": "slide"
    }
   },
   "outputs": [],
   "source": [
    "def g(x):\n",
    "    return x + 1000\n",
    "    \n",
    "zbrac(g, -1, 1)"
   ]
  },
  {
   "cell_type": "markdown",
   "id": "atmospheric-parcel",
   "metadata": {
    "slideshow": {
     "slide_type": "slide"
    }
   },
   "source": [
    "## Bisection Method\n",
    "\n",
    "* There are many methods can be used to solve the root(s) once we have the bracket.\n",
    "\n",
    "* They have different speed and complexity.  One of the simplest but is the \"bisection method\". This is the most robust method.\n",
    "\n",
    "* The idea is simple:\n",
    "\n",
    "  * Evaluate the function at a valid interval's midpoint and examine its sign.\n",
    "  \n",
    "  * Use the midpoint to replace the limit which has the same sign.\n",
    "  \n",
    "  * Therefore, the interval containing the root decrease by a factor of two after each iteration."
   ]
  },
  {
   "cell_type": "markdown",
   "id": "c48f0c0a",
   "metadata": {
    "slideshow": {
     "slide_type": "slide"
    }
   },
   "source": [
    "* If after $n$ iterations the root is known to be within an interval of size $\\epsilon_n$, then after the next iteration it will be bracketed within an interval of size:\n",
    "\n",
    "  $\\epsilon_{n+1} = \\epsilon_n / 2$\n",
    "  \n",
    "  neither more nor less.\n",
    "  \n",
    "* Thus, we know in advance the number of iterations required to achieve a given tolerance in the solution,\n",
    "\n",
    "  $n = \\log_2 \\frac{\\epsilon_0}{\\epsilon}$\n",
    "  \n",
    "  where $\\epsilon_0$ is the size of the initially bracketing interval and $\\epsilon$ is the desired ending tolerance.\n",
    "  \n",
    "* Bisection must succeed.\n",
    "\n",
    "  * If the interval happens to contain more than one root, bisection will find one of them.\n",
    "  \n",
    "  * If the interval contains no roots and merely straddles a singularity, it will converge on the singularity."
   ]
  },
  {
   "cell_type": "code",
   "execution_count": null,
   "id": "bacterial-flooring",
   "metadata": {
    "slideshow": {
     "slide_type": "slide"
    }
   },
   "outputs": [],
   "source": [
    "def bisection(f, a, b, acc=1e-12, nmax=100):\n",
    "    if a > b:\n",
    "        raise ValueError('Bad initial range')    \n",
    "    \n",
    "    l = f(a)\n",
    "    r = f(b)\n",
    "    if l * r > 0:\n",
    "        raise ValueError(\"Root must be bracketed for bisection\")\n",
    "    \n",
    "    for _ in range(nmax):\n",
    "        m = (a + b) / 2\n",
    "        c = f(m)\n",
    "        \n",
    "        if (b - a < acc) or (c == 0): # DONE!\n",
    "            return m\n",
    "        \n",
    "        if l * c < 0: # there is at least one root on the left\n",
    "            b = m\n",
    "        else:\n",
    "            a = m\n",
    "            \n",
    "    raise Exception(\"Too many iterations\")"
   ]
  },
  {
   "cell_type": "code",
   "execution_count": null,
   "id": "stone-myrtle",
   "metadata": {
    "slideshow": {
     "slide_type": "slide"
    }
   },
   "outputs": [],
   "source": [
    "# Let's test it\n",
    "\n",
    "from math import sqrt\n",
    "\n",
    "sqrt2 = bisection(f, 0, 2)\n",
    "\n",
    "print('sqrt(2) by bisection:', sqrt2)\n",
    "print('absolute error:', sqrt(2) - sqrt2)\n",
    "\n",
    "sqrt2 = bisection(f, 0, 2, acc=1e-15)\n",
    "\n",
    "print('sqrt(2) by bisection:', sqrt2)\n",
    "print('absolute error:', sqrt(2) - sqrt2)"
   ]
  },
  {
   "cell_type": "markdown",
   "id": "southeast-regulation",
   "metadata": {
    "slideshow": {
     "slide_type": "slide"
    }
   },
   "source": [
    "## Applications\n",
    "\n",
    "* Within an hour, we implemented the bisection.  This is AWESOME because we can now solve some problem that even the greatest mathematicians cannot solve!\n",
    "\n",
    "* We all know that for a polynomail of order $n$, there is at most $n$ real roots.  For example,\n",
    "\n",
    "  * $b x + a \\in P_1$ has exactly 1 root.\n",
    "  \n",
    "  * $c x^2 + b x + a \\in P_2$ has at most 2 roots.\n",
    "  \n",
    "  * $d x^3 + c x^2 + b x + a \\in P_3$ has at most 3 roots.\n",
    "  \n",
    "* For $n = 2$, we can solve the roots by applying the quadrtic equation:\n",
    "\n",
    "  $x = \\frac{-b \\pm \\sqrt{b^2 - 4ac}}{2a} $\n",
    "  \n",
    "* For $n = 3$ and 4, there are analytical solution methods, although their forms are much more complicated (see [here](https://en.wikipedia.org/wiki/Cubic_equation#General_cubic_formula) and [here](https://en.wikipedia.org/wiki/Quartic_function#General_formula_for_roots)).\n",
    "\n",
    "* For $n = 5$, the [Abel–Ruffini theorem](https://en.wikipedia.org/wiki/Abel%E2%80%93Ruffini_theorem) states that there is no general solution (in radicals).\n",
    "\n",
    "* But with a numerical root finder, we are able to solve for the roots of abritry polynomials."
   ]
  },
  {
   "cell_type": "code",
   "execution_count": null,
   "id": "american-rubber",
   "metadata": {
    "slideshow": {
     "slide_type": "slide"
    }
   },
   "outputs": [],
   "source": [
    "# We will try to solve the roots of a quintic function (5th order polynomial)\n",
    "\n",
    "%matplotlib inline\n",
    "\n",
    "def h(x):\n",
    "    return x**5 - 16*x**3 + 32*x + 4\n",
    "\n",
    "x = np.linspace(-4, 4, 8001)\n",
    "plt.plot(x, h(x))\n",
    "plt.axhline(y=0, color='k', lw=0.5)"
   ]
  },
  {
   "cell_type": "code",
   "execution_count": null,
   "id": "expected-diploma",
   "metadata": {
    "slideshow": {
     "slide_type": "slide"
    }
   },
   "outputs": [],
   "source": [
    "# By eyes, we can come up with five brackets\n",
    "\n",
    "brackets = [\n",
    "    (-5, -3),\n",
    "    (-3, -1),\n",
    "    (-1,  1),\n",
    "    ( 1,  3),\n",
    "    ( 3,  5),\n",
    "]\n",
    "\n",
    "roots = np.array([bisection(h, *b) for b in brackets])\n",
    "print(roots)"
   ]
  },
  {
   "cell_type": "code",
   "execution_count": null,
   "id": "built-density",
   "metadata": {
    "slideshow": {
     "slide_type": "slide"
    }
   },
   "outputs": [],
   "source": [
    "plt.plot(x, h(x))\n",
    "plt.axhline(y=0, color='k', lw=0.5)\n",
    "plt.scatter(roots, h(roots))"
   ]
  },
  {
   "cell_type": "code",
   "execution_count": null,
   "id": "environmental-assumption",
   "metadata": {
    "slideshow": {
     "slide_type": "slide"
    }
   },
   "outputs": [],
   "source": [
    "fig, axes = plt.subplots(1,5, figsize=(20,4))\n",
    "\n",
    "delta = 1e-12\n",
    "\n",
    "for i, root in enumerate(roots):\n",
    "    x = np.linspace(root-delta/2, root+delta/2, 105)\n",
    "    axes[i].plot(x, h(x))\n",
    "    axes[i].scatter([root], [h(root)])\n",
    "    axes[i].axhline(y=0, color='k', lw=0.5)"
   ]
  },
  {
   "cell_type": "markdown",
   "id": "confidential-wesley",
   "metadata": {
    "slideshow": {
     "slide_type": "slide"
    }
   },
   "source": [
    "## Summary\n",
    "\n",
    "* Root finding is a simple mathematical problem without generic solution.\n",
    "\n",
    "* Numerical root finders can help us solve for roots for functions that are arbitrarily complicated.\n",
    "\n",
    "* The bisection method is extremely simple but powerful!"
   ]
  }
 ],
 "metadata": {
  "celltoolbar": "Slideshow",
  "kernelspec": {
   "display_name": "Python 3",
   "language": "python",
   "name": "python3"
  },
  "language_info": {
   "codemirror_mode": {
    "name": "ipython",
    "version": 3
   },
   "file_extension": ".py",
   "mimetype": "text/x-python",
   "name": "python",
   "nbconvert_exporter": "python",
   "pygments_lexer": "ipython3",
   "version": "3.10.2"
  }
 },
 "nbformat": 4,
 "nbformat_minor": 5
}
