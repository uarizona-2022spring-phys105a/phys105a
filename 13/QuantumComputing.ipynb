{
 "cells": [
  {
   "cell_type": "markdown",
   "id": "04d67403-92f1-4619-839b-7b7fe158473b",
   "metadata": {},
   "source": [
    "## PHYS 105A:  Introduction to Scientific Computing\n",
    "\n",
    "# Introduction to Quantum Computing\n",
    "\n",
    "Chi-kwan Chan"
   ]
  },
  {
   "cell_type": "markdown",
   "id": "a8d6e329-d61d-4745-ad4f-64411ecb762b",
   "metadata": {},
   "source": [
    "## Before We Start...\n",
    "\n",
    "* Please fill in Student Course Survey (SCS) to provide feedback to this course.\n",
    "\n",
    "* Coincidence: there are two quantum computing related talks in the physics department this week:\n",
    "\n",
    "  * Friday, April 22<br>\n",
    "    Spring 2022 Physics Physics Grad Talk <br>\n",
    "    Title: Continuous-variable quantum repeaters based on bosonic error-correction and teleportation: architecture and applications<br>\n",
    "    Speaker: Bo-Han Wu, University of Arizona<br>\n",
    "    Time/Location: 2:00-2:30pm PAS 218<br>\n",
    "    Zoom Link:  https://arizona.zoom.us/s/85694396779\n",
    " \n",
    "  * Friday, April 22<br>\n",
    "    Spring 2022 Physics Colloquium<br>\n",
    "    Title: Encoded Silicon Qubits: A High-Performance & Scalable Platform for Practical Quantum Computing<br>\n",
    "    Speaker: Dr. Thaddeus Ladd, HRL Laboratories, LLC<br>\n",
    "    Time/Location: 3:00pm PAS 201 *refreshments served in PAS 218 from 2:45-3:00*<br>\n",
    "    Zoom Link: https://arizona.zoom.us/j/82510238768"
   ]
  },
  {
   "cell_type": "markdown",
   "id": "59f9bb88-984d-433e-aebb-5d602cf0acea",
   "metadata": {},
   "source": [
    "## Feynman's Vision\n",
    "\n",
    "The Nobel laureate Richard Feynman spoke in a conference \"Simulating physics with computers\" in 1981, where he noted that quantum systems are difficult to simulate with digital computers.  He proposed to use quantum systems themselves to simulate quantum systems.  This was considered the \"beginning\" of the new field \"quantum computing\", although [other work has been carried out before Feynman](https://en.wikipedia.org/wiki/Timeline_of_quantum_computing_and_communication).\n",
    "\n",
    "Here are a few quotes from Feynman's talk:\n",
    "\n",
    "> The rule of simulation that I would like to have is that the number of computer elements required to simulate a large physical system is only to be proportional to the space-time volume of the physical system.\n",
    "\n",
    "The above statement was addressing the observation that:\n",
    "\n",
    "> ... the full description of quantum mechanics for a large system with $R$ particles is given by a function which we call the amplitude to find the particles at $x_1$, $x_2$, .... $x_R$, and therefore because it has too many variables, *it cannot be simulated with a normal computer.*\n",
    "\n",
    "And then Feynman suggested:\n",
    "\n",
    "> Can you do it with a new kind of computer&mdash;a quantum computer? Now it\n",
    "turns out, as far as I can tell, that you can simulate this with a quantum system, with quantum computer elements. *It's not a Turing machine, but a machine of a different kind.*"
   ]
  },
  {
   "cell_type": "markdown",
   "id": "477eecb8-75c5-4ae1-a82f-dd100b8d8482",
   "metadata": {},
   "source": [
    "## The Core Problem\n",
    "\n",
    "What's the core problem that Feynman described?  Let's translate the above quotes into things that we've learned in this class.  Specifically, because computation is about controlling complexity, let's use think about the problem in terms of complexity.\n",
    "\n",
    "* Instead of the double pendulum problem we solved in the last assignment, let's consider a chain of $R$ pendulums.\n",
    "\n",
    "  * We can use $R$ variables to describe the angles of each pendulum, and $R$ variables to describe the (canonical) momenta of each pendulum.  This suggests the \"spatial complexity\" or \"memory requirement\" of this problem is $\\propto 2R \\propto R$, or in the \"big O\" notation, $\\mathcal{O}(R)$.\n",
    "\n",
    "  * Because each pendulum is at most connected to two other pendulums, it is possible to write down the equation of motions with $\\sim 3R$ terms.  This suggests the \"time complexity\" or \"computation requirement\" of this problem is $\\propto R$ or $\\mathcal{O}(R)$.\n",
    "\n",
    "  * Even for more complicated problems like the direct $n$-body problem (i.e., $R$ gravity body in our notation), the interaction happens per particle pair, the number of terms in the gravity force is $\\propto R^2$ or $\\mathcal{O}(R^2)$.  With smarter algorithms, it is possible to approximate the problem with $\\mathcal{O}(R\\log R)$.\n",
    "  \n",
    "  * Ultimately, this means, adding a particle to our problem will only increase the \"spatial-temporal complexity\", or \"memory and computation requirements\", slowly."
   ]
  },
  {
   "cell_type": "markdown",
   "id": "230e81df-dc89-4b24-a9bc-f3865da4e42e",
   "metadata": {},
   "source": [
    "* Now, let's consider the quantum system that Feynman had in mind.\n",
    "\n",
    "  * Feynman stated in quantum mechanics for man ($R$) particles, the wave function is $\\psi(x_1, x_2, ..., x_R)$.\n",
    "\n",
    "  * Suppose we only care the particle system in a finite box with finite energy levels, using old school computation physics method and digital computers, we can approximate the wave function with an $R$-dimension array with shape `[N, N, ..., N]`, which $N$ is proportional to the number of \"modes\", or \"quantum states\", \"energy levels\", for each particle.\n",
    "  \n",
    "  * The spatial complexity of the problem is $N^R$, which is exponential in $R$!!!  Every time we want to add a particle to our system, we do not just add one or $R$ memory locations, instead, we need to add $N^R \\times (N-1)$ memory locations.\n",
    "  \n",
    "  * We simply do not know how to have enough memory in a digital computer to solve a quantum problem!!!  And who knows what time complexity we need to solve this problem.\n",
    "  \n",
    "* In some sense, Feynman suggested that, if we can storage information using quantum mechanic properties, then we can at least solve the spatial complexity problem.  We will leave the time complexity (algorithm) problem for other smart people to work on.\n",
    "\n",
    "* In this quick introduction, we will learn how to work with quantum states, i.e., the spatial complexity part.  We will not touch the actual quantum algorithms, i.e., the time complexity part."
   ]
  },
  {
   "cell_type": "markdown",
   "id": "6fd15121-1837-4f15-b830-4831bf6dcfc9",
   "metadata": {},
   "source": [
    "## Selected [Milestones](https://en.wikipedia.org/wiki/Timeline_of_quantum_computing_and_communication)  in Quantum Computing\n",
    "\n",
    "* 1968: Stephen Wiesner invents conjugate coding.\n",
    "\n",
    "* 1980: Paul Benioff describes the first quantum mechanical model of a computer. \n",
    "\n",
    "* 1981: At the First Conference on the Physics of Computation, held at MIT in May, Paul Benioff and Richard Feynman give talks on quantum computing.\n",
    "\n",
    "* 1988: Yoshihisa Yamamoto and K. Igeta propose the first physical realization of a quantum computer, including Feynman's CNOT gate.\n",
    "\n",
    "* 1995: The first United States Department of Defense workshop on quantum computing and quantum cryptography is organized by United States Army physicists Charles M. Bowden, Jonathan P. Dowling, and Henry O. Everitt; it takes place in February at the University of Arizona in Tucson\n",
    "\n",
    "* 1997: David Cory, Amr Fahmy and Timothy Havel, and at the same time Neil Gershenfeld and Isaac L. Chuang at MIT publish the first papers realizing gates for quantum computers\n",
    "\n",
    "* 1998: First working 3-qubit NMR computer\n",
    "\n",
    "* 2000: First working 7-qubit NMR computer demonstrated at the Los Alamos National Laboratory.\n",
    "\n",
    "* 2007: D-Wave Systems demonstrates use of a 28-qubit quantum annealing computer.\n",
    "\n",
    "* 2017: D-Wave Systems announces general commercial availability of the D-Wave 2000Q quantum annealer, which it claims has 2000 qubits.\n",
    "\n",
    "* 2017: IBM unveils 17-qubit quantum computer—and a better way of benchmarking it.\n",
    "\n",
    "* 2018: Google announces the creation of a 72-qubit quantum chip, called \"Bristlecone\", achieving a new record.\n",
    "\n",
    "* 2018: Intel confirms development of a 49-qubit superconducting test chip, called \"Tangle Lake\".\n",
    "\n",
    "* 2019: Google claims to have reached quantum supremacy.\n",
    "\n",
    "* 2019: IBM reveals its biggest quantum computer yet, consisting of 53 qubits.\n",
    " \n",
    "* 2021: IBM claims that it has created a new 127 quantum bit processor, 'IBM Eagle'.\n",
    "\n",
    "* 2022: Europe's first quantum annealer with more than 5,000 qubits is launched in Jülich, Germany."
   ]
  },
  {
   "cell_type": "markdown",
   "id": "72e3ebf0-d5b4-4d9d-a4bb-2e97f41b1883",
   "metadata": {},
   "source": [
    "## Proposed Applications\n",
    "\n",
    "Based on this introduction, quantum computers can work with *much more* information than a digital computer can.  Therefore, in addition the original vision of Feynman, we can \"abuse\" quantum properties and apply quantum computers to other problems.  Here is a selected list of applications:\n",
    "\n",
    "* Chemical and biological engineering.  E.g., drug development, better battery.\n",
    "\n",
    "* Cybersecurity.\n",
    "\n",
    "* Artificial intelligence.\n",
    "\n",
    "* Complex system model.  E.g., weather forecasting and climate change, financial modeling\n",
    "\n",
    "Note also that, quantum computers are not going to replace digital computers.  Instead, they will be used as \"accelerators\" such as GPUs and TPUs to accelerate specific parts of computation."
   ]
  },
  {
   "cell_type": "markdown",
   "id": "611984ae-1f41-4a74-a22f-693d6d0ef9de",
   "metadata": {},
   "source": [
    "## Roman Numbers, Arabic Numbers, Binaries, and Qubits"
   ]
  },
  {
   "cell_type": "markdown",
   "id": "961506e0-eab6-4142-870a-cdd8e1421b8a",
   "metadata": {},
   "source": [
    "## Procedure Programming, Data Flows, and Quantum Circuits"
   ]
  },
  {
   "cell_type": "markdown",
   "id": "68e725f3-fa13-4cb0-a97d-0dcd093d2807",
   "metadata": {},
   "source": [
    "## Quantum Computing Tools\n",
    "\n",
    "* [IBM Qiskit](https://qiskit.org/)\n",
    "\n",
    "* [Google Cirq](https://quantumai.google/cirq)\n",
    "\n",
    "* [ETH ProjectQ](https://projectq.ch/)\n",
    "\n",
    "* ..."
   ]
  },
  {
   "cell_type": "markdown",
   "id": "4dbe327e-2436-4d83-b20f-4123b9ee9e53",
   "metadata": {},
   "source": [
    "## Hands-on Quantum Computing with `Qiskit`\n",
    "\n",
    "We will use `Qiskit` to write some quantum computing codes.\n",
    "\n",
    "This hands-on exercise is based on [Introduction to Qiskit](https://qiskit.org/documentation/intro_tutorial1.html)."
   ]
  },
  {
   "cell_type": "code",
   "execution_count": null,
   "id": "26418e15-eb43-42ef-8a8b-4fab4ede3c51",
   "metadata": {
    "tags": []
   },
   "outputs": [],
   "source": [
    "# Step 0.  Install `Qiskit`\n",
    "\n",
    "# To install `Qiskit`, run\n",
    "#\n",
    "#     pip3 install 'qiskit[visualization]'\n",
    "#\n",
    "# in your terminal.\n",
    "#\n",
    "# Alternatively, you may run\n",
    "\n",
    "! pip3 install 'qiskit[visualization]'\n",
    "\n",
    "# with the exclamation mark in a Jupyter notebook cell to \"shell out\" to your terminal."
   ]
  },
  {
   "cell_type": "code",
   "execution_count": 1,
   "id": "c3d4c55f-a7b8-4bde-9881-147851adac43",
   "metadata": {},
   "outputs": [],
   "source": [
    "# Step 1. Import Packages\n",
    "\n",
    "# For this simple hands-on, we just need to import the follow packages.\n",
    "\n",
    "# A class that holds all your quantum operations.\n",
    "# It can be thought as the instructions of the quantum system. \n",
    "from qiskit import QuantumCircuit\n",
    "\n",
    "# TRANSlate comPILER quantum circuits to different backends.\n",
    "from qiskit import transpile\n",
    "\n",
    "# Aer high performance circuit simulator\n",
    "from qiskit.providers.aer import QasmSimulator\n",
    "\n",
    "# Creates histograms for visualization \n",
    "from qiskit.visualization import plot_histogram"
   ]
  },
  {
   "cell_type": "code",
   "execution_count": 2,
   "id": "5ea2fab4-1ffa-40b7-9151-bbf05674bfa1",
   "metadata": {},
   "outputs": [],
   "source": [
    "# Step 2. Initialize Quantum Circuit\n",
    "\n",
    "# The QuantumCircuit class can be instantized with multiple forms:\n",
    "#\n",
    "#     https://qiskit.org/documentation/stubs/qiskit.circuit.QuantumCircuit.html\n",
    "#\n",
    "# When passed with 2 integers, they represent the number of qubits and classical bits.\n",
    "# E.g., `QuantumCircuit(4, 3)` returns a QuantumCircuit with 4 qubits and 3 classical bits.\n",
    "#\n",
    "# Here, we create a QuantumCircuit with 2 qubits and classical bits.\n",
    "\n",
    "circuit = QuantumCircuit(2, 2)"
   ]
  },
  {
   "cell_type": "code",
   "execution_count": 3,
   "id": "8b859b2f-a4c9-4980-9cfe-8dc401139bc6",
   "metadata": {},
   "outputs": [
    {
     "data": {
      "text/plain": [
       "<qiskit.circuit.instructionset.InstructionSet at 0x10a3d3e80>"
      ]
     },
     "execution_count": 3,
     "metadata": {},
     "output_type": "execute_result"
    }
   ],
   "source": [
    "# Step 3. Add Gates\n",
    "\n",
    "# In order to perform quantum operations, we need to add quantum gates to our newly created circuit.\n",
    "# Unfortunately we didn't have time to go over the meaning of these quantum gates. But for our purpose,\n",
    "# it is fine that we see these as \"operations\" or \"transformations\" of the quantum states.\n",
    "\n",
    "# We first put a Hadamard gate `H` on qubit 0, which puts it into a superposition state.\n",
    "circuit.h(0)\n",
    "\n",
    "# We then put a controlled-Not operation (`CNOT`) on control qubit 0 and target qubit 1,\n",
    "# putting the qubits in an entangled state.\n",
    "circuit.cx(0, 1)\n",
    "\n",
    "# Finally, we measure the quantum states in the quantum circuit\n",
    "# and put the results in the classical bits.\n",
    "circuit.measure([0,1], [0,1])"
   ]
  },
  {
   "cell_type": "code",
   "execution_count": 4,
   "id": "47706e15-da8f-488d-925a-68b775bb8112",
   "metadata": {},
   "outputs": [
    {
     "data": {
      "text/html": [
       "<pre style=\"word-wrap: normal;white-space: pre;background: #fff0;line-height: 1.1;font-family: &quot;Courier New&quot;,Courier,monospace\">     ┌───┐     ┌─┐   \n",
       "q_0: ┤ H ├──■──┤M├───\n",
       "     └───┘┌─┴─┐└╥┘┌─┐\n",
       "q_1: ─────┤ X ├─╫─┤M├\n",
       "          └───┘ ║ └╥┘\n",
       "c: 2/═══════════╩══╩═\n",
       "                0  1 </pre>"
      ],
      "text/plain": [
       "     ┌───┐     ┌─┐   \n",
       "q_0: ┤ H ├──■──┤M├───\n",
       "     └───┘┌─┴─┐└╥┘┌─┐\n",
       "q_1: ─────┤ X ├─╫─┤M├\n",
       "          └───┘ ║ └╥┘\n",
       "c: 2/═══════════╩══╩═\n",
       "                0  1 "
      ]
     },
     "execution_count": 4,
     "metadata": {},
     "output_type": "execute_result"
    }
   ],
   "source": [
    "# Step 4. Visualize the Circuit\n",
    "\n",
    "# When the quantum circuit gets complicated, it is much easier to look at a graphical representation\n",
    "# instead of the code above.\n",
    "# `Qiskit` has built-in visualization tools for this.\n",
    "\n",
    "circuit.draw()"
   ]
  },
  {
   "cell_type": "code",
   "execution_count": 5,
   "id": "1cbb32ec-c1e4-40d2-aa9d-59e28b0c9fb8",
   "metadata": {},
   "outputs": [
    {
     "data": {
      "image/png": "[encoded data removed]",
      "text/plain": [
       "<Figure size 327.252x204.68 with 1 Axes>"
      ]
     },
     "execution_count": 5,
     "metadata": {},
     "output_type": "execute_result"
    }
   ],
   "source": [
    "# In this circuit, the qubits are ordered with qubit zero at the top and qubit one at the bottom.\n",
    "# The circuit is read left-to-right, meaning that gates which are applied earlier in the circuit\n",
    "# show up farther to the left.\n",
    "\n",
    "# The default backend for QuantumCircuit.draw() or qiskit.visualization.circuit_drawer() is the text backend.\n",
    "# However, given that we have `matplotlib` installed, we may use `matplotlib` to create a slightly better\n",
    "# quantum circuit diagram\n",
    "\n",
    "circuit.draw('mpl')"
   ]
  },
  {
   "cell_type": "code",
   "execution_count": 6,
   "id": "0043ac8d-0695-4268-9a10-ffc1e03027e1",
   "metadata": {},
   "outputs": [
    {
     "name": "stdout",
     "output_type": "stream",
     "text": [
      "Total count are: {'11': 471, '00': 529}\n"
     ]
    }
   ],
   "source": [
    "# Step 5. Simulate the Experiment\n",
    "\n",
    "# To simulate this circuit, we will use the qasm_simulator.\n",
    "simulator = QasmSimulator()\n",
    "\n",
    "# We transpile the `Qiskit` quantum circuit to the qasm_simulator so it can be run.\n",
    "compiled_circuit = transpile(circuit, simulator)\n",
    "\n",
    "# Actually running the simulation with 1000 shots.\n",
    "# Each run of this circuit will yield either the bit string 00 or 11.\n",
    "job = simulator.run(compiled_circuit, shots=1000)\n",
    "\n",
    "# Once we have a result object, we can access the counts via the method get_counts(circuit).\n",
    "# This gives you the aggregate outcomes of the experiment you ran.\n",
    "result = job.result()\n",
    "counts = result.get_counts(circuit)\n",
    "\n",
    "# As expected, the output bit string is 00 approximately 50 percent of the time.\n",
    "print(\"Total count are:\", counts)"
   ]
  },
  {
   "cell_type": "code",
   "execution_count": 7,
   "id": "6685eb91-fff2-462a-ad89-50f3738bdf38",
   "metadata": {},
   "outputs": [
    {
     "data": {
      "image/png": "[encoded data removed]",
      "text/plain": [
       "<Figure size 504x360 with 1 Axes>"
      ]
     },
     "execution_count": 7,
     "metadata": {},
     "output_type": "execute_result"
    }
   ],
   "source": [
    "# Step 6. Visualize the Results\n",
    "\n",
    "# Qiskit provides many visualizations,\n",
    "#\n",
    "#     https://qiskit.org/documentation/apidoc/visualization.html\n",
    "#\n",
    "# including the function plot_histogram, to view our results.\n",
    "\n",
    "plot_histogram(counts)"
   ]
  },
  {
   "cell_type": "markdown",
   "id": "ac334bb8-3c44-410e-9c34-289130dd9641",
   "metadata": {},
   "source": [
    "## Additional Resources\n",
    "\n",
    "* Online materials and books: https://qiskit.org/learn\n",
    "\n",
    "* IBM Quantum Challenge: https://challenges.quantum-computing.ibm.com/\n",
    "\n",
    "  * I attended the one in 2021\n",
    "\n",
    "  * In addition to learning Qiskit, you will be given access to IBM's real quantum computers!!!  For some of the later hands-on, you will be asked to directly control a quantum computer, and perform real quantum calculations on them!\n",
    "\n",
    "* Talks on quantum computing, e.g.,\n",
    "\n",
    "  * Friday, April 22<br>\n",
    "    Spring 2022 Physics Physics Grad Talk <br>\n",
    "    Title: Continuous-variable quantum repeaters based on bosonic error-correction and teleportation: architecture and applications<br>\n",
    "    Speaker: Bo-Han Wu, University of Arizona<br>\n",
    "    Time/Location: 2:00-2:30pm PAS 218<br>\n",
    "    Zoom Link:  https://arizona.zoom.us/s/85694396779\n",
    " \n",
    "  * Friday, April 22<br>\n",
    "    Spring 2022 Physics Colloquium<br>\n",
    "    Title: Encoded Silicon Qubits: A High-Performance & Scalable Platform for Practical Quantum Computing<br>\n",
    "    Speaker: Dr. Thaddeus Ladd, HRL Laboratories, LLC<br>\n",
    "    Time/Location: 3:00pm PAS 201 *refreshments served in PAS 218 from 2:45-3:00*<br>\n",
    "    Zoom Link: https://arizona.zoom.us/j/82510238768"
   ]
  },
  {
   "cell_type": "code",
   "execution_count": null,
   "id": "49f5aa31-e044-4beb-9711-d9d4c56aa87d",
   "metadata": {},
   "outputs": [],
   "source": []
  }
 ],
 "metadata": {
  "kernelspec": {
   "display_name": "Python 3 (ipykernel)",
   "language": "python",
   "name": "python3"
  },
  "language_info": {
   "codemirror_mode": {
    "name": "ipython",
    "version": 3
   },
   "file_extension": ".py",
   "mimetype": "text/x-python",
   "name": "python",
   "nbconvert_exporter": "python",
   "pygments_lexer": "ipython3",
   "version": "3.10.4"
  }
 },
 "nbformat": 4,
 "nbformat_minor": 5
}
