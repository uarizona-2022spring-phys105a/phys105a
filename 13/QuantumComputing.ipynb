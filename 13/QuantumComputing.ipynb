{
 "cells": [
  {
   "cell_type": "markdown",
   "id": "04d67403-92f1-4619-839b-7b7fe158473b",
   "metadata": {},
   "source": [
    "## PHYS 105A:  Introduction to Scientific Computing\n",
    "\n",
    "# Introduction to Quantum Computing\n",
    "\n",
    "Chi-kwan Chan"
   ]
  },
  {
   "cell_type": "markdown",
   "id": "59f9bb88-984d-433e-aebb-5d602cf0acea",
   "metadata": {},
   "source": [
    "## Feynman's Vision\n",
    "\n",
    "The Nobel laureate Richard Feynman spoke in a conference \"Simulating physics with computers\" in 1981, where he noted that quantum systems are difficult to simulate with digital computers.  He proposed to use quantum systems themselves to simulate quantum systems.  This was considered the \"beginning\" of the new field \"quantum computing\", although [other work has been carried out before Feynman](https://en.wikipedia.org/wiki/Timeline_of_quantum_computing_and_communication).\n",
    "\n",
    "Here are a few quotes from Feynman's talk:\n",
    "\n",
    "> The rule of simulation that I would like to have is that the number of computer elements required to simulate a large physical system is only to be proportional to the space-time volume of the physical system.\n",
    "\n",
    "The above statement was addressing the observation that:\n",
    "\n",
    "> ... the full description of quantum mechanics for a large system with $R$ particles is given by a function which we call the amplitude to find the particles at $x_1$, $x_2$, .... $x_R$, and therefore because it has too many variables, *it cannot be simulated with a normal computer.*\n",
    "\n",
    "And then Feynman suggested:\n",
    "\n",
    "> Can you do it with a new kind of computer&mdash;a quantum computer? Now it\n",
    "turns out, as far as I can tell, that you can simulate this with a quantum system, with quantum computer elements. *It’s not a Turing machine, but a machine of a different kind.*"
   ]
  },
  {
   "cell_type": "markdown",
   "id": "477eecb8-75c5-4ae1-a82f-dd100b8d8482",
   "metadata": {},
   "source": [
    "## The Core Problem\n",
    "\n",
    "What's the core problem that Feynman described?  Let's translate the above quotes into things that we've learned in this class.  Specifically, because computation is about controlling complexity, let's use think about the problem in terms of complexity.\n",
    "\n",
    "* Instead of the double pendulum problem we solved in the last assignment, let's consider a chain of $R$ pendulums.\n",
    "\n",
    "  * We can use $R$ variables to describe the angles of each pendulum, and $R$ variables to describe the (canonical) momenta of each pendulum.  This suggests the \"spatial complexity\" or \"memory requirement\" of this problem is $\\propto 2R \\propto R$, or in the \"big O\" notation, $\\mathcal{O}(R)$.\n",
    "\n",
    "  * Because each pendulum is at most connected to two other pendulums, it is possible to write down the equation of motions with $\\sim 3R$ terms.  This suggests the \"time complexity\" or \"computation requirement\" of this problem is $\\propto R$ or $\\mathcal{O}(R)$.\n",
    "\n",
    "  * Even for more complicated problems like the direct $n$-body problem (i.e., $R$ gravity body in our notation), the interaction happens per particle pair, the number of terms in the gravity force is $\\propto R^2$ or $\\mathcal{O}(R^2)$.  With smarter algorithms, it is possible to approximate the problem with $\\mathcal{O}(R\\log R)$.\n",
    "  \n",
    "  * Ultimately, this means, adding a particle to our problem will only increease the \"spatial-temporal complexity\", or \"memory and computation requirements\", slowly."
   ]
  },
  {
   "cell_type": "markdown",
   "id": "230e81df-dc89-4b24-a9bc-f3865da4e42e",
   "metadata": {},
   "source": [
    "* Now, let's consider the quantum system that Feynman had in mind.\n",
    "\n",
    "  * Feynman stated in quantum mechanics for man ($R$) particles, the wave function is $\\psi(x_1, x_2, ..., x_R)$.\n",
    "\n",
    "  * Suppose we only care the particle system in a finite box with finite energy levels, using old school computation physics method and digital computers, we can approximate the wave function with an $R$-dimension array with shape `[N, N, ..., N]`, which $N$ is proportional to the number of \"modes\", or \"quantum states\", \"energy levels\", for each particle.\n",
    "  \n",
    "  * The sptial complexity of the problem is $N^R$, which is exponential in $R$!!!  Every time we want to add a particle to our system, we do not just add one or $R$ memory locations, instead, we need to add $N^R \\times (N-1)$ memory locations.\n",
    "  \n",
    "  * We simply do not know how to have enough memory in a digital computer to solve a quantum problem!!!  And who knows what time complexity we need to solve this problem.\n",
    "  \n",
    "* In this sense, Feynman suggested that, if we can storage information using quantum mechanic properties, then we can at least solve the spatial complexity problem.  We will leave the time complexity (algorithm) problem for other smart people to work on."
   ]
  },
  {
   "cell_type": "code",
   "execution_count": null,
   "id": "33f8a9c4-c5c8-40ad-8c75-fcb303e5c750",
   "metadata": {},
   "outputs": [],
   "source": []
  }
 ],
 "metadata": {
  "kernelspec": {
   "display_name": "Python 3 (ipykernel)",
   "language": "python",
   "name": "python3"
  },
  "language_info": {
   "codemirror_mode": {
    "name": "ipython",
    "version": 3
   },
   "file_extension": ".py",
   "mimetype": "text/x-python",
   "name": "python",
   "nbconvert_exporter": "python",
   "pygments_lexer": "ipython3",
   "version": "3.10.4"
  }
 },
 "nbformat": 4,
 "nbformat_minor": 5
}
