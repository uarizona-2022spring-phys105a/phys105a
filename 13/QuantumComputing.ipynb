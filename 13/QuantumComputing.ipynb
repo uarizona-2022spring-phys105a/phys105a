{
 "cells": [
  {
   "cell_type": "markdown",
   "id": "04d67403-92f1-4619-839b-7b7fe158473b",
   "metadata": {},
   "source": [
    "## PHYS 105A:  Introduction to Scientific Computing\n",
    "\n",
    "# Introduction to Quantum Computing\n",
    "\n",
    "Chi-kwan Chan"
   ]
  },
  {
   "cell_type": "markdown",
   "id": "59f9bb88-984d-433e-aebb-5d602cf0acea",
   "metadata": {},
   "source": [
    "The Nobel laureate Richard Feynman spoke in a conference \"Simulating physics with computers\" in 1981, where he noted that quantum systems are difficult to simulate with digital computers.  He proposed to use quantum systems themselves to simulate quantum systems.  This was considered the \"beginning\" of the new field \"quantum computing\", although [other work has been carried out before Feynman](https://en.wikipedia.org/wiki/Timeline_of_quantum_computing_and_communication).\n",
    "\n",
    "Here are a few quotes from Feynman's talk:\n",
    "\n",
    "> The rule of simulation that I would like to have is that the number of computer elements required to simulate a large physical system is only to be proportional to the space-time volume of the physical system.\n",
    "\n",
    "The above statement was addressing the observation that:\n",
    "\n",
    "> ... the full description of quantum mechanics for a large system with $R$ particles is given by a function which we call the amplitude to find the particles at $x_1$, $x_2$, .... $x_R$, and therefore because it has too many variables, *it cannot be simulated with a normal computer.*\n",
    "\n",
    "And then Feynman suggested:\n",
    "\n",
    "> Can you do it with a new kind of computer&mdash;a quantum computer? Now it\n",
    "turns out, as far as I can tell, that you can simulate this with a quantum system, with quantum computer elements. *It’s not a Turing machine, but a machine of a different kind.*"
   ]
  },
  {
   "cell_type": "code",
   "execution_count": null,
   "id": "b09995d4-d6dc-4474-af92-886ffcd2a738",
   "metadata": {},
   "outputs": [],
   "source": []
  }
 ],
 "metadata": {
  "kernelspec": {
   "display_name": "Python 3 (ipykernel)",
   "language": "python",
   "name": "python3"
  },
  "language_info": {
   "codemirror_mode": {
    "name": "ipython",
    "version": 3
   },
   "file_extension": ".py",
   "mimetype": "text/x-python",
   "name": "python",
   "nbconvert_exporter": "python",
   "pygments_lexer": "ipython3",
   "version": "3.10.4"
  }
 },
 "nbformat": 4,
 "nbformat_minor": 5
}
