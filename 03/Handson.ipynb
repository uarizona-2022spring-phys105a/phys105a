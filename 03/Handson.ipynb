{
 "cells": [
  {
   "cell_type": "markdown",
   "id": "prostate-myanmar",
   "metadata": {
    "slideshow": {
     "slide_type": "slide"
    }
   },
   "source": [
    "## PHYS 105A:  Introduction to Scientific Computing\n",
    "\n",
    "# The `Python` Programming Language\n",
    "\n",
    "Chi-kwan Chan"
   ]
  },
  {
   "cell_type": "markdown",
   "id": "considered-newsletter",
   "metadata": {
    "slideshow": {
     "slide_type": "slide"
    }
   },
   "source": [
    "## Introduction to the `Python` Programming Langauge\n",
    "\n",
    "We will use the python interperter to try the following demos.  First, go to the class repository that you've cloned last time.  Do `git pull` to get the latest version.  And then `cd 03` to get in this lecture.  Then type `python3`.\n",
    "\n",
    "    ckc@landau 03 % python3\n",
    "    Python 3.9.10 (main, Jan 15 2022, 12:21:28) \n",
    "    [Clang 13.0.0 (clang-1300.0.29.3)] on darwin\n",
    "    Type \"help\", \"copyright\", \"credits\" or \"license\" for more information.\n",
    "    >>> \n",
    "\n",
    "`>>>` is called the prompt of the python interpreter.  It indicates that the interpreter is ready to take python statements.\n",
    "\n",
    "Alternatively, if you have `ipython` installed, you may use it:\n",
    "\n",
    "    ckc@landau 03 % ipython3\n",
    "    Python 3.9.10 (main, Jan 15 2022, 12:21:28) \n",
    "    Type 'copyright', 'credits' or 'license' for more information\n",
    "    IPython 8.0.1 -- An enhanced Interactive Python. Type '?' for help.\n",
    "    \n",
    "    In [1]:\n",
    "    \n",
    "In this case, `In [1]:` indicates that `ipython` is ready to get input."
   ]
  },
  {
   "cell_type": "code",
   "execution_count": null,
   "id": "33db07c9",
   "metadata": {},
   "outputs": [],
   "source": [
    "# Let's remind ourselves what we learned last time.\n",
    "# Type some math formulas, then press Enter, python will interpret your equations and print the output.\n",
    "\n",
    "1 + 2 + 3 + 4"
   ]
  },
  {
   "cell_type": "code",
   "execution_count": null,
   "id": "32e3cc6e",
   "metadata": {},
   "outputs": [],
   "source": [
    "# EXERCISE: Now, type your own equation here and see the outcome."
   ]
  },
  {
   "cell_type": "code",
   "execution_count": null,
   "id": "6de437e8",
   "metadata": {},
   "outputs": [],
   "source": [
    "# One of the most powerful things programming langauges are able to do is to assign names to values.\n",
    "# This is in contrast to spreadsheet software where each \"cell\" is prenamed (e.g., A1, B6).\n",
    "# A value associated with a name is called a varaible.\n",
    "# In python, we simply use the equal sign to assign a value to a variable.\n",
    "\n",
    "a = 1\n",
    "b = 2 + 3\n",
    "\n",
    "# We can then reuse these variables.\n",
    "a + b + 4"
   ]
  },
  {
   "cell_type": "code",
   "execution_count": null,
   "id": "75e0c347",
   "metadata": {},
   "outputs": [],
   "source": [
    "# EXERCISE: create your own variables and check their values."
   ]
  },
  {
   "cell_type": "code",
   "execution_count": null,
   "id": "5cba6986",
   "metadata": {},
   "outputs": [],
   "source": [
    "# Sometime it is convenient to have mutiple outputs on a line.\n",
    "# In such a case, you may use the python function `print()`\n",
    "\n",
    "print(1, 2)\n",
    "print(a, b)"
   ]
  },
  {
   "cell_type": "code",
   "execution_count": null,
   "id": "f7ab784f",
   "metadata": {},
   "outputs": [],
   "source": [
    "# EXERCISE: print results of equations"
   ]
  },
  {
   "cell_type": "code",
   "execution_count": null,
   "id": "4a9761c8",
   "metadata": {},
   "outputs": [],
   "source": [
    "# Speaking of print(), in python, you may use both single or double quotes to create \"string\" of characters.\n",
    "\n",
    "'This is a string of characters.'\n",
    "\n",
    "\"This is also a string of characters.\"\n",
    "\n",
    "# If you have multiple lines of strings, you may use \"docstring\"\n",
    "\n",
    "\"\"\"\n",
    "This is a\n",
    "multi-line\n",
    "string\n",
    "\"\"\"\n",
    "\n",
    "# You can mix strings, numbers, etc in a single print statement.\n",
    "print(\"Numbers:\", 1, 2, 3)"
   ]
  },
  {
   "cell_type": "code",
   "execution_count": null,
   "id": "a4d473d3",
   "metadata": {},
   "outputs": [],
   "source": [
    "# EXERCISE: assign a string to a variable and then print it"
   ]
  },
  {
   "cell_type": "code",
   "execution_count": null,
   "id": "charged-winter",
   "metadata": {},
   "outputs": [],
   "source": [
    "# This is the \"hello world\" program in python that we already learned from later time\n",
    "\n",
    "print(\"Hello Python!\")"
   ]
  },
  {
   "cell_type": "code",
   "execution_count": null,
   "id": "acquired-rover",
   "metadata": {},
   "outputs": [],
   "source": [
    "# Python supports unicode since version 2\n",
    "\n",
    "print(\"Python 你好!\")"
   ]
  },
  {
   "cell_type": "code",
   "execution_count": null,
   "id": "copyrighted-japan",
   "metadata": {},
   "outputs": [],
   "source": [
    "# Python is dynamic typed\n",
    "\n",
    "type(a)"
   ]
  },
  {
   "cell_type": "code",
   "execution_count": null,
   "id": "ordinary-reader",
   "metadata": {},
   "outputs": [],
   "source": [
    "type(b)"
   ]
  },
  {
   "cell_type": "code",
   "execution_count": null,
   "id": "rolled-queens",
   "metadata": {},
   "outputs": [],
   "source": [
    "type('abc')"
   ]
  },
  {
   "cell_type": "code",
   "execution_count": null,
   "id": "national-dodge",
   "metadata": {},
   "outputs": [],
   "source": [
    "# In the lecture, we learned the different math operations in python: +, -, *, **, /, and //.\n",
    "# Try to use them yourself.\n",
    "# Pay special attention to the ** and // operators.\n",
    "print(a + 3)\n",
    "print(a - 3)\n",
    "print(a * 3)\n",
    "print(a ** 9)\n",
    "print(a /  3)\n",
    "print(a // 3)\n",
    "\n",
    "# * and ** are different\n",
    "print(10*3)\n",
    "print(10**3)\n",
    "\n",
    "# / and // are different\n",
    "print(10/3)\n",
    "print(10//3)"
   ]
  },
  {
   "cell_type": "code",
   "execution_count": null,
   "id": "cb58d82c",
   "metadata": {},
   "outputs": [],
   "source": [
    "# EXERCISE: try out *, **, /, and // yourself.\n",
    "# What if you use them for very big numbers?  Very small numbers?\n",
    "# Do you see any limitation?"
   ]
  },
  {
   "cell_type": "code",
   "execution_count": null,
   "id": "a703d5cb",
   "metadata": {},
   "outputs": [],
   "source": [
    "# COOL TRICK: In python, you use underscores to help writing very big numbers.\n",
    "# E.g., python knows that 1_000_000 is 1000_000 is 1000000.\n",
    "\n",
    "print(1_000_000)\n",
    "print(1000_000)\n",
    "print(1000000)"
   ]
  },
  {
   "cell_type": "code",
   "execution_count": null,
   "id": "941f0a6e",
   "metadata": {},
   "outputs": [],
   "source": [
    "# The integer division is logically equivalent to applying a floor function to the floating point division.\n",
    "# However, the floor function is not a default (built-in) function.\n",
    "# You need to import it from the math package:\n",
    "\n",
    "from math import floor\n",
    "\n",
    "print(10/3)\n",
    "print(10//3)\n",
    "print(floor(10/3))"
   ]
  },
  {
   "cell_type": "code",
   "execution_count": null,
   "id": "255d0a7b",
   "metadata": {},
   "outputs": [],
   "source": [
    "# EXERCISE: try to use the floor() function yourself"
   ]
  },
  {
   "cell_type": "code",
   "execution_count": null,
   "id": "0a3082ca",
   "metadata": {},
   "outputs": [],
   "source": [
    "# There are many useful functions and constants in the math package.\n",
    "# See https://docs.python.org/3/library/math.html\n",
    "\n",
    "from math import pi, sin, cos\n",
    "\n",
    "print(pi)\n",
    "print(sin(pi))\n",
    "print(cos(pi))"
   ]
  },
  {
   "cell_type": "code",
   "execution_count": null,
   "id": "f67419c1",
   "metadata": {},
   "outputs": [],
   "source": [
    "# EXERCISE: try to import additional functions from the math package and test them yourself.\n",
    "# Python math package: https://docs.python.org/3/library/math.html"
   ]
  },
  {
   "cell_type": "code",
   "execution_count": null,
   "id": "recent-alarm",
   "metadata": {},
   "outputs": [],
   "source": [
    "# Python comparison operators\n",
    "\n",
    "a > 3"
   ]
  },
  {
   "cell_type": "code",
   "execution_count": null,
   "id": "entertaining-garlic",
   "metadata": {},
   "outputs": [],
   "source": [
    "# Two equal signs to test if values are equal\n",
    "\n",
    "a == 3"
   ]
  },
  {
   "cell_type": "code",
   "execution_count": null,
   "id": "significant-insulin",
   "metadata": {},
   "outputs": [],
   "source": [
    "a <= 3"
   ]
  },
  {
   "cell_type": "code",
   "execution_count": null,
   "id": "6146d995-ac06-4d21-9238-5339582f8441",
   "metadata": {},
   "outputs": [],
   "source": [
    "# Floating point in python is 64-bit by default.\n",
    "# It has a finite accurate at ~ 1e-16.\n",
    "# This means, if two numbers have a relative difference <~ 1e-16,\n",
    "# python is only able to present these numbers the same way.\n",
    "\n",
    "a = 1.0\n",
    "b = 1.0e-16\n",
    "print(a, b)\n",
    "\n",
    "c = a + b\n",
    "print(a, b, c)\n",
    "\n",
    "print(a == c)"
   ]
  },
  {
   "cell_type": "code",
   "execution_count": null,
   "id": "finite-medline",
   "metadata": {},
   "outputs": [],
   "source": [
    "# Conditional statement: \n",
    "#\n",
    "# if <condition/boolean>:\n",
    "#     <statement>\n",
    "# [else:\n",
    "#     <statement>]\n",
    "#\n",
    "# Note that indentation is *requried*.\n",
    "\n",
    "if a > 3:\n",
    "    print(\"`a` is greater than 3\")\n",
    "else:\n",
    "    print(\"`a` is not greater than 3\")"
   ]
  },
  {
   "cell_type": "code",
   "execution_count": null,
   "id": "julian-editor",
   "metadata": {},
   "outputs": [],
   "source": [
    "# No indentation will give you error.\n",
    "\n",
    "if a > 3:\n",
    "print(\"`a` is greater than 3\")\n",
    "else:\n",
    "print(\"`a` is not greater than 3\")"
   ]
  },
  {
   "cell_type": "code",
   "execution_count": null,
   "id": "interracial-frost",
   "metadata": {},
   "outputs": [],
   "source": [
    "# In addition to computing, computers are also good at accounting.\n",
    "# Therefore, we need data structures to manage data.\n",
    "# The simplest python data structure is a \"tuple\"\n",
    "\n",
    "t = (1, 2.0, '3')\n",
    "t"
   ]
  },
  {
   "cell_type": "code",
   "execution_count": null,
   "id": "developmental-turkish",
   "metadata": {},
   "outputs": [],
   "source": [
    "# You may access value of a tuple by its index\n",
    "\n",
    "t[0]"
   ]
  },
  {
   "cell_type": "code",
   "execution_count": null,
   "id": "heated-greece",
   "metadata": {},
   "outputs": [],
   "source": [
    "# Tuples are immutable, i.e., you cannot change its conent.\n",
    "# The following will give you error.\n",
    "\n",
    "t[0] = 1"
   ]
  },
  {
   "cell_type": "code",
   "execution_count": null,
   "id": "annual-compression",
   "metadata": {},
   "outputs": [],
   "source": [
    "# The next data structure we need to learn is a list.\n",
    "\n",
    "l = [1, 2, 3]\n",
    "l"
   ]
  },
  {
   "cell_type": "code",
   "execution_count": null,
   "id": "sharing-timer",
   "metadata": {},
   "outputs": [],
   "source": [
    "# You may access elements of a list by indices\n",
    "\n",
    "l[0]"
   ]
  },
  {
   "cell_type": "code",
   "execution_count": null,
   "id": "elementary-biography",
   "metadata": {},
   "outputs": [],
   "source": [
    "# You may access sublist by slicing\n",
    "\n",
    "l[0:2]"
   ]
  },
  {
   "cell_type": "code",
   "execution_count": null,
   "id": "renewable-running",
   "metadata": {},
   "outputs": [],
   "source": [
    "# You may change the values in a list or even extend the list.\n",
    "\n",
    "l[0] = 'a'\n",
    "l"
   ]
  },
  {
   "cell_type": "code",
   "execution_count": null,
   "id": "hearing-mapping",
   "metadata": {},
   "outputs": [],
   "source": [
    "l.append('d')\n",
    "l"
   ]
  },
  {
   "cell_type": "code",
   "execution_count": null,
   "id": "hidden-tattoo",
   "metadata": {},
   "outputs": [],
   "source": [
    "# Dictionary is another fundamental data structure in python.\n",
    "# It maps keys to values\n",
    "\n",
    "d = {'a':1, 'b':2, 'c':3}\n",
    "d"
   ]
  },
  {
   "cell_type": "code",
   "execution_count": null,
   "id": "prepared-worcester",
   "metadata": {},
   "outputs": [],
   "source": [
    "# You may access its values through keys\n",
    "\n",
    "d['a']"
   ]
  },
  {
   "cell_type": "code",
   "execution_count": null,
   "id": "flush-campbell",
   "metadata": {},
   "outputs": [],
   "source": [
    "# It is also mutable\n",
    "\n",
    "d['a'] = 'a'\n",
    "d"
   ]
  },
  {
   "cell_type": "code",
   "execution_count": null,
   "id": "sustainable-broad",
   "metadata": {},
   "outputs": [],
   "source": [
    "d['d'] = 'd'\n",
    "d"
   ]
  },
  {
   "cell_type": "code",
   "execution_count": null,
   "id": "beautiful-congress",
   "metadata": {},
   "outputs": [],
   "source": [
    "# Once you can store multiple values, you may also ask python to do many work for you.\n",
    "# This can be done by \"loop\".\n",
    "# The \"for-loop\" is very often used in python:\n",
    "#\n",
    "# for <index> in <iterable>:\n",
    "#     <statement>\n",
    "#\n",
    "# Indentation is *requried* again.\n",
    "\n",
    "for i in range(10):\n",
    "    print(i)"
   ]
  },
  {
   "cell_type": "code",
   "execution_count": null,
   "id": "passive-colony",
   "metadata": {},
   "outputs": [],
   "source": [
    "for i in range(10):\n",
    "    print(i, '^2 =', i**2)"
   ]
  },
  {
   "cell_type": "code",
   "execution_count": null,
   "id": "stretch-capitol",
   "metadata": {},
   "outputs": [],
   "source": [
    "for key, value in d.items():\n",
    "    print(key, value)"
   ]
  },
  {
   "cell_type": "code",
   "execution_count": null,
   "id": "brown-enterprise",
   "metadata": {},
   "outputs": [],
   "source": [
    "# Programming is about managing complexities.\n",
    "# Once you write a program/algorithm, you want to be able to resue it.\n",
    "# Python allows you define a function.\n",
    "\n",
    "def func(a):\n",
    "    return a * a"
   ]
  },
  {
   "cell_type": "code",
   "execution_count": null,
   "id": "armed-submission",
   "metadata": {},
   "outputs": [],
   "source": [
    "func(8)"
   ]
  },
  {
   "cell_type": "code",
   "execution_count": null,
   "id": "small-northeast",
   "metadata": {},
   "outputs": [],
   "source": [
    "for i in range(10):\n",
    "    print(i, '^2 = ', func(i))"
   ]
  },
  {
   "cell_type": "code",
   "execution_count": null,
   "id": "living-germany",
   "metadata": {},
   "outputs": [],
   "source": [
    "# We may combine the data structures we learned with functions and return mutiple values through tuples.\n",
    "# This is actually a special feature in python!  Other language such as C can only return one value.\n",
    "\n",
    "def divmod(a, b):\n",
    "    # Return both the quotient and remainder\n",
    "    q = a // b\n",
    "    r = a %  b\n",
    "    return q, r"
   ]
  },
  {
   "cell_type": "code",
   "execution_count": null,
   "id": "formed-oxford",
   "metadata": {},
   "outputs": [],
   "source": [
    "# You may get them through a tuple\n",
    "\n",
    "qr = divmod(10, 3)\n",
    "print(qr[0])\n",
    "print(qr[1])"
   ]
  },
  {
   "cell_type": "code",
   "execution_count": null,
   "id": "utility-waterproof",
   "metadata": {},
   "outputs": [],
   "source": [
    "# Or you may \"unpack\" them inline\n",
    "\n",
    "q, r = divmod(10, 3)\n",
    "print(q)\n",
    "print(r)"
   ]
  },
  {
   "cell_type": "code",
   "execution_count": null,
   "id": "f29e2757",
   "metadata": {},
   "outputs": [],
   "source": [
    "# Function may call itself.  This is called recursion in computer science\n",
    "\n",
    "def factorial(n):\n",
    "    if n == 0:\n",
    "        return 1\n",
    "    else:\n",
    "        return n * factorial(n-1)\n",
    "\n",
    "for i in range(10):\n",
    "    print(factorial(i))"
   ]
  },
  {
   "cell_type": "code",
   "execution_count": null,
   "id": "4ae7ae72-0fd1-48c7-ade6-8d574bc69882",
   "metadata": {},
   "outputs": [],
   "source": [
    "# Sometime, the computer cannot do what you ask it to do.\n",
    "\n",
    "int('3.1415')"
   ]
  },
  {
   "cell_type": "code",
   "execution_count": null,
   "id": "24fdb263-1549-455d-80d5-1a458fa5df69",
   "metadata": {},
   "outputs": [],
   "source": [
    "z = 0\n",
    "1 / z"
   ]
  },
  {
   "cell_type": "code",
   "execution_count": null,
   "id": "a45a1c24-1b4b-4bf4-a820-bafaaeddce59",
   "metadata": {},
   "outputs": [],
   "source": [
    "# Python provides a mechanism to handle it called \"exception\".  The syntax is:\n",
    "\n",
    "try:\n",
    "    1 / z\n",
    "except ZeroDivisionError:\n",
    "    print('Cannot divide by zero')"
   ]
  },
  {
   "cell_type": "code",
   "execution_count": null,
   "id": "0a8002eb-d1e8-4b07-9e0c-99030a97b880",
   "metadata": {},
   "outputs": [],
   "source": [
    "# There are two schools of error handling.\n",
    "# In more traditional programming languages in C,\n",
    "# you are supposed to think about all possible cases a calculation may fail,\n",
    "# and take care of them before performing the calculation.\n",
    "\n",
    "if z == 0:\n",
    "    print('Cannot divide by zero')\n",
    "else:\n",
    "    1 / z\n",
    "    \n",
    "# But \"pythonic\" code typically performs less checks before a calculation.\n",
    "# When an error shows up, then you place it in a try-except block to handle the exception.\n",
    "#\n",
    "# Personally I found the old-school method is more useful in scientific computing.\n",
    "# We will see an application in the assignment."
   ]
  }
 ],
 "metadata": {
  "celltoolbar": "Slideshow",
  "kernelspec": {
   "display_name": "Python 3 (ipykernel)",
   "language": "python",
   "name": "python3"
  },
  "language_info": {
   "codemirror_mode": {
    "name": "ipython",
    "version": 3
   },
   "file_extension": ".py",
   "mimetype": "text/x-python",
   "name": "python",
   "nbconvert_exporter": "python",
   "pygments_lexer": "ipython3",
   "version": "3.9.10"
  }
 },
 "nbformat": 4,
 "nbformat_minor": 5
}
