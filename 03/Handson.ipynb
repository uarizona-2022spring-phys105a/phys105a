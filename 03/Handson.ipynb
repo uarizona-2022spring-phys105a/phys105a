{
 "cells": [
  {
   "cell_type": "markdown",
   "id": "prostate-myanmar",
   "metadata": {
    "slideshow": {
     "slide_type": "slide"
    }
   },
   "source": [
    "## PHYS 105A:  Introduction to Scientific Computing\n",
    "\n",
    "# The `Python` Programming Language\n",
    "\n",
    "Chi-kwan Chan"
   ]
  },
  {
   "cell_type": "markdown",
   "id": "considered-newsletter",
   "metadata": {
    "slideshow": {
     "slide_type": "slide"
    }
   },
   "source": [
    "## Hands-on Python in the Interpreter\n",
    "\n",
    "We will use the python interperter to try the following demos.  First, go to the class repository that you've cloned last time.  Do `git pull` to get the latest version.  And then `cd 03` to get in this lecture.  Then type `python3`.\n",
    "\n",
    "    ckc@landau 03 % python3\n",
    "    Python 3.9.10 (main, Jan 15 2022, 12:21:28) \n",
    "    [Clang 13.0.0 (clang-1300.0.29.3)] on darwin\n",
    "    Type \"help\", \"copyright\", \"credits\" or \"license\" for more information.\n",
    "    >>> \n",
    "\n",
    "`>>>` is called the prompt of the python interpreter.  It indicates that the interpreter is ready to take python statements.\n",
    "\n",
    "Alternatively, if you have `ipython` installed, you may use it:\n",
    "\n",
    "    ckc@landau 03 % ipython3\n",
    "    Python 3.9.10 (main, Jan 15 2022, 12:21:28) \n",
    "    Type 'copyright', 'credits' or 'license' for more information\n",
    "    IPython 8.0.1 -- An enhanced Interactive Python. Type '?' for help.\n",
    "    \n",
    "    In [1]:\n",
    "    \n",
    "In this case, `In [1]:` indicates that `ipython` is ready to get input."
   ]
  },
  {
   "cell_type": "code",
   "execution_count": null,
   "id": "33db07c9",
   "metadata": {},
   "outputs": [],
   "source": [
    "# Let's remind ourselves what we learned last time.\n",
    "# Type some math formulas, then press Enter, python will interpret your equations and print the output.\n",
    "\n",
    "1 + 2 + 3 + 4"
   ]
  },
  {
   "cell_type": "code",
   "execution_count": null,
   "id": "32e3cc6e",
   "metadata": {},
   "outputs": [],
   "source": [
    "# EXERCISE: Now, type your own equation here and see the outcome."
   ]
  },
  {
   "cell_type": "code",
   "execution_count": null,
   "id": "6de437e8",
   "metadata": {},
   "outputs": [],
   "source": [
    "# One of the most powerful things programming langauges are able to do is to assign names to values.\n",
    "# This is in contrast to spreadsheet software where each \"cell\" is prenamed (e.g., A1, B6).\n",
    "# A value associated with a name is called a varaible.\n",
    "# In python, we simply use the equal sign to assign a value to a variable.\n",
    "\n",
    "a = 1\n",
    "b = 2 + 3\n",
    "\n",
    "# We can then reuse these variables.\n",
    "a + b + 4"
   ]
  },
  {
   "cell_type": "code",
   "execution_count": null,
   "id": "75e0c347",
   "metadata": {},
   "outputs": [],
   "source": [
    "# EXERCISE: create your own variables and check their values."
   ]
  },
  {
   "cell_type": "code",
   "execution_count": null,
   "id": "5cba6986",
   "metadata": {},
   "outputs": [],
   "source": [
    "# Sometime it is convenient to have mutiple outputs on a line.\n",
    "# In such a case, you may use the python function `print()`\n",
    "\n",
    "print(1, 2)\n",
    "print(a, b)"
   ]
  },
  {
   "cell_type": "code",
   "execution_count": null,
   "id": "f7ab784f",
   "metadata": {},
   "outputs": [],
   "source": [
    "# EXERCISE: print results of equations"
   ]
  },
  {
   "cell_type": "code",
   "execution_count": null,
   "id": "4a9761c8",
   "metadata": {},
   "outputs": [],
   "source": [
    "# Speaking of print(), in python, you may use both single or double quotes to create \"string\" of characters.\n",
    "\n",
    "'This is a string of characters.'\n",
    "\n",
    "\"This is also a string of characters.\"\n",
    "\n",
    "# If you have multiple lines of strings, you may use \"docstring\"\n",
    "\n",
    "\"\"\"\n",
    "This is a\n",
    "multi-line\n",
    "string\n",
    "\"\"\"\n",
    "\n",
    "# You can mix strings, numbers, etc in a single print statement.\n",
    "print(\"Numbers:\", 1, 2, 3)"
   ]
  },
  {
   "cell_type": "code",
   "execution_count": null,
   "id": "a4d473d3",
   "metadata": {},
   "outputs": [],
   "source": [
    "# EXERCISE: assign a string to a variable and then print it"
   ]
  },
  {
   "cell_type": "code",
   "execution_count": null,
   "id": "charged-winter",
   "metadata": {},
   "outputs": [],
   "source": [
    "# This is the \"hello world\" program in python that we already learned from later time\n",
    "\n",
    "print(\"Hello Python!\")"
   ]
  },
  {
   "cell_type": "code",
   "execution_count": null,
   "id": "acquired-rover",
   "metadata": {},
   "outputs": [],
   "source": [
    "# Python supports unicode since version 2\n",
    "\n",
    "print(\"Python 你好!\")"
   ]
  },
  {
   "cell_type": "code",
   "execution_count": null,
   "id": "national-dodge",
   "metadata": {},
   "outputs": [],
   "source": [
    "# In the lecture, we learned the different math operations in python: +, -, *, **, /, and //.\n",
    "# Try to use them yourself.\n",
    "# Pay special attention to the ** and // operators.\n",
    "print(a + 3)\n",
    "print(a - 3)\n",
    "print(a * 3)\n",
    "print(a ** 9)\n",
    "print(a /  3)\n",
    "print(a // 3)\n",
    "\n",
    "# * and ** are different\n",
    "print(10*3)\n",
    "print(10**3)\n",
    "\n",
    "# / and // are different\n",
    "print(10/3)\n",
    "print(10//3)"
   ]
  },
  {
   "cell_type": "code",
   "execution_count": null,
   "id": "cb58d82c",
   "metadata": {},
   "outputs": [],
   "source": [
    "# EXERCISE: try out *, **, /, and // yourself.\n",
    "# What if you use them for very big numbers?  Very small numbers?\n",
    "# Do you see any limitation?"
   ]
  },
  {
   "cell_type": "code",
   "execution_count": null,
   "id": "a703d5cb",
   "metadata": {},
   "outputs": [],
   "source": [
    "# COOL TRICK: In python, you use underscores to help writing very big numbers.\n",
    "# E.g., python knows that 1_000_000 is 1000_000 is 1000000.\n",
    "\n",
    "print(1_000_000)\n",
    "print(1000_000)\n",
    "print(1000000)"
   ]
  },
  {
   "cell_type": "code",
   "execution_count": null,
   "id": "941f0a6e",
   "metadata": {},
   "outputs": [],
   "source": [
    "# The integer division is logically equivalent to applying a floor function to the floating point division.\n",
    "# However, the floor function is not a default (built-in) function.\n",
    "# You need to import it from the math package:\n",
    "\n",
    "from math import floor\n",
    "\n",
    "print(10/3)\n",
    "print(10//3)\n",
    "print(floor(10/3))"
   ]
  },
  {
   "cell_type": "code",
   "execution_count": null,
   "id": "255d0a7b",
   "metadata": {},
   "outputs": [],
   "source": [
    "# EXERCISE: try to use the floor() function yourself"
   ]
  },
  {
   "cell_type": "code",
   "execution_count": null,
   "id": "0a3082ca",
   "metadata": {},
   "outputs": [],
   "source": [
    "# There are many useful functions and constants in the math package.\n",
    "# See https://docs.python.org/3/library/math.html\n",
    "\n",
    "from math import pi, sin, cos\n",
    "\n",
    "print(pi)\n",
    "print(sin(pi))\n",
    "print(cos(pi))"
   ]
  },
  {
   "cell_type": "code",
   "execution_count": null,
   "id": "f67419c1",
   "metadata": {},
   "outputs": [],
   "source": [
    "# EXERCISE: try to import additional functions from the math package and test them yourself.\n",
    "# Python math package: https://docs.python.org/3/library/math.html"
   ]
  },
  {
   "cell_type": "code",
   "execution_count": null,
   "id": "recent-alarm",
   "metadata": {},
   "outputs": [],
   "source": [
    "# Python comparison operators\n",
    "\n",
    "a > 3"
   ]
  },
  {
   "cell_type": "code",
   "execution_count": null,
   "id": "entertaining-garlic",
   "metadata": {},
   "outputs": [],
   "source": [
    "# Two equal signs to test if values are equal\n",
    "\n",
    "a == 3"
   ]
  },
  {
   "cell_type": "code",
   "execution_count": null,
   "id": "significant-insulin",
   "metadata": {},
   "outputs": [],
   "source": [
    "a <= 3"
   ]
  },
  {
   "cell_type": "code",
   "execution_count": null,
   "id": "6146d995-ac06-4d21-9238-5339582f8441",
   "metadata": {},
   "outputs": [],
   "source": [
    "# Floating point in python is 64-bit by default.\n",
    "# It has a finite accurate at ~ 1e-16.\n",
    "# This means, if two numbers have a relative difference <~ 1e-16,\n",
    "# python is only able to present these numbers the same way.\n",
    "\n",
    "a = 1.0\n",
    "b = 1.0e-16\n",
    "print(a, b)\n",
    "\n",
    "c = a + b\n",
    "print(a, b, c)\n",
    "\n",
    "print(a == c)"
   ]
  },
  {
   "cell_type": "code",
   "execution_count": null,
   "id": "b460f3de",
   "metadata": {},
   "outputs": [],
   "source": [
    "# The finite accurate may lead to unexpected behavior.\n",
    "\n",
    "print(0.1 + 0.1 + 0.1)\n",
    "\n",
    "from math import sqrt\n",
    "print(sqrt(2) * sqrt(2) - 2)"
   ]
  },
  {
   "cell_type": "code",
   "execution_count": null,
   "id": "1c9faff4",
   "metadata": {},
   "outputs": [],
   "source": [
    "# EXERCISE: try to come up with other examples that the finite math accurate breaks math."
   ]
  },
  {
   "cell_type": "code",
   "execution_count": null,
   "id": "finite-medline",
   "metadata": {},
   "outputs": [],
   "source": [
    "# Conditional statement: \n",
    "#\n",
    "# if <condition/boolean>:\n",
    "#     <statement>\n",
    "# [else:\n",
    "#     <statement>]\n",
    "#\n",
    "# Note that indentation is *requried*.\n",
    "\n",
    "if a > 3:\n",
    "    print(\"`a` is greater than 3\")\n",
    "else:\n",
    "    print(\"`a` is not greater than 3\")"
   ]
  },
  {
   "cell_type": "code",
   "execution_count": null,
   "id": "julian-editor",
   "metadata": {},
   "outputs": [],
   "source": [
    "# No indentation will give you error.\n",
    "\n",
    "if a > 3:\n",
    "print(\"`a` is greater than 3\")\n",
    "else:\n",
    "print(\"`a` is not greater than 3\")"
   ]
  },
  {
   "cell_type": "code",
   "execution_count": null,
   "id": "interracial-frost",
   "metadata": {},
   "outputs": [],
   "source": [
    "# In addition to computing, computers are also good at accounting.\n",
    "# Therefore, we need data structures to manage data.\n",
    "# The simplest python data structure is a \"tuple\"\n",
    "\n",
    "t = (1, 2.0, '3')\n",
    "t"
   ]
  },
  {
   "cell_type": "code",
   "execution_count": null,
   "id": "developmental-turkish",
   "metadata": {},
   "outputs": [],
   "source": [
    "# You may access value of a tuple by its index\n",
    "\n",
    "print(t[0])\n",
    "\n",
    "# or you may \"unpack\" it by assignment\n",
    "\n",
    "a, b, c = t\n",
    "print(a)\n",
    "print(b)\n",
    "print(c)"
   ]
  },
  {
   "cell_type": "code",
   "execution_count": null,
   "id": "heated-greece",
   "metadata": {},
   "outputs": [],
   "source": [
    "# Tuples are immutable, i.e., you cannot change its conent.\n",
    "# The following will give you error.\n",
    "\n",
    "t[0] = 1"
   ]
  },
  {
   "cell_type": "code",
   "execution_count": null,
   "id": "brown-enterprise",
   "metadata": {},
   "outputs": [],
   "source": [
    "# Programming is about managing complexities.\n",
    "# Once you write a program/algorithm, you want to be able to resue it.\n",
    "# Python allows you define a function.\n",
    "\n",
    "def func(a):\n",
    "    return a * a"
   ]
  },
  {
   "cell_type": "code",
   "execution_count": null,
   "id": "armed-submission",
   "metadata": {},
   "outputs": [],
   "source": [
    "func(8)"
   ]
  },
  {
   "cell_type": "code",
   "execution_count": null,
   "id": "living-germany",
   "metadata": {},
   "outputs": [],
   "source": [
    "# We may combine the data structures we learned with functions and\n",
    "# return mutiple values through tuples.\n",
    "# This is actually a special feature in python!\n",
    "# Other language such as C can only return one value.\n",
    "\n",
    "def divmod(a, b):\n",
    "    # Return both the quotient and remainder\n",
    "    q = a // b\n",
    "    r = a %  b\n",
    "    return q, r"
   ]
  },
  {
   "cell_type": "code",
   "execution_count": null,
   "id": "formed-oxford",
   "metadata": {},
   "outputs": [],
   "source": [
    "# You may get them through a tuple\n",
    "\n",
    "qr = divmod(10, 3)\n",
    "print(qr[0])\n",
    "print(qr[1])"
   ]
  },
  {
   "cell_type": "code",
   "execution_count": null,
   "id": "utility-waterproof",
   "metadata": {},
   "outputs": [],
   "source": [
    "# Or you may \"unpack\" them inline\n",
    "\n",
    "q, r = divmod(10, 3)\n",
    "print(q)\n",
    "print(r)"
   ]
  },
  {
   "cell_type": "code",
   "execution_count": null,
   "id": "4ae7ae72-0fd1-48c7-ade6-8d574bc69882",
   "metadata": {},
   "outputs": [],
   "source": [
    "# Sometime, the computer cannot do what you ask it to do.\n",
    "\n",
    "int('3.1415')"
   ]
  },
  {
   "cell_type": "code",
   "execution_count": null,
   "id": "24fdb263-1549-455d-80d5-1a458fa5df69",
   "metadata": {},
   "outputs": [],
   "source": [
    "# Sometime, the computer cannot do what you ask it to do.\n",
    "\n",
    "z = 0\n",
    "1 / z"
   ]
  },
  {
   "cell_type": "code",
   "execution_count": null,
   "id": "a45a1c24-1b4b-4bf4-a820-bafaaeddce59",
   "metadata": {},
   "outputs": [],
   "source": [
    "# Python provides a mechanism to handle it called \"exception\".  The syntax is:\n",
    "\n",
    "try:\n",
    "    1 / z\n",
    "except ZeroDivisionError:\n",
    "    print('Cannot divide by zero')"
   ]
  },
  {
   "cell_type": "code",
   "execution_count": null,
   "id": "0a8002eb-d1e8-4b07-9e0c-99030a97b880",
   "metadata": {},
   "outputs": [],
   "source": [
    "# There are two schools of error handling.\n",
    "# In more traditional programming languages in C,\n",
    "# you are supposed to think about all possible cases a calculation may fail,\n",
    "# and take care of them before performing the calculation.\n",
    "\n",
    "if z == 0:\n",
    "    print('Cannot divide by zero')\n",
    "else:\n",
    "    1 / z\n",
    "    \n",
    "# But \"pythonic\" code typically performs less checks before a calculation.\n",
    "# When an error shows up, then you place it in a try-except block to handle the exception.\n",
    "#\n",
    "# Personally I found the old-school method is more useful in scientific computing.\n",
    "# We will see an application in the assignment."
   ]
  },
  {
   "cell_type": "markdown",
   "id": "fa744cb5-1ba1-47bd-b62e-2221cfc8a45d",
   "metadata": {
    "slideshow": {
     "slide_type": "slide"
    }
   },
   "source": [
    "## Hands-on Python as a Script\n",
    "\n",
    "While the `python` interpreter is handy in trying out short codes, we often want to put all the code into a self-contained text file so it is repeatable and reproducable.\n",
    "\n",
    "In the next hands-on exercise, we will write a python script that runs like a program on *nix systems.\n",
    "This program `area.py` would take exactly one argument from the command line, interpret it as the radius of a circle, and then compute and print out the area of the circle."
   ]
  },
  {
   "cell_type": "markdown",
   "id": "2f023153",
   "metadata": {
    "slideshow": {
     "slide_type": "subslide"
    }
   },
   "source": [
    "### Create an empty python script\n",
    "\n",
    "* The first step is to create an empty text file using your favorite editor.\n",
    "\n",
    "* Name the file `area.py`.\n",
    "\n",
    "* And type `python3 area.py` in your terminal.  Python should read the empty file, do nothing, and terminate."
   ]
  },
  {
   "cell_type": "markdown",
   "id": "9b828c93",
   "metadata": {
    "slideshow": {
     "slide_type": "subslide"
    }
   },
   "source": [
    "### Make the script executable\n",
    "\n",
    "* While running the script with `python3 area.py` is fine, sometimes, we want to make the script work like a standard Unix program such as `ls` and `cd`.\n",
    "\n",
    "* To do so, we need to do two things:\n",
    "\n",
    "  1. Add a new line `#!/usr/bin/env python3` at the beginning of `area.py`.  `#!` is referred as the \"shebang\" or \"hashbang\".  It tells the shell that the text file can be executed by running the command after `#!`, which in our case is `/usr/bin/env python3`.  The standard Unix program `/usr/bin/env` would search your path and provide the default python3 interperter.\n",
    "  \n",
    "  2. Type `chmod a+x area.py` on your command to flag the text file as executable.\n",
    "  \n",
    "* One the above two steps are done, you can run the script as `./area.py`."
   ]
  },
  {
   "cell_type": "markdown",
   "id": "693857cc",
   "metadata": {
    "slideshow": {
     "slide_type": "subslide"
    }
   },
   "source": [
    "### Implement a function that compute the area of a circle\n",
    "\n",
    "* Because computing the area of a circle require the `pi` constant, we need to import `pi` from python's standard `math` package:\n",
    "\n",
    "      from math import pi\n",
    "\n",
    "* Next, we should define a function `area()` that takes the radius of a circle and return its area:\n",
    "\n",
    "      def area(r):\n",
    "          return ______ # type the equation here"
   ]
  },
  {
   "cell_type": "markdown",
   "id": "bd662941",
   "metadata": {
    "slideshow": {
     "slide_type": "subslide"
    }
   },
   "source": [
    "### Perform the computation and print out the result\n",
    "\n",
    "* Let's save the radius of a circle into a variable:\n",
    "\n",
    "      r = 1\n",
    "      \n",
    "* And then we can compute and print the area using\n",
    "\n",
    "      A = area(r)\n",
    "      print('Area of a circle with radius', r, 'is', A)\n",
    "      \n",
    "* Save the file and execute with `./area.py`.  Congratulations!  You've used python to perform a non-trivial computation!\n",
    "\n",
    "* Feel free to change `r`, save, and rerun the program, and check if `area.py` gives you the correct answer."
   ]
  },
  {
   "cell_type": "markdown",
   "id": "ed417263",
   "metadata": {
    "slideshow": {
     "slide_type": "subslide"
    }
   },
   "source": [
    "### Take command line argument using `argparse`\n",
    "\n",
    "* Although the script is working, it is annoying that we need to open it, change `r`, save it, every time we want to change the radius.\n",
    "\n",
    "* We can use python's `argparse` package to parse command line arguments.  To do so,\n",
    "\n",
    "  1. Add `import argparse` after `from math import pi` to bring in the `argparse` package.\n",
    "  \n",
    "  2. Right after the definition of `area()`, add\n",
    "  \n",
    "         parser = argparse.ArgumentParser(description=\"This program compute the area of a circle.\")\n",
    "         \n",
    "     This creates a `parser` for the command line arguments.\n",
    "     \n",
    "  3. Then, we tell the parser that we want exactly one argument:\n",
    "  \n",
    "         parser.add_argument(\"r\", type=float, help=\"the radius of a circle\")\n",
    "         \n",
    "  4. Finally, we trigger `parser` to parse the command line arguments for us.\n",
    "  \n",
    "         args = parser.parse_args()\n",
    "         \n",
    "* You may test the features of `argparse` by typing:\n",
    "\n",
    "      ./area.py\n",
    "      ./area.py -h\n",
    "      ./area.py 1"
   ]
  },
  {
   "cell_type": "markdown",
   "id": "2117d37c",
   "metadata": {
    "slideshow": {
     "slide_type": "subslide"
    }
   },
   "source": [
    "### Use the command line argument\n",
    "\n",
    "* The last step is to simply use the command line argument.\n",
    "\n",
    "  1. After the `args = parser.parse_args()` line, we can assign the result of the parsing to the `r` variable.\n",
    "  \n",
    "         r = args.r\n",
    "         \n",
    "* That's it!  You have a script that can take a command line argument, interpert it as the radius of a cricle, and print the area."
   ]
  },
  {
   "cell_type": "markdown",
   "id": "29e6d55b",
   "metadata": {
    "slideshow": {
     "slide_type": "slide"
    }
   },
   "source": [
    "## Next Step\n",
    "\n",
    "In the assignment for this week, you will write a similar script to compute the roots of a quadratic equation.\n",
    "\n",
    "You can accept the assignment from GitHub classroom: https://classroom.github.com/a/0dcZAhe9 ."
   ]
  }
 ],
 "metadata": {
  "celltoolbar": "Slideshow",
  "kernelspec": {
   "display_name": "Python 3 (ipykernel)",
   "language": "python",
   "name": "python3"
  },
  "language_info": {
   "codemirror_mode": {
    "name": "ipython",
    "version": 3
   },
   "file_extension": ".py",
   "mimetype": "text/x-python",
   "name": "python",
   "nbconvert_exporter": "python",
   "pygments_lexer": "ipython3",
   "version": "3.9.10"
  }
 },
 "nbformat": 4,
 "nbformat_minor": 5
}
