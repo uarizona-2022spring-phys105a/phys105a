{
 "cells": [
  {
   "cell_type": "markdown",
   "id": "prostate-myanmar",
   "metadata": {
    "slideshow": {
     "slide_type": "slide"
    }
   },
   "source": [
    "## PHYS 105A:  Introduction to Scientific Computing\n",
    "\n",
    "# The `Python` Programming Language\n",
    "\n",
    "Chi-kwan Chan"
   ]
  },
  {
   "cell_type": "markdown",
   "id": "automotive-compound",
   "metadata": {
    "slideshow": {
     "slide_type": "slide"
    }
   },
   "source": [
    "## History of `Python`\n",
    "\n",
    "* `Python` was developed by Guido van Rossum the Netherlands in late 1980s\n",
    "* `Python` 2.0 was released on 16 October 2000.  Major features include garbage collector and support for Unicode.\n",
    "* `Python` 3.0 was released 3 December 2008.\n",
    "* You SHOULD use `python3` these days!\n",
    "\n",
    "![Guido van Rossum](https://upload.wikimedia.org/wikipedia/commons/e/e2/Guido-portrait-2014-drc.jpg)"
   ]
  },
  {
   "cell_type": "markdown",
   "id": "charming-particle",
   "metadata": {
    "slideshow": {
     "slide_type": "slide"
    }
   },
   "source": [
    "## Zen of Python\n",
    "\n",
    "* Beautiful is better than ugly.\n",
    "* Explicit is better than implicit.\n",
    "* Simple is better than complex.\n",
    "* Complex is better than complicated.\n",
    "* Readability counts."
   ]
  },
  {
   "cell_type": "markdown",
   "id": "98a381fd",
   "metadata": {
    "slideshow": {
     "slide_type": "slide"
    }
   },
   "source": [
    "## Python is Popular\n",
    "\n",
    "* Currently, python is the *most* popular programming langauge https://www.tiobe.com/tiobe-index\n",
    "* An active ecosystem with many external packages\n",
    "* Very well design tools such as `Jupyter`\n",
    "* Possible to integrate with other languages like `C`"
   ]
  },
  {
   "cell_type": "markdown",
   "id": "1315986e",
   "metadata": {
    "slideshow": {
     "slide_type": "slide"
    }
   },
   "source": [
    "## Python is Powerful\n",
    "\n",
    "* Python's package system makes it very easy to introduce new features.\n",
    "* \"Core\" numerical packages include `numpy`, `pandas`, `scipy`.\n",
    "* https://dedalus-project.org/\n",
    "* TensorFlow, PyTorch, JAX for machine learning"
   ]
  }
 ],
 "metadata": {
  "celltoolbar": "Slideshow",
  "kernelspec": {
   "display_name": "Python 3 (ipykernel)",
   "language": "python",
   "name": "python3"
  },
  "language_info": {
   "codemirror_mode": {
    "name": "ipython",
    "version": 3
   },
   "file_extension": ".py",
   "mimetype": "text/x-python",
   "name": "python",
   "nbconvert_exporter": "python",
   "pygments_lexer": "ipython3",
   "version": "3.9.10"
  }
 },
 "nbformat": 4,
 "nbformat_minor": 5
}
